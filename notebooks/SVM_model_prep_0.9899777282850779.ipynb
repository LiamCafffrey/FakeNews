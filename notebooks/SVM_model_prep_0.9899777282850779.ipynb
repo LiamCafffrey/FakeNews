{
 "cells": [
  {
   "cell_type": "markdown",
   "metadata": {},
   "source": [
    "# Importing the dataset"
   ]
  },
  {
   "cell_type": "code",
   "execution_count": 7,
   "metadata": {},
   "outputs": [],
   "source": [
    "import pandas as pd\n",
    "import seaborn as sns\n",
    "import numpy as np\n",
    "import matplotlib.pyplot as plt\n",
    "from nltk.tokenize import word_tokenize\n",
    "import nltk\n",
    "from nltk.stem import WordNetLemmatizer\n",
    "\n",
    "true = pd.read_csv('../raw_data/True.csv')\n",
    "fake = pd.read_csv('../raw_data/Fake.csv')"
   ]
  },
  {
   "cell_type": "code",
   "execution_count": 8,
   "metadata": {},
   "outputs": [],
   "source": [
    "true.drop(columns = ['subject','date'], inplace = True)\n",
    "fake.drop(columns = ['subject','date'], inplace = True)"
   ]
  },
  {
   "cell_type": "code",
   "execution_count": 9,
   "metadata": {},
   "outputs": [],
   "source": [
    "true_copy = true.copy()\n",
    "fake_copy = fake.copy()"
   ]
  },
  {
   "cell_type": "markdown",
   "metadata": {},
   "source": [
    "# Removing Getty"
   ]
  },
  {
   "cell_type": "code",
   "execution_count": 10,
   "metadata": {},
   "outputs": [],
   "source": [
    "stop_words =['/Getty Images']\n",
    "pat = '|'.join(r\"\\b{}\\b\".format(x) for x in stop_words)\n",
    "true_copy['text'] = true_copy['text'].str.replace(pat, '')\n",
    "\n",
    "stop_words =['/Getty Images']\n",
    "pat = '|'.join(r\"\\b{}\\b\".format(x) for x in stop_words)\n",
    "fake_copy['text'] = fake_copy['text'].str.replace(pat, '')"
   ]
  },
  {
   "cell_type": "code",
   "execution_count": null,
   "metadata": {},
   "outputs": [],
   "source": []
  },
  {
   "cell_type": "markdown",
   "metadata": {},
   "source": []
  },
  {
   "cell_type": "code",
   "execution_count": null,
   "metadata": {},
   "outputs": [],
   "source": []
  },
  {
   "cell_type": "markdown",
   "metadata": {},
   "source": [
    "# Feature Engineering"
   ]
  },
  {
   "cell_type": "code",
   "execution_count": 11,
   "metadata": {},
   "outputs": [],
   "source": [
    "true_copy['title_length_char'] = true_copy.title.str.len()\n",
    "fake_copy['title_length_char'] = fake_copy.title.str.len()"
   ]
  },
  {
   "cell_type": "code",
   "execution_count": 12,
   "metadata": {},
   "outputs": [],
   "source": [
    "true_copy['title_Upper'] = true_copy['title'].str.count(r'[A-Z]')\n",
    "\n",
    "fake_copy['title_Upper'] = fake_copy['title'].str.count(r'[A-Z]')"
   ]
  },
  {
   "cell_type": "code",
   "execution_count": 13,
   "metadata": {},
   "outputs": [],
   "source": [
    "true_copy['title_lower_ratio'] = true_copy.title_Upper / true_copy.title_length_char\n",
    "true_copy.drop(columns = 'title_Upper', inplace = True)\n",
    "\n"
   ]
  },
  {
   "cell_type": "code",
   "execution_count": 14,
   "metadata": {},
   "outputs": [],
   "source": [
    "fake_copy['title_lower_ratio'] = fake_copy.title_Upper / fake_copy.title_length_char\n",
    "fake_copy.drop(columns = 'title_Upper', inplace = True)"
   ]
  },
  {
   "cell_type": "markdown",
   "metadata": {},
   "source": [
    "# Setting the target"
   ]
  },
  {
   "cell_type": "code",
   "execution_count": 15,
   "metadata": {},
   "outputs": [],
   "source": [
    "true_copy['score'] = 1\n",
    "fake_copy['score'] = 0"
   ]
  },
  {
   "cell_type": "code",
   "execution_count": 16,
   "metadata": {},
   "outputs": [],
   "source": [
    "data = pd.concat([true_copy, fake_copy], ignore_index=True)"
   ]
  },
  {
   "cell_type": "markdown",
   "metadata": {},
   "source": [
    "# Data title + Data text"
   ]
  },
  {
   "cell_type": "code",
   "execution_count": 17,
   "metadata": {},
   "outputs": [],
   "source": [
    "data['title_text'] = data['title'] + data['text']"
   ]
  },
  {
   "cell_type": "code",
   "execution_count": 18,
   "metadata": {},
   "outputs": [],
   "source": [
    "data.drop(columns = ['title','text'], inplace = True)\n"
   ]
  },
  {
   "cell_type": "code",
   "execution_count": 19,
   "metadata": {},
   "outputs": [
    {
     "data": {
      "text/html": [
       "<div>\n",
       "<style scoped>\n",
       "    .dataframe tbody tr th:only-of-type {\n",
       "        vertical-align: middle;\n",
       "    }\n",
       "\n",
       "    .dataframe tbody tr th {\n",
       "        vertical-align: top;\n",
       "    }\n",
       "\n",
       "    .dataframe thead th {\n",
       "        text-align: right;\n",
       "    }\n",
       "</style>\n",
       "<table border=\"1\" class=\"dataframe\">\n",
       "  <thead>\n",
       "    <tr style=\"text-align: right;\">\n",
       "      <th></th>\n",
       "      <th>title_length_char</th>\n",
       "      <th>title_lower_ratio</th>\n",
       "      <th>score</th>\n",
       "      <th>title_text</th>\n",
       "    </tr>\n",
       "  </thead>\n",
       "  <tbody>\n",
       "    <tr>\n",
       "      <th>0</th>\n",
       "      <td>64</td>\n",
       "      <td>0.062500</td>\n",
       "      <td>1</td>\n",
       "      <td>As U.S. budget fight looms, Republicans flip t...</td>\n",
       "    </tr>\n",
       "    <tr>\n",
       "      <th>1</th>\n",
       "      <td>64</td>\n",
       "      <td>0.062500</td>\n",
       "      <td>1</td>\n",
       "      <td>U.S. military to accept transgender recruits o...</td>\n",
       "    </tr>\n",
       "    <tr>\n",
       "      <th>2</th>\n",
       "      <td>60</td>\n",
       "      <td>0.116667</td>\n",
       "      <td>1</td>\n",
       "      <td>Senior U.S. Republican senator: 'Let Mr. Muell...</td>\n",
       "    </tr>\n",
       "    <tr>\n",
       "      <th>3</th>\n",
       "      <td>59</td>\n",
       "      <td>0.135593</td>\n",
       "      <td>1</td>\n",
       "      <td>FBI Russia probe helped by Australian diplomat...</td>\n",
       "    </tr>\n",
       "    <tr>\n",
       "      <th>4</th>\n",
       "      <td>69</td>\n",
       "      <td>0.057971</td>\n",
       "      <td>1</td>\n",
       "      <td>Trump wants Postal Service to charge 'much mor...</td>\n",
       "    </tr>\n",
       "  </tbody>\n",
       "</table>\n",
       "</div>"
      ],
      "text/plain": [
       "   title_length_char  title_lower_ratio  score  \\\n",
       "0                 64           0.062500      1   \n",
       "1                 64           0.062500      1   \n",
       "2                 60           0.116667      1   \n",
       "3                 59           0.135593      1   \n",
       "4                 69           0.057971      1   \n",
       "\n",
       "                                          title_text  \n",
       "0  As U.S. budget fight looms, Republicans flip t...  \n",
       "1  U.S. military to accept transgender recruits o...  \n",
       "2  Senior U.S. Republican senator: 'Let Mr. Muell...  \n",
       "3  FBI Russia probe helped by Australian diplomat...  \n",
       "4  Trump wants Postal Service to charge 'much mor...  "
      ]
     },
     "execution_count": 19,
     "metadata": {},
     "output_type": "execute_result"
    }
   ],
   "source": [
    "data.head()"
   ]
  },
  {
   "cell_type": "markdown",
   "metadata": {},
   "source": [
    "# Preprocessing"
   ]
  },
  {
   "cell_type": "code",
   "execution_count": 20,
   "metadata": {},
   "outputs": [],
   "source": [
    "def lower_case(text):\n",
    "    text = text.lower()\n",
    "    return text\n",
    "data['title_text'] = data['title_text'].map(lower_case)\n"
   ]
  },
  {
   "cell_type": "code",
   "execution_count": 21,
   "metadata": {},
   "outputs": [
    {
     "data": {
      "text/plain": [
       "'as u.s. budget fight looms, republicans flip their fiscal scriptwashington (reuters) - the head of a conservative republican faction in the u.s. congress, who voted this month for a huge expansion of the national debt to pay for tax cuts, called himself a “fiscal conservative” on sunday and urged budget restraint in 2018. in keeping with a sharp pivot under way among republicans, u.s. representative mark meadows, speaking on cbs’ “face the nation,” drew a hard line on federal spending, which lawmakers are bracing to do battle over in january. when they return from the holidays on wednesday, lawmakers will begin trying to pass a federal budget in a fight likely to be linked to other issues, such as immigration policy, even as the november congressional election campaigns approach in which republicans will seek to keep control of congress. president donald trump and his republicans want a big budget increase in military spending, while democrats also want proportional increases for non-defense “discretionary” spending on programs that support education, scientific research, infrastructure, public health and environmental protection. “the (trump) administration has already been willing to say: ‘we’re going to increase non-defense discretionary spending ... by about 7 percent,’” meadows, chairman of the small but influential house freedom caucus, said on the program. “now, democrats are saying that’s not enough, we need to give the government a pay raise of 10 to 11 percent. for a fiscal conservative, i don’t see where the rationale is. ... eventually you run out of other people’s money,” he said. meadows was among republicans who voted in late december for their party’s debt-financed tax overhaul, which is expected to balloon the federal budget deficit and add about $1.5 trillion over 10 years to the $20 trillion national debt. “it’s interesting to hear mark talk about fiscal responsibility,” democratic u.s. representative joseph crowley said on cbs. crowley said the republican tax bill would require the  united states to borrow $1.5 trillion, to be paid off by future generations, to finance tax cuts for corporations and the rich. “this is one of the least ... fiscally responsible bills we’ve ever seen passed in the history of the house of representatives. i think we’re going to be paying for this for many, many years to come,” crowley said. republicans insist the tax package, the biggest u.s. tax overhaul in more than 30 years,  will boost the economy and job growth. house speaker paul ryan, who also supported the tax bill, recently went further than meadows, making clear in a radio interview that welfare or “entitlement reform,” as the party often calls it, would be a top republican priority in 2018. in republican parlance, “entitlement” programs mean food stamps, housing assistance, medicare and medicaid health insurance for the elderly, poor and disabled, as well as other programs created by washington to assist the needy. democrats seized on ryan’s early december remarks, saying they showed republicans would try to pay for their tax overhaul by seeking spending cuts for social programs. but the goals of house republicans may have to take a back seat to the senate, where the votes of some democrats will be needed to approve a budget and prevent a government shutdown. democrats will use their leverage in the senate, which republicans narrowly control, to defend both discretionary non-defense programs and social spending, while tackling the issue of the “dreamers,” people brought illegally to the country as children. trump in september put a march 2018 expiration date on the deferred action for childhood arrivals, or daca, program, which protects the young immigrants from deportation and provides them with work permits. the president has said in recent twitter messages he wants funding for his proposed mexican border wall and other immigration law changes in exchange for agreeing to help the dreamers. representative debbie dingell told cbs she did not favor linking that issue to other policy objectives, such as wall funding. “we need to do daca clean,” she said.  on wednesday, trump aides will meet with congressional leaders to discuss those issues. that will be followed by a weekend of strategy sessions for trump and republican leaders on jan. 6 and 7, the white house said. trump was also scheduled to meet on sunday with florida republican governor rick scott, who wants more emergency aid. the house has passed an $81 billion aid package after hurricanes in florida, texas and puerto rico, and wildfires in california. the package far exceeded the $44 billion requested by the trump administration. the senate has not yet voted on the aid. '"
      ]
     },
     "execution_count": 21,
     "metadata": {},
     "output_type": "execute_result"
    }
   ],
   "source": [
    "data['title_text'][0]"
   ]
  },
  {
   "cell_type": "code",
   "execution_count": 22,
   "metadata": {},
   "outputs": [],
   "source": [
    "from nltk.corpus import stopwords\n",
    "stop_words = set(stopwords.words('english'))\n",
    "data['title_text'] = data['title_text'].apply(lambda x: ' '.join([word for word in x.split() if word not in (stop_words)]))\n"
   ]
  },
  {
   "cell_type": "code",
   "execution_count": 23,
   "metadata": {},
   "outputs": [],
   "source": [
    "import string\n",
    "punc = string.punctuation + '“' + '”' + '’' + '‘'\n",
    "def remove_punctuation(text):\n",
    "    for punctuation in punc:\n",
    "        text = text.replace(punctuation, '')\n",
    "    return text\n",
    "\n",
    "\n",
    "data['title_text'] = data['title_text'].apply(remove_punctuation)\n"
   ]
  },
  {
   "cell_type": "code",
   "execution_count": 24,
   "metadata": {},
   "outputs": [],
   "source": [
    "def remove_numbers(text):\n",
    "    text = ''.join(word for word in text if not word.isdigit())\n",
    "    return text\n",
    "data['title_text'] = data['title_text'].map(remove_numbers)\n"
   ]
  },
  {
   "cell_type": "code",
   "execution_count": null,
   "metadata": {},
   "outputs": [],
   "source": []
  },
  {
   "cell_type": "markdown",
   "metadata": {},
   "source": [
    "# Tokenizing"
   ]
  },
  {
   "cell_type": "code",
   "execution_count": 25,
   "metadata": {},
   "outputs": [],
   "source": [
    "#from nltk.tokenize import word_tokenize\n",
    "#def tokenize(text):\n",
    "    #token= word_tokenize(text)\n",
    "    #return token\n",
    "#data['title_text'] = data['title_text'].apply(tokenize)"
   ]
  },
  {
   "cell_type": "markdown",
   "metadata": {},
   "source": []
  },
  {
   "cell_type": "code",
   "execution_count": null,
   "metadata": {},
   "outputs": [],
   "source": []
  },
  {
   "cell_type": "code",
   "execution_count": null,
   "metadata": {},
   "outputs": [],
   "source": []
  },
  {
   "cell_type": "markdown",
   "metadata": {},
   "source": [
    "# Lemmatizer"
   ]
  },
  {
   "cell_type": "code",
   "execution_count": 26,
   "metadata": {},
   "outputs": [
    {
     "data": {
      "text/plain": [
       "0        [u, s,  , b, u, d, g, e, t,  , f, i, g, h, t, ...\n",
       "1        [u, s,  , m, i, l, i, t, a, r, y,  , a, c, c, ...\n",
       "2        [s, e, n, i, o, r,  , u, s,  , r, e, p, u, b, ...\n",
       "3        [f, b, i,  , r, u, s, s, i, a,  , p, r, o, b, ...\n",
       "4        [t, r, u, m, p,  , w, a, n, t, s,  , p, o, s, ...\n",
       "5        [w, h, i, t, e,  , h, o, u, s, e,  , c, o, n, ...\n",
       "6        [t, r, u, m, p,  , s, a, y, s,  , r, u, s, s, ...\n",
       "7        [f, a, c, t, b, o, x,  , t, r, u, m, p,  , t, ...\n",
       "8        [t, r, u, m, p,  , t, w, i, t, t, e, r,  , d, ...\n",
       "9        [a, l, a, b, a, m, a,  , o, f, f, i, c, i, a, ...\n",
       "10       [j, o, n, e, s,  , c, e, r, t, i, f, i, e, d, ...\n",
       "11       [n, e, w,  , y, o, r, k,  , g, o, v, e, r, n, ...\n",
       "12       [f, a, c, t, b, o, x,  , t, r, u, m, p,  , t, ...\n",
       "13       [t, r, u, m, p,  , t, w, i, t, t, e, r,  , d, ...\n",
       "14       [m, a, n,  , s, a, y, s,  , d, e, l, i, v, e, ...\n",
       "15       [v, i, r, g, i, n, i, a,  , o, f, f, i, c, i, ...\n",
       "16       [u, s,  , l, a, w, m, a, k, e, r, s,  , q, u, ...\n",
       "17       [t, r, u, m, p,  , t, w, i, t, t, e, r,  , d, ...\n",
       "18       [u, s,  , a, p, p, e, a, l, s,  , c, o, u, r, ...\n",
       "19       [t, r, e, a, s, u, r, y,  , s, e, c, r, e, t, ...\n",
       "20       [f, e, d, e, r, a, l,  , j, u, d, g, e,  , p, ...\n",
       "21       [e, x, c, l, u, s, i, v, e,  , u, s,  , m, e, ...\n",
       "22       [t, r, u, m, p,  , t, r, a, v, e, l,  , b, a, ...\n",
       "23       [s, e, c, o, n, d,  , c, o, u, r, t,  , r, e, ...\n",
       "24       [f, a, i, l, e, d,  , v, o, t, e,  , o, u, s, ...\n",
       "25       [t, r, u, m, p,  , s, i, g, n, s,  , t, a, x, ...\n",
       "26       [c, o, m, p, a, n, i, e, s,  , y, e, a, r,  , ...\n",
       "27       [t, r, u, m, p,  , t, w, i, t, t, e, r,  , d, ...\n",
       "28       [m, e, x, i, c, o,  , r, e, v, i, e, w,  , n, ...\n",
       "29       [s, e, n, a, t, e,  , l, e, a, d, e, r,  , m, ...\n",
       "                               ...                        \n",
       "44868    [ , d, e, g, r, e, e, s,  , k, e, v, i, n,  , ...\n",
       "44869    [b, e, r, n, i, e,  , s, a, n, d, e, r, s,  , ...\n",
       "44870    [p, l, a, s, t, i, c,  , p, e, r, s, o, n, a, ...\n",
       "44871    [m, e, e, t,  , j, e, b,  , –,  , g, o, i, n, ...\n",
       "44872    [b, o, i, l, e, r,  , r, o, o, m,  , –,  , e, ...\n",
       "44873    [e, y, e, w, a, s, h,  , c, i, a,  , e, l, i, ...\n",
       "44874    [a, c, t, i, v, i, s, t,  , t, h, i, s,  , m, ...\n",
       "44875    [e, p, i, s, o, d, e,  ,  , –,  , s, u, n, d, ...\n",
       "44876    [f, b, i,  , r, e, l, e, a, s, e,  , o, r, e, ...\n",
       "44877    [t, r, i, a, l,  , y, o, u, t, u, b, e,  , m, ...\n",
       "44878    [r, e, p, o, r, t,  , f, e, d, e, r, a, l,  , ...\n",
       "44879    [b, o, i, l, e, r,  , r, o, o, m,  , –,  , o, ...\n",
       "44880    [e, y, e, w, i, t, n, e, s, s,  , s, a, y, s, ...\n",
       "44881    [e, p, i, s, o, d, e,  ,  , –,  , s, u, n, d, ...\n",
       "44882    [t, h, e, r, e, l, l,  , b, o, o, t, s,  , g, ...\n",
       "44883    [b, o, s, t, o, n,  , b, r, a, k, e, s,  , h, ...\n",
       "44884    [o, r, e, g, o, n,  , g, o, v, e, r, n, o, r, ...\n",
       "44885    [r, o, n,  , p, a, u, l,  , b, u, r, n, s,  , ...\n",
       "44886    [b, o, i, l, e, r,  , r, o, o, m,  , f, r, o, ...\n",
       "44887    [a, r, i, z, o, n, a,  , r, a, n, c, h, e, r, ...\n",
       "44888    [s, e, v, e, n,  , i, r, a, n, i, a, n, s,  , ...\n",
       "44889    [h, a, s, h, t, a, g,  , h, e, l, l,  ,  , f, ...\n",
       "44890    [a, s, t, r, o, t, u, r, f, i, n, g,  , j, o, ...\n",
       "44891    [n, e, w,  , a, m, e, r, i, c, a, n,  , c, e, ...\n",
       "44892    [h, i, l, l, a, r, y,  , c, l, i, n, t, o, n, ...\n",
       "44893    [m, c, p, a, i, n,  , j, o, h, n,  , m, c, c, ...\n",
       "44894    [j, u, s, t, i, c, e,  , y, a, h, o, o,  , s, ...\n",
       "44895    [s, u, n, n, i, s, t, a, n,  , u, s,  , a, l, ...\n",
       "44896    [b, l, o, w,  ,  , m, i, l, l, i, o, n,  , a, ...\n",
       "44897    [ , u, s,  , n, a, v, y,  , s, a, i, l, o, r, ...\n",
       "Name: title_text, Length: 44898, dtype: object"
      ]
     },
     "execution_count": 26,
     "metadata": {},
     "output_type": "execute_result"
    }
   ],
   "source": [
    "def lemmatize_text(text):\n",
    "    lemmatizer = WordNetLemmatizer()\n",
    "    return [lemmatizer.lemmatize(w) for w in text]\n",
    "\n",
    "data['title_text'].apply(lemmatize_text)"
   ]
  },
  {
   "cell_type": "code",
   "execution_count": 27,
   "metadata": {},
   "outputs": [
    {
     "data": {
      "text/plain": [
       "'trump wants postal service charge much more amazon shipmentsseattlewashington reuters  president donald trump called us postal service friday charge much more ship packages amazon amzno picking another fight online retail giant criticized past why united states post office losing many billions dollars year charging amazon others little deliver packages making amazon richer post office dumber poorer charging much more trump wrote twitter presidents tweet drew fresh attention fragile finances postal service time tens millions parcels shipped country holiday season us postal service runs big loss independent agency within federal government receive tax dollars operating expenses according website package delivery become increasingly important part business internet led sharp decline amount firstclass letters president determine postal rates set postal regulatory commission independent government agency commissioners selected president political parties panel raised prices packages almost  percent november amazon founded jeff bezos remains chief executive officer retail company richest person world according bloomberg news bezos also owns washington post newspaper trump repeatedly railed criticisms news media tweets past year trump said amazon washington post fabricated stories said amazon pay sales tax true hurts retailers part pattern former businessman reality television host periodically turning ire big american companies since took office january daniel ives research analyst gbh insights said trumps comment could taken warning retail giant however said concerned amazon we see price hikes future however risk amazon clearly aware it building distribution system aggressively said amazon shown interest past shifting delivery service including testing drones deliveries  company spent  billion shipping  percent total operating expenses year amazon shares  percent  early afternoon overall us stock prices slightly friday satish jindel president shipmatrix inc analyzes shipping data disputed idea postal service charges less united parcel service inc upsn fedex corp fdxn biggest players parcel delivery business united states many customers get lower rates ups fedex would get post office comparable services said postal service delivers  percent amazon packages   million day current peak yearend holiday shipping season jindel said seattlebased company post office agreement mail carriers take amazon packages last leg journeys post offices customers doorsteps amazons no  carrier ups  percent fedex third  percent so according jindel trumps comment tapped debate whether postal service pricing kept pace rise ecommerce flooded mail small packagesprivate companies like ups long claimed current system unfairly undercuts business steve gaut spokesman ups noted company values productive relationship postal service filed postal regulatory commission concerns postal services methods covering costs representatives amazon white house us postal service fedex declined comment immediately available comment trumps tweet according annual report postal service lost  billion year deficit ballooned  billion postal services revenue first class mail marketing mail periodicals flat declining revenue package delivery  percent since   billion fiscal year ended sept   also lost  billion revenue temporary surcharge expired april  according government accountability office report february service facing growing personnel expenses particularly  billion unfunded pension benefits liabilities postal service announced plans cut costs law postal service set prices package delivery cover costs attributable service postal service allocates  percent total costs business shipping packages even though line business  percent total revenue'"
      ]
     },
     "execution_count": 27,
     "metadata": {},
     "output_type": "execute_result"
    }
   ],
   "source": [
    "data.title_text[4]"
   ]
  },
  {
   "cell_type": "code",
   "execution_count": null,
   "metadata": {},
   "outputs": [],
   "source": []
  },
  {
   "cell_type": "code",
   "execution_count": 28,
   "metadata": {},
   "outputs": [
    {
     "data": {
      "text/plain": [
       "(44898, 4)"
      ]
     },
     "execution_count": 28,
     "metadata": {},
     "output_type": "execute_result"
    }
   ],
   "source": [
    "data.shape"
   ]
  },
  {
   "cell_type": "markdown",
   "metadata": {},
   "source": []
  },
  {
   "cell_type": "code",
   "execution_count": 29,
   "metadata": {},
   "outputs": [],
   "source": [
    "x = data.drop(columns = 'score', axis=1)\n",
    "y = data['score']"
   ]
  },
  {
   "cell_type": "code",
   "execution_count": null,
   "metadata": {},
   "outputs": [],
   "source": []
  },
  {
   "cell_type": "code",
   "execution_count": null,
   "metadata": {},
   "outputs": [],
   "source": []
  },
  {
   "cell_type": "code",
   "execution_count": 30,
   "metadata": {},
   "outputs": [
    {
     "data": {
      "text/html": [
       "<div>\n",
       "<style scoped>\n",
       "    .dataframe tbody tr th:only-of-type {\n",
       "        vertical-align: middle;\n",
       "    }\n",
       "\n",
       "    .dataframe tbody tr th {\n",
       "        vertical-align: top;\n",
       "    }\n",
       "\n",
       "    .dataframe thead th {\n",
       "        text-align: right;\n",
       "    }\n",
       "</style>\n",
       "<table border=\"1\" class=\"dataframe\">\n",
       "  <thead>\n",
       "    <tr style=\"text-align: right;\">\n",
       "      <th></th>\n",
       "      <th>title_length_char</th>\n",
       "      <th>title_lower_ratio</th>\n",
       "      <th>score</th>\n",
       "      <th>title_text</th>\n",
       "    </tr>\n",
       "  </thead>\n",
       "  <tbody>\n",
       "    <tr>\n",
       "      <th>0</th>\n",
       "      <td>64</td>\n",
       "      <td>0.062500</td>\n",
       "      <td>1</td>\n",
       "      <td>us budget fight looms republicans flip fiscal ...</td>\n",
       "    </tr>\n",
       "    <tr>\n",
       "      <th>1</th>\n",
       "      <td>64</td>\n",
       "      <td>0.062500</td>\n",
       "      <td>1</td>\n",
       "      <td>us military accept transgender recruits monday...</td>\n",
       "    </tr>\n",
       "    <tr>\n",
       "      <th>2</th>\n",
       "      <td>60</td>\n",
       "      <td>0.116667</td>\n",
       "      <td>1</td>\n",
       "      <td>senior us republican senator let mr mueller jo...</td>\n",
       "    </tr>\n",
       "    <tr>\n",
       "      <th>3</th>\n",
       "      <td>59</td>\n",
       "      <td>0.135593</td>\n",
       "      <td>1</td>\n",
       "      <td>fbi russia probe helped australian diplomat ti...</td>\n",
       "    </tr>\n",
       "    <tr>\n",
       "      <th>4</th>\n",
       "      <td>69</td>\n",
       "      <td>0.057971</td>\n",
       "      <td>1</td>\n",
       "      <td>trump wants postal service charge much more am...</td>\n",
       "    </tr>\n",
       "  </tbody>\n",
       "</table>\n",
       "</div>"
      ],
      "text/plain": [
       "   title_length_char  title_lower_ratio  score  \\\n",
       "0                 64           0.062500      1   \n",
       "1                 64           0.062500      1   \n",
       "2                 60           0.116667      1   \n",
       "3                 59           0.135593      1   \n",
       "4                 69           0.057971      1   \n",
       "\n",
       "                                          title_text  \n",
       "0  us budget fight looms republicans flip fiscal ...  \n",
       "1  us military accept transgender recruits monday...  \n",
       "2  senior us republican senator let mr mueller jo...  \n",
       "3  fbi russia probe helped australian diplomat ti...  \n",
       "4  trump wants postal service charge much more am...  "
      ]
     },
     "execution_count": 30,
     "metadata": {},
     "output_type": "execute_result"
    }
   ],
   "source": [
    "data.head()"
   ]
  },
  {
   "cell_type": "code",
   "execution_count": null,
   "metadata": {},
   "outputs": [],
   "source": []
  },
  {
   "cell_type": "code",
   "execution_count": null,
   "metadata": {},
   "outputs": [],
   "source": []
  },
  {
   "cell_type": "markdown",
   "metadata": {},
   "source": [
    "# Splitting the dataset"
   ]
  },
  {
   "cell_type": "code",
   "execution_count": 31,
   "metadata": {},
   "outputs": [],
   "source": [
    "from sklearn.model_selection import train_test_split\n",
    "x_train,x_test,y_train,y_test=train_test_split(x,y,random_state=0,test_size=0.3)"
   ]
  },
  {
   "cell_type": "code",
   "execution_count": null,
   "metadata": {},
   "outputs": [],
   "source": []
  },
  {
   "cell_type": "markdown",
   "metadata": {},
   "source": [
    "# Initializing the model"
   ]
  },
  {
   "cell_type": "code",
   "execution_count": null,
   "metadata": {},
   "outputs": [],
   "source": [
    "#from sklearn.pipeline import Pipeline\n",
    "#from sklearn.preprocessing import MinMaxScaler\n",
    "#from sklearn.compose import ColumnTransformer\n",
    "#from sklearn.linear_model import SGDClassifier\n",
    "#from sklearn.feature_extraction.text import CountVectorizer\n",
    "\n",
    "\n",
    "#preprocessor = ColumnTransformer([\n",
    "   # ('vectorizer_title_text', CountVectorizer(), 'title_text'),\n",
    "    #('MinMaxScaler', MinMaxScaler(), ['title_length_char'])\n",
    "#])\n",
    "#final_pipe = Pipeline([\n",
    "    #('preprocessing', preprocessor),\n",
    "    #('clf', SGDClassifier())])\n",
    "    \n",
    "   "
   ]
  },
  {
   "cell_type": "code",
   "execution_count": 32,
   "metadata": {},
   "outputs": [],
   "source": [
    "from sklearn.pipeline import Pipeline\n",
    "from sklearn.preprocessing import MinMaxScaler\n",
    "from sklearn.compose import ColumnTransformer\n",
    "from sklearn.linear_model import SGDClassifier\n",
    "from sklearn.feature_extraction.text import CountVectorizer\n",
    "from sklearn.svm import SVC\n",
    "\n",
    "preprocessor = ColumnTransformer([\n",
    "    ('vectorizer_title_text', CountVectorizer(), 'title_text'),\n",
    "    ('MinMaxScaler', MinMaxScaler(), ['title_length_char'])\n",
    "])\n",
    "final_pipe = Pipeline([\n",
    "    ('preprocessing', preprocessor),\n",
    "    ('svc', SVC())])\n"
   ]
  },
  {
   "cell_type": "code",
   "execution_count": 2,
   "metadata": {},
   "outputs": [],
   "source": [
    "#final_pipe.fit(x_train,y_train)"
   ]
  },
  {
   "cell_type": "code",
   "execution_count": 3,
   "metadata": {},
   "outputs": [],
   "source": [
    "#final_pipe.score(x_test,y_test)"
   ]
  },
  {
   "cell_type": "code",
   "execution_count": 33,
   "metadata": {},
   "outputs": [],
   "source": [
    "from sklearn.model_selection import GridSearchCV\n",
    "parameters = {\n",
    "    'preprocessing__vectorizer_title_text__ngram_range'\n",
    "grid_search = GridSearchCV(final_pipe,\n",
    "                           parameters,\n",
    "                           scoring = [\"f1\", \"accuracy\", \"recall\"],\n",
    "                           refit= \"accuracy\",\n",
    "                           cv=5,\n",
    "                           verbose = 1)"
   ]
  },
  {
   "cell_type": "code",
   "execution_count": 34,
   "metadata": {},
   "outputs": [
    {
     "name": "stdout",
     "output_type": "stream",
     "text": [
      "Fitting 3 folds for each of 4 candidates, totalling 12 fits\n"
     ]
    },
    {
     "name": "stderr",
     "output_type": "stream",
     "text": [
      "[Parallel(n_jobs=1)]: Using backend SequentialBackend with 1 concurrent workers.\n",
      "/Users/nicolo/.pyenv/versions/3.7.7/envs/lewagon/lib/python3.7/site-packages/sklearn/preprocessing/data.py:334: DataConversionWarning: Data with input dtype int64 were all converted to float64 by MinMaxScaler.\n",
      "  return self.partial_fit(X, y)\n",
      "/Users/nicolo/.pyenv/versions/3.7.7/envs/lewagon/lib/python3.7/site-packages/sklearn/preprocessing/data.py:334: DataConversionWarning: Data with input dtype int64 were all converted to float64 by MinMaxScaler.\n",
      "  return self.partial_fit(X, y)\n",
      "/Users/nicolo/.pyenv/versions/3.7.7/envs/lewagon/lib/python3.7/site-packages/sklearn/preprocessing/data.py:334: DataConversionWarning: Data with input dtype int64 were all converted to float64 by MinMaxScaler.\n",
      "  return self.partial_fit(X, y)\n",
      "/Users/nicolo/.pyenv/versions/3.7.7/envs/lewagon/lib/python3.7/site-packages/sklearn/preprocessing/data.py:334: DataConversionWarning: Data with input dtype int64 were all converted to float64 by MinMaxScaler.\n",
      "  return self.partial_fit(X, y)\n",
      "/Users/nicolo/.pyenv/versions/3.7.7/envs/lewagon/lib/python3.7/site-packages/sklearn/preprocessing/data.py:334: DataConversionWarning: Data with input dtype int64 were all converted to float64 by MinMaxScaler.\n",
      "  return self.partial_fit(X, y)\n",
      "/Users/nicolo/.pyenv/versions/3.7.7/envs/lewagon/lib/python3.7/site-packages/sklearn/preprocessing/data.py:334: DataConversionWarning: Data with input dtype int64 were all converted to float64 by MinMaxScaler.\n",
      "  return self.partial_fit(X, y)\n",
      "/Users/nicolo/.pyenv/versions/3.7.7/envs/lewagon/lib/python3.7/site-packages/sklearn/preprocessing/data.py:334: DataConversionWarning: Data with input dtype int64 were all converted to float64 by MinMaxScaler.\n",
      "  return self.partial_fit(X, y)\n",
      "/Users/nicolo/.pyenv/versions/3.7.7/envs/lewagon/lib/python3.7/site-packages/sklearn/preprocessing/data.py:334: DataConversionWarning: Data with input dtype int64 were all converted to float64 by MinMaxScaler.\n",
      "  return self.partial_fit(X, y)\n",
      "/Users/nicolo/.pyenv/versions/3.7.7/envs/lewagon/lib/python3.7/site-packages/sklearn/preprocessing/data.py:334: DataConversionWarning: Data with input dtype int64 were all converted to float64 by MinMaxScaler.\n",
      "  return self.partial_fit(X, y)\n",
      "/Users/nicolo/.pyenv/versions/3.7.7/envs/lewagon/lib/python3.7/site-packages/sklearn/preprocessing/data.py:334: DataConversionWarning: Data with input dtype int64 were all converted to float64 by MinMaxScaler.\n",
      "  return self.partial_fit(X, y)\n",
      "/Users/nicolo/.pyenv/versions/3.7.7/envs/lewagon/lib/python3.7/site-packages/sklearn/metrics/classification.py:1143: UndefinedMetricWarning: F-score is ill-defined and being set to 0.0 due to no predicted samples.\n",
      "  'precision', 'predicted', average, warn_for)\n",
      "/Users/nicolo/.pyenv/versions/3.7.7/envs/lewagon/lib/python3.7/site-packages/sklearn/metrics/classification.py:1143: UndefinedMetricWarning: F-score is ill-defined and being set to 0.0 due to no predicted samples.\n",
      "  'precision', 'predicted', average, warn_for)\n",
      "/Users/nicolo/.pyenv/versions/3.7.7/envs/lewagon/lib/python3.7/site-packages/sklearn/preprocessing/data.py:334: DataConversionWarning: Data with input dtype int64 were all converted to float64 by MinMaxScaler.\n",
      "  return self.partial_fit(X, y)\n",
      "/Users/nicolo/.pyenv/versions/3.7.7/envs/lewagon/lib/python3.7/site-packages/sklearn/metrics/classification.py:1143: UndefinedMetricWarning: F-score is ill-defined and being set to 0.0 due to no predicted samples.\n",
      "  'precision', 'predicted', average, warn_for)\n",
      "/Users/nicolo/.pyenv/versions/3.7.7/envs/lewagon/lib/python3.7/site-packages/sklearn/metrics/classification.py:1143: UndefinedMetricWarning: F-score is ill-defined and being set to 0.0 due to no predicted samples.\n",
      "  'precision', 'predicted', average, warn_for)\n",
      "/Users/nicolo/.pyenv/versions/3.7.7/envs/lewagon/lib/python3.7/site-packages/sklearn/preprocessing/data.py:334: DataConversionWarning: Data with input dtype int64 were all converted to float64 by MinMaxScaler.\n",
      "  return self.partial_fit(X, y)\n",
      "/Users/nicolo/.pyenv/versions/3.7.7/envs/lewagon/lib/python3.7/site-packages/sklearn/metrics/classification.py:1143: UndefinedMetricWarning: F-score is ill-defined and being set to 0.0 due to no predicted samples.\n",
      "  'precision', 'predicted', average, warn_for)\n",
      "/Users/nicolo/.pyenv/versions/3.7.7/envs/lewagon/lib/python3.7/site-packages/sklearn/metrics/classification.py:1143: UndefinedMetricWarning: F-score is ill-defined and being set to 0.0 due to no predicted samples.\n",
      "  'precision', 'predicted', average, warn_for)\n",
      "[Parallel(n_jobs=1)]: Done  12 out of  12 | elapsed: 402.5min finished\n",
      "/Users/nicolo/.pyenv/versions/3.7.7/envs/lewagon/lib/python3.7/site-packages/sklearn/preprocessing/data.py:334: DataConversionWarning: Data with input dtype int64 were all converted to float64 by MinMaxScaler.\n",
      "  return self.partial_fit(X, y)\n"
     ]
    },
    {
     "name": "stdout",
     "output_type": "stream",
     "text": [
      "Training time: 25017.920446157455s\n"
     ]
    }
   ],
   "source": [
    "import time\n",
    "\n",
    "start = time.time()\n",
    "grid_search.fit(x_train,y_train)\n",
    "stop = time.time()\n",
    "print(f\"Training time: {stop - start}s\")"
   ]
  },
  {
   "cell_type": "markdown",
   "metadata": {},
   "source": [
    "# Evaluation"
   ]
  },
  {
   "cell_type": "code",
   "execution_count": 35,
   "metadata": {},
   "outputs": [],
   "source": [
    "tuned_pipe = grid_search.best_estimator_"
   ]
  },
  {
   "cell_type": "code",
   "execution_count": 36,
   "metadata": {},
   "outputs": [
    {
     "data": {
      "text/plain": [
       "Pipeline(memory=None,\n",
       "     steps=[('preprocessing', ColumnTransformer(n_jobs=None, remainder='drop', sparse_threshold=0.3,\n",
       "         transformer_weights=None,\n",
       "         transformers=[('vectorizer_title_text', CountVectorizer(analyzer='word', binary=False, decode_error='strict',\n",
       "        dtype=<class 'numpy.int64'>, encoding='utf...,\n",
       "  max_iter=-1, probability=False, random_state=None, shrinking=True,\n",
       "  tol=0.001, verbose=False))])"
      ]
     },
     "execution_count": 36,
     "metadata": {},
     "output_type": "execute_result"
    }
   ],
   "source": [
    "tuned_pipe"
   ]
  },
  {
   "cell_type": "code",
   "execution_count": 37,
   "metadata": {},
   "outputs": [
    {
     "data": {
      "text/plain": [
       "{'svc__gamma': 'scale', 'svc__kernel': 'rbf'}"
      ]
     },
     "execution_count": 37,
     "metadata": {},
     "output_type": "execute_result"
    }
   ],
   "source": [
    "grid_search.best_params_"
   ]
  },
  {
   "cell_type": "code",
   "execution_count": 38,
   "metadata": {},
   "outputs": [
    {
     "data": {
      "text/plain": [
       "0.9899777282850779"
      ]
     },
     "execution_count": 38,
     "metadata": {},
     "output_type": "execute_result"
    }
   ],
   "source": [
    "grid_search.score(x_test,y_test)"
   ]
  },
  {
   "cell_type": "code",
   "execution_count": 39,
   "metadata": {},
   "outputs": [
    {
     "name": "stderr",
     "output_type": "stream",
     "text": [
      "/Users/nicolo/.pyenv/versions/3.7.7/envs/lewagon/lib/python3.7/site-packages/sklearn/utils/deprecation.py:125: FutureWarning: You are accessing a training score ('split0_train_f1'), which will not be available by default any more in 0.21. If you need training scores, please set return_train_score=True\n",
      "  warnings.warn(*warn_args, **warn_kwargs)\n",
      "/Users/nicolo/.pyenv/versions/3.7.7/envs/lewagon/lib/python3.7/site-packages/sklearn/utils/deprecation.py:125: FutureWarning: You are accessing a training score ('split1_train_f1'), which will not be available by default any more in 0.21. If you need training scores, please set return_train_score=True\n",
      "  warnings.warn(*warn_args, **warn_kwargs)\n",
      "/Users/nicolo/.pyenv/versions/3.7.7/envs/lewagon/lib/python3.7/site-packages/sklearn/utils/deprecation.py:125: FutureWarning: You are accessing a training score ('split2_train_f1'), which will not be available by default any more in 0.21. If you need training scores, please set return_train_score=True\n",
      "  warnings.warn(*warn_args, **warn_kwargs)\n",
      "/Users/nicolo/.pyenv/versions/3.7.7/envs/lewagon/lib/python3.7/site-packages/sklearn/utils/deprecation.py:125: FutureWarning: You are accessing a training score ('mean_train_f1'), which will not be available by default any more in 0.21. If you need training scores, please set return_train_score=True\n",
      "  warnings.warn(*warn_args, **warn_kwargs)\n",
      "/Users/nicolo/.pyenv/versions/3.7.7/envs/lewagon/lib/python3.7/site-packages/sklearn/utils/deprecation.py:125: FutureWarning: You are accessing a training score ('std_train_f1'), which will not be available by default any more in 0.21. If you need training scores, please set return_train_score=True\n",
      "  warnings.warn(*warn_args, **warn_kwargs)\n",
      "/Users/nicolo/.pyenv/versions/3.7.7/envs/lewagon/lib/python3.7/site-packages/sklearn/utils/deprecation.py:125: FutureWarning: You are accessing a training score ('split0_train_accuracy'), which will not be available by default any more in 0.21. If you need training scores, please set return_train_score=True\n",
      "  warnings.warn(*warn_args, **warn_kwargs)\n",
      "/Users/nicolo/.pyenv/versions/3.7.7/envs/lewagon/lib/python3.7/site-packages/sklearn/utils/deprecation.py:125: FutureWarning: You are accessing a training score ('split1_train_accuracy'), which will not be available by default any more in 0.21. If you need training scores, please set return_train_score=True\n",
      "  warnings.warn(*warn_args, **warn_kwargs)\n",
      "/Users/nicolo/.pyenv/versions/3.7.7/envs/lewagon/lib/python3.7/site-packages/sklearn/utils/deprecation.py:125: FutureWarning: You are accessing a training score ('split2_train_accuracy'), which will not be available by default any more in 0.21. If you need training scores, please set return_train_score=True\n",
      "  warnings.warn(*warn_args, **warn_kwargs)\n",
      "/Users/nicolo/.pyenv/versions/3.7.7/envs/lewagon/lib/python3.7/site-packages/sklearn/utils/deprecation.py:125: FutureWarning: You are accessing a training score ('mean_train_accuracy'), which will not be available by default any more in 0.21. If you need training scores, please set return_train_score=True\n",
      "  warnings.warn(*warn_args, **warn_kwargs)\n",
      "/Users/nicolo/.pyenv/versions/3.7.7/envs/lewagon/lib/python3.7/site-packages/sklearn/utils/deprecation.py:125: FutureWarning: You are accessing a training score ('std_train_accuracy'), which will not be available by default any more in 0.21. If you need training scores, please set return_train_score=True\n",
      "  warnings.warn(*warn_args, **warn_kwargs)\n",
      "/Users/nicolo/.pyenv/versions/3.7.7/envs/lewagon/lib/python3.7/site-packages/sklearn/utils/deprecation.py:125: FutureWarning: You are accessing a training score ('split0_train_recall'), which will not be available by default any more in 0.21. If you need training scores, please set return_train_score=True\n",
      "  warnings.warn(*warn_args, **warn_kwargs)\n",
      "/Users/nicolo/.pyenv/versions/3.7.7/envs/lewagon/lib/python3.7/site-packages/sklearn/utils/deprecation.py:125: FutureWarning: You are accessing a training score ('split1_train_recall'), which will not be available by default any more in 0.21. If you need training scores, please set return_train_score=True\n",
      "  warnings.warn(*warn_args, **warn_kwargs)\n",
      "/Users/nicolo/.pyenv/versions/3.7.7/envs/lewagon/lib/python3.7/site-packages/sklearn/utils/deprecation.py:125: FutureWarning: You are accessing a training score ('split2_train_recall'), which will not be available by default any more in 0.21. If you need training scores, please set return_train_score=True\n",
      "  warnings.warn(*warn_args, **warn_kwargs)\n",
      "/Users/nicolo/.pyenv/versions/3.7.7/envs/lewagon/lib/python3.7/site-packages/sklearn/utils/deprecation.py:125: FutureWarning: You are accessing a training score ('mean_train_recall'), which will not be available by default any more in 0.21. If you need training scores, please set return_train_score=True\n",
      "  warnings.warn(*warn_args, **warn_kwargs)\n",
      "/Users/nicolo/.pyenv/versions/3.7.7/envs/lewagon/lib/python3.7/site-packages/sklearn/utils/deprecation.py:125: FutureWarning: You are accessing a training score ('std_train_recall'), which will not be available by default any more in 0.21. If you need training scores, please set return_train_score=True\n",
      "  warnings.warn(*warn_args, **warn_kwargs)\n"
     ]
    },
    {
     "data": {
      "text/html": [
       "<div>\n",
       "<style scoped>\n",
       "    .dataframe tbody tr th:only-of-type {\n",
       "        vertical-align: middle;\n",
       "    }\n",
       "\n",
       "    .dataframe tbody tr th {\n",
       "        vertical-align: top;\n",
       "    }\n",
       "\n",
       "    .dataframe thead th {\n",
       "        text-align: right;\n",
       "    }\n",
       "</style>\n",
       "<table border=\"1\" class=\"dataframe\">\n",
       "  <thead>\n",
       "    <tr style=\"text-align: right;\">\n",
       "      <th></th>\n",
       "      <th>mean_fit_time</th>\n",
       "      <th>std_fit_time</th>\n",
       "      <th>mean_score_time</th>\n",
       "      <th>std_score_time</th>\n",
       "      <th>param_svc__gamma</th>\n",
       "      <th>param_svc__kernel</th>\n",
       "      <th>params</th>\n",
       "      <th>split0_test_f1</th>\n",
       "      <th>split1_test_f1</th>\n",
       "      <th>split2_test_f1</th>\n",
       "      <th>...</th>\n",
       "      <th>split1_test_recall</th>\n",
       "      <th>split2_test_recall</th>\n",
       "      <th>mean_test_recall</th>\n",
       "      <th>std_test_recall</th>\n",
       "      <th>rank_test_recall</th>\n",
       "      <th>split0_train_recall</th>\n",
       "      <th>split1_train_recall</th>\n",
       "      <th>split2_train_recall</th>\n",
       "      <th>mean_train_recall</th>\n",
       "      <th>std_train_recall</th>\n",
       "    </tr>\n",
       "  </thead>\n",
       "  <tbody>\n",
       "    <tr>\n",
       "      <th>0</th>\n",
       "      <td>430.398347</td>\n",
       "      <td>8.139596</td>\n",
       "      <td>260.213829</td>\n",
       "      <td>16.872329</td>\n",
       "      <td>scale</td>\n",
       "      <td>rbf</td>\n",
       "      <td>{'svc__gamma': 'scale', 'svc__kernel': 'rbf'}</td>\n",
       "      <td>0.986386</td>\n",
       "      <td>0.988868</td>\n",
       "      <td>0.986461</td>\n",
       "      <td>...</td>\n",
       "      <td>0.985015</td>\n",
       "      <td>0.982617</td>\n",
       "      <td>0.983950</td>\n",
       "      <td>0.000997</td>\n",
       "      <td>1</td>\n",
       "      <td>0.997103</td>\n",
       "      <td>0.996604</td>\n",
       "      <td>0.997003</td>\n",
       "      <td>0.996903</td>\n",
       "      <td>0.000216</td>\n",
       "    </tr>\n",
       "    <tr>\n",
       "      <th>1</th>\n",
       "      <td>585.193385</td>\n",
       "      <td>57.060192</td>\n",
       "      <td>450.068181</td>\n",
       "      <td>8.362079</td>\n",
       "      <td>scale</td>\n",
       "      <td>poly</td>\n",
       "      <td>{'svc__gamma': 'scale', 'svc__kernel': 'poly'}</td>\n",
       "      <td>0.738305</td>\n",
       "      <td>0.719053</td>\n",
       "      <td>0.734582</td>\n",
       "      <td>...</td>\n",
       "      <td>0.570430</td>\n",
       "      <td>0.591409</td>\n",
       "      <td>0.585375</td>\n",
       "      <td>0.010633</td>\n",
       "      <td>3</td>\n",
       "      <td>0.643057</td>\n",
       "      <td>0.643192</td>\n",
       "      <td>0.636400</td>\n",
       "      <td>0.640883</td>\n",
       "      <td>0.003171</td>\n",
       "    </tr>\n",
       "    <tr>\n",
       "      <th>2</th>\n",
       "      <td>390.361070</td>\n",
       "      <td>2.584382</td>\n",
       "      <td>551.068369</td>\n",
       "      <td>2.030831</td>\n",
       "      <td>auto</td>\n",
       "      <td>rbf</td>\n",
       "      <td>{'svc__gamma': 'auto', 'svc__kernel': 'rbf'}</td>\n",
       "      <td>0.871544</td>\n",
       "      <td>0.853392</td>\n",
       "      <td>0.860732</td>\n",
       "      <td>...</td>\n",
       "      <td>0.772827</td>\n",
       "      <td>0.787213</td>\n",
       "      <td>0.786561</td>\n",
       "      <td>0.010956</td>\n",
       "      <td>2</td>\n",
       "      <td>0.798801</td>\n",
       "      <td>0.785836</td>\n",
       "      <td>0.787534</td>\n",
       "      <td>0.790723</td>\n",
       "      <td>0.005754</td>\n",
       "    </tr>\n",
       "    <tr>\n",
       "      <th>3</th>\n",
       "      <td>561.625118</td>\n",
       "      <td>18.329634</td>\n",
       "      <td>740.881480</td>\n",
       "      <td>0.355263</td>\n",
       "      <td>auto</td>\n",
       "      <td>poly</td>\n",
       "      <td>{'svc__gamma': 'auto', 'svc__kernel': 'poly'}</td>\n",
       "      <td>0.000000</td>\n",
       "      <td>0.000000</td>\n",
       "      <td>0.000000</td>\n",
       "      <td>...</td>\n",
       "      <td>0.000000</td>\n",
       "      <td>0.000000</td>\n",
       "      <td>0.000000</td>\n",
       "      <td>0.000000</td>\n",
       "      <td>4</td>\n",
       "      <td>0.000000</td>\n",
       "      <td>0.000000</td>\n",
       "      <td>0.000000</td>\n",
       "      <td>0.000000</td>\n",
       "      <td>0.000000</td>\n",
       "    </tr>\n",
       "  </tbody>\n",
       "</table>\n",
       "<p>4 rows × 40 columns</p>\n",
       "</div>"
      ],
      "text/plain": [
       "   mean_fit_time  std_fit_time  mean_score_time  std_score_time  \\\n",
       "0     430.398347      8.139596       260.213829       16.872329   \n",
       "1     585.193385     57.060192       450.068181        8.362079   \n",
       "2     390.361070      2.584382       551.068369        2.030831   \n",
       "3     561.625118     18.329634       740.881480        0.355263   \n",
       "\n",
       "  param_svc__gamma param_svc__kernel  \\\n",
       "0            scale               rbf   \n",
       "1            scale              poly   \n",
       "2             auto               rbf   \n",
       "3             auto              poly   \n",
       "\n",
       "                                           params  split0_test_f1  \\\n",
       "0   {'svc__gamma': 'scale', 'svc__kernel': 'rbf'}        0.986386   \n",
       "1  {'svc__gamma': 'scale', 'svc__kernel': 'poly'}        0.738305   \n",
       "2    {'svc__gamma': 'auto', 'svc__kernel': 'rbf'}        0.871544   \n",
       "3   {'svc__gamma': 'auto', 'svc__kernel': 'poly'}        0.000000   \n",
       "\n",
       "   split1_test_f1  split2_test_f1  ...  split1_test_recall  \\\n",
       "0        0.988868        0.986461  ...            0.985015   \n",
       "1        0.719053        0.734582  ...            0.570430   \n",
       "2        0.853392        0.860732  ...            0.772827   \n",
       "3        0.000000        0.000000  ...            0.000000   \n",
       "\n",
       "   split2_test_recall  mean_test_recall  std_test_recall  rank_test_recall  \\\n",
       "0            0.982617          0.983950         0.000997                 1   \n",
       "1            0.591409          0.585375         0.010633                 3   \n",
       "2            0.787213          0.786561         0.010956                 2   \n",
       "3            0.000000          0.000000         0.000000                 4   \n",
       "\n",
       "   split0_train_recall  split1_train_recall  split2_train_recall  \\\n",
       "0             0.997103             0.996604             0.997003   \n",
       "1             0.643057             0.643192             0.636400   \n",
       "2             0.798801             0.785836             0.787534   \n",
       "3             0.000000             0.000000             0.000000   \n",
       "\n",
       "   mean_train_recall  std_train_recall  \n",
       "0           0.996903          0.000216  \n",
       "1           0.640883          0.003171  \n",
       "2           0.790723          0.005754  \n",
       "3           0.000000          0.000000  \n",
       "\n",
       "[4 rows x 40 columns]"
      ]
     },
     "execution_count": 39,
     "metadata": {},
     "output_type": "execute_result"
    }
   ],
   "source": [
    "pd.DataFrame(grid_search.cv_results_)"
   ]
  },
  {
   "cell_type": "code",
   "execution_count": 42,
   "metadata": {},
   "outputs": [],
   "source": [
    "results = pd.DataFrame(grid_search.cv_results_)"
   ]
  },
  {
   "cell_type": "code",
   "execution_count": null,
   "metadata": {},
   "outputs": [],
   "source": []
  },
  {
   "cell_type": "code",
   "execution_count": null,
   "metadata": {},
   "outputs": [],
   "source": []
  }
 ],
 "metadata": {
  "kernelspec": {
   "display_name": "Python 3",
   "language": "python",
   "name": "python3"
  },
  "language_info": {
   "codemirror_mode": {
    "name": "ipython",
    "version": 3
   },
   "file_extension": ".py",
   "mimetype": "text/x-python",
   "name": "python",
   "nbconvert_exporter": "python",
   "pygments_lexer": "ipython3",
   "version": "3.7.7"
  },
  "toc": {
   "base_numbering": 1,
   "nav_menu": {},
   "number_sections": true,
   "sideBar": true,
   "skip_h1_title": false,
   "title_cell": "Table of Contents",
   "title_sidebar": "Contents",
   "toc_cell": false,
   "toc_position": {},
   "toc_section_display": true,
   "toc_window_display": true
  }
 },
 "nbformat": 4,
 "nbformat_minor": 4
}

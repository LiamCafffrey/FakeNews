{
 "cells": [
  {
   "cell_type": "code",
   "execution_count": 1,
   "metadata": {
    "collapsed": true
   },
   "outputs": [
    {
     "name": "stdout",
     "output_type": "stream",
     "text": [
      "Collecting trafilatura\n",
      "  Downloading trafilatura-0.6.0-py3-none-any.whl (155 kB)\n",
      "Collecting readability-lxml>=0.8.1\n",
      "  Downloading readability_lxml-0.8.1-py3-none-any.whl (20 kB)\n",
      "Collecting justext>=2.2.0\n",
      "  Downloading jusText-2.2.0-py2.py3-none-any.whl (860 kB)\n",
      "Collecting htmldate>=0.7.2\n",
      "  Downloading htmldate-0.7.2-py3-none-any.whl (31 kB)\n",
      "Requirement already satisfied: requests>=2.21.0; python_version > \"3.4\" in c:\\users\\liamc\\.venvs\\lewagon\\lib\\site-packages (from trafilatura) (2.24.0)\n",
      "Collecting lxml>=4.6.1; python_version > \"3.4\"\n",
      "  Downloading lxml-4.6.1-cp37-cp37m-win_amd64.whl (3.5 MB)\n",
      "Collecting courlan>=0.2.3\n",
      "  Downloading courlan-0.2.3-py3-none-any.whl (17 kB)\n",
      "Collecting cssselect\n",
      "  Downloading cssselect-1.1.0-py2.py3-none-any.whl (16 kB)\n",
      "Requirement already satisfied: chardet in c:\\users\\liamc\\.venvs\\lewagon\\lib\\site-packages (from readability-lxml>=0.8.1->trafilatura) (3.0.4)\n",
      "Requirement already satisfied: python-dateutil>=2.8.1 in c:\\users\\liamc\\.venvs\\lewagon\\lib\\site-packages (from htmldate>=0.7.2->trafilatura) (2.8.1)\n",
      "Requirement already satisfied: certifi>=2017.4.17 in c:\\users\\liamc\\.venvs\\lewagon\\lib\\site-packages (from requests>=2.21.0; python_version > \"3.4\"->trafilatura) (2020.6.20)\n",
      "Requirement already satisfied: urllib3!=1.25.0,!=1.25.1,<1.26,>=1.21.1 in c:\\users\\liamc\\.venvs\\lewagon\\lib\\site-packages (from requests>=2.21.0; python_version > \"3.4\"->trafilatura) (1.25.10)\n",
      "Requirement already satisfied: idna<3,>=2.5 in c:\\users\\liamc\\.venvs\\lewagon\\lib\\site-packages (from requests>=2.21.0; python_version > \"3.4\"->trafilatura) (2.10)\n",
      "Collecting tldextract\n",
      "  Downloading tldextract-3.0.2-py2.py3-none-any.whl (86 kB)\n",
      "Requirement already satisfied: six>=1.5 in c:\\users\\liamc\\.venvs\\lewagon\\lib\\site-packages (from python-dateutil>=2.8.1->htmldate>=0.7.2->trafilatura) (1.15.0)\n",
      "Collecting filelock>=3.0.8\n",
      "  Using cached filelock-3.0.12-py3-none-any.whl (7.6 kB)\n",
      "Collecting requests-file>=1.4\n",
      "  Downloading requests_file-1.5.1-py2.py3-none-any.whl (3.7 kB)\n",
      "Installing collected packages: cssselect, lxml, readability-lxml, justext, htmldate, filelock, requests-file, tldextract, courlan, trafilatura\n",
      "  Attempting uninstall: lxml\n",
      "    Found existing installation: lxml 4.5.2\n",
      "    Uninstalling lxml-4.5.2:\n",
      "      Successfully uninstalled lxml-4.5.2\n",
      "Successfully installed courlan-0.2.3 cssselect-1.1.0 filelock-3.0.12 htmldate-0.7.2 justext-2.2.0 lxml-4.6.1 readability-lxml-0.8.1 requests-file-1.5.1 tldextract-3.0.2 trafilatura-0.6.0\n"
     ]
    }
   ],
   "source": [
    "!pip install trafilatura"
   ]
  },
  {
   "cell_type": "code",
   "execution_count": 5,
   "metadata": {},
   "outputs": [
    {
     "data": {
      "text/plain": [
       "'Are you a subscriber? Sign in here\\nSupport great journalism.\\nWe rely on readers like you to uphold a free press.\\nFree\\nAll-Access Digital\\n$6 every 4 weeks or just $78 $60/year\\nPremium\\nEU Ad-Free\\n$9 every 4 weeks or just $117 $90/year\\nThe new European data protection law requires us to inform you of the following before you use our website:\\nWe use cookies and other technologies to customize your experience, perform analytics and deliver personalized advertising on our sites, apps and newsletters and across the Internet based on your interests. By clicking “I agree” below, you consent to the use by us and our third-party partners of cookies and data gathered from your use of our platforms. See our Privacy Policy and Third Party Partners to learn more about the use of data and your rights. You also agree to our Terms of Service.\\nThis content is currently not available in your region.'"
      ]
     },
     "execution_count": 5,
     "metadata": {},
     "output_type": "execute_result"
    }
   ],
   "source": [
    "import trafilatura\n",
    "downloaded = trafilatura.fetch_url('https://www.washingtonpost.com/elections/2020/11/17/joe-biden-trump-transition-live-updates')\n",
    "trafilatura.extract(downloaded)"
   ]
  },
  {
   "cell_type": "code",
   "execution_count": null,
   "metadata": {},
   "outputs": [],
   "source": []
  }
 ],
 "metadata": {
  "kernelspec": {
   "display_name": "Python 3",
   "language": "python",
   "name": "python3"
  },
  "language_info": {
   "codemirror_mode": {
    "name": "ipython",
    "version": 3
   },
   "file_extension": ".py",
   "mimetype": "text/x-python",
   "name": "python",
   "nbconvert_exporter": "python",
   "pygments_lexer": "ipython3",
   "version": "3.7.7"
  },
  "toc": {
   "base_numbering": 1,
   "nav_menu": {},
   "number_sections": true,
   "sideBar": true,
   "skip_h1_title": false,
   "title_cell": "Table of Contents",
   "title_sidebar": "Contents",
   "toc_cell": false,
   "toc_position": {},
   "toc_section_display": true,
   "toc_window_display": false
  },
  "varInspector": {
   "cols": {
    "lenName": 16,
    "lenType": 16,
    "lenVar": 40
   },
   "kernels_config": {
    "python": {
     "delete_cmd_postfix": "",
     "delete_cmd_prefix": "del ",
     "library": "var_list.py",
     "varRefreshCmd": "print(var_dic_list())"
    },
    "r": {
     "delete_cmd_postfix": ") ",
     "delete_cmd_prefix": "rm(",
     "library": "var_list.r",
     "varRefreshCmd": "cat(var_dic_list()) "
    }
   },
   "types_to_exclude": [
    "module",
    "function",
    "builtin_function_or_method",
    "instance",
    "_Feature"
   ],
   "window_display": false
  }
 },
 "nbformat": 4,
 "nbformat_minor": 4
}

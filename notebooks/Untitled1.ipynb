{
 "cells": [
  {
   "cell_type": "markdown",
   "metadata": {},
   "source": [
    "# Scraping test"
   ]
  },
  {
   "cell_type": "code",
   "execution_count": 1,
   "metadata": {},
   "outputs": [
    {
     "name": "stdout",
     "output_type": "stream",
     "text": [
      "Collecting trafilatura\n",
      "  Downloading trafilatura-0.6.0-py3-none-any.whl (155 kB)\n",
      "\u001b[K     |████████████████████████████████| 155 kB 2.3 MB/s eta 0:00:01\n",
      "\u001b[?25hCollecting lxml>=4.6.1; python_version > \"3.4\"\n",
      "  Downloading lxml-4.6.1-cp37-cp37m-macosx_10_9_x86_64.whl (4.5 MB)\n",
      "\u001b[K     |████████████████████████████████| 4.5 MB 2.7 MB/s eta 0:00:01\n",
      "\u001b[?25hCollecting justext>=2.2.0\n",
      "  Downloading jusText-2.2.0-py2.py3-none-any.whl (860 kB)\n",
      "\u001b[K     |████████████████████████████████| 860 kB 1.8 MB/s eta 0:00:01\n",
      "\u001b[?25hCollecting readability-lxml>=0.8.1\n",
      "  Downloading readability_lxml-0.8.1-py3-none-any.whl (20 kB)\n",
      "Requirement already satisfied: requests>=2.21.0; python_version > \"3.4\" in /Users/nicolo/.pyenv/versions/3.7.7/envs/lewagon/lib/python3.7/site-packages (from trafilatura) (2.24.0)\n",
      "Collecting courlan>=0.2.3\n",
      "  Downloading courlan-0.2.3-py3-none-any.whl (17 kB)\n",
      "Collecting htmldate>=0.7.2\n",
      "  Downloading htmldate-0.7.2-py3-none-any.whl (31 kB)\n",
      "Requirement already satisfied: chardet in /Users/nicolo/.pyenv/versions/3.7.7/envs/lewagon/lib/python3.7/site-packages (from readability-lxml>=0.8.1->trafilatura) (3.0.4)\n",
      "Collecting cssselect\n",
      "  Downloading cssselect-1.1.0-py2.py3-none-any.whl (16 kB)\n",
      "Requirement already satisfied: urllib3!=1.25.0,!=1.25.1,<1.26,>=1.21.1 in /Users/nicolo/.pyenv/versions/3.7.7/envs/lewagon/lib/python3.7/site-packages (from requests>=2.21.0; python_version > \"3.4\"->trafilatura) (1.25.10)\n",
      "Requirement already satisfied: idna<3,>=2.5 in /Users/nicolo/.pyenv/versions/3.7.7/envs/lewagon/lib/python3.7/site-packages (from requests>=2.21.0; python_version > \"3.4\"->trafilatura) (2.10)\n",
      "Requirement already satisfied: certifi>=2017.4.17 in /Users/nicolo/.pyenv/versions/3.7.7/envs/lewagon/lib/python3.7/site-packages (from requests>=2.21.0; python_version > \"3.4\"->trafilatura) (2020.6.20)\n",
      "Collecting tldextract\n",
      "  Downloading tldextract-3.0.2-py2.py3-none-any.whl (86 kB)\n",
      "\u001b[K     |████████████████████████████████| 86 kB 3.1 MB/s eta 0:00:01\n",
      "\u001b[?25hRequirement already satisfied: python-dateutil>=2.8.1 in /Users/nicolo/.pyenv/versions/3.7.7/envs/lewagon/lib/python3.7/site-packages (from htmldate>=0.7.2->trafilatura) (2.8.1)\n",
      "Collecting filelock>=3.0.8\n",
      "  Downloading filelock-3.0.12-py3-none-any.whl (7.6 kB)\n",
      "Collecting requests-file>=1.4\n",
      "  Downloading requests_file-1.5.1-py2.py3-none-any.whl (3.7 kB)\n",
      "Requirement already satisfied: six>=1.5 in /Users/nicolo/.pyenv/versions/3.7.7/envs/lewagon/lib/python3.7/site-packages (from python-dateutil>=2.8.1->htmldate>=0.7.2->trafilatura) (1.15.0)\n",
      "Installing collected packages: lxml, justext, cssselect, readability-lxml, filelock, requests-file, tldextract, courlan, htmldate, trafilatura\n",
      "  Attempting uninstall: lxml\n",
      "    Found existing installation: lxml 4.5.2\n",
      "    Uninstalling lxml-4.5.2:\n",
      "      Successfully uninstalled lxml-4.5.2\n",
      "Successfully installed courlan-0.2.3 cssselect-1.1.0 filelock-3.0.12 htmldate-0.7.2 justext-2.2.0 lxml-4.6.1 readability-lxml-0.8.1 requests-file-1.5.1 tldextract-3.0.2 trafilatura-0.6.0\n",
      "\u001b[33mWARNING: You are using pip version 20.2.3; however, version 20.2.4 is available.\n",
      "You should consider upgrading via the '/Users/nicolo/.pyenv/versions/3.7.7/envs/lewagon/bin/python3.7 -m pip install --upgrade pip' command.\u001b[0m\n"
     ]
    }
   ],
   "source": [
    "!pip install trafilatura"
   ]
  },
  {
   "cell_type": "code",
   "execution_count": null,
   "metadata": {},
   "outputs": [],
   "source": [
    "#import trafilatura\n",
    "#downloaded = trafilatura.fetch_url('https://www.nytimes.com/2020/11/17/business/economy/women-jobs-economy-recession.html?action=click&module=Spotlight&pgtype=Homepage')\n",
    "#trafilatura.extract(downloaded)\n"
   ]
  }
 ],
 "metadata": {
  "kernelspec": {
   "display_name": "Python 3",
   "language": "python",
   "name": "python3"
  },
  "language_info": {
   "codemirror_mode": {
    "name": "ipython",
    "version": 3
   },
   "file_extension": ".py",
   "mimetype": "text/x-python",
   "name": "python",
   "nbconvert_exporter": "python",
   "pygments_lexer": "ipython3",
   "version": "3.7.7"
  },
  "toc": {
   "base_numbering": 1,
   "nav_menu": {},
   "number_sections": true,
   "sideBar": true,
   "skip_h1_title": false,
   "title_cell": "Table of Contents",
   "title_sidebar": "Contents",
   "toc_cell": false,
   "toc_position": {},
   "toc_section_display": true,
   "toc_window_display": false
  }
 },
 "nbformat": 4,
 "nbformat_minor": 4
}

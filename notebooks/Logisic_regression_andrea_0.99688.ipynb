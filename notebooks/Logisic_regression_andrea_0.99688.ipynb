{
 "cells": [
  {
   "cell_type": "code",
   "execution_count": 1,
   "metadata": {},
   "outputs": [],
   "source": [
    "import pandas as pd\n",
    "import numpy as np\n",
    "import seaborn as sns\n",
    "import matplotlib.pyplot as plt\n",
    "import nltk\n",
    "from sklearn.preprocessing import LabelBinarizer\n",
    "from nltk.corpus import stopwords\n",
    "from nltk.stem.porter import PorterStemmer\n",
    "from nltk.stem import WordNetLemmatizer\n",
    "from nltk.tokenize import word_tokenize,sent_tokenize\n",
    "from bs4 import BeautifulSoup\n",
    "import re,string,unicodedata\n",
    "from sklearn.metrics import classification_report,confusion_matrix,accuracy_score\n",
    "from sklearn.model_selection import train_test_split\n",
    "from string import punctuation\n",
    "from nltk import pos_tag\n",
    "from nltk.corpus import wordnet\n",
    "import tensorflow as tf\n",
    "from nltk.corpus import stopwords\n",
    "from nltk.tokenize import word_tokenize\n",
    "import string\n",
    "import enchant\n",
    "from sklearn.feature_extraction.text import CountVectorizer"
   ]
  },
  {
   "cell_type": "markdown",
   "metadata": {},
   "source": [
    "# Dataset Preparation"
   ]
  },
  {
   "cell_type": "code",
   "execution_count": 2,
   "metadata": {},
   "outputs": [],
   "source": [
    "true = pd.read_csv('../raw_data/True.csv')\n",
    "fake = pd.read_csv('../raw_data/Fake.csv')"
   ]
  },
  {
   "cell_type": "code",
   "execution_count": 3,
   "metadata": {},
   "outputs": [],
   "source": [
    "true.drop(columns = ['subject','date'], inplace = True)\n",
    "fake.drop(columns = ['subject','date'], inplace = True)"
   ]
  },
  {
   "cell_type": "code",
   "execution_count": 4,
   "metadata": {},
   "outputs": [],
   "source": [
    "true['score'] = 1\n",
    "fake['score'] = 0"
   ]
  },
  {
   "cell_type": "code",
   "execution_count": 5,
   "metadata": {},
   "outputs": [
    {
     "data": {
      "text/html": [
       "<div>\n",
       "<style scoped>\n",
       "    .dataframe tbody tr th:only-of-type {\n",
       "        vertical-align: middle;\n",
       "    }\n",
       "\n",
       "    .dataframe tbody tr th {\n",
       "        vertical-align: top;\n",
       "    }\n",
       "\n",
       "    .dataframe thead th {\n",
       "        text-align: right;\n",
       "    }\n",
       "</style>\n",
       "<table border=\"1\" class=\"dataframe\">\n",
       "  <thead>\n",
       "    <tr style=\"text-align: right;\">\n",
       "      <th></th>\n",
       "      <th>title</th>\n",
       "      <th>text</th>\n",
       "      <th>score</th>\n",
       "    </tr>\n",
       "  </thead>\n",
       "  <tbody>\n",
       "    <tr>\n",
       "      <th>0</th>\n",
       "      <td>As U.S. budget fight looms, Republicans flip t...</td>\n",
       "      <td>WASHINGTON (Reuters) - The head of a conservat...</td>\n",
       "      <td>1</td>\n",
       "    </tr>\n",
       "    <tr>\n",
       "      <th>1</th>\n",
       "      <td>U.S. military to accept transgender recruits o...</td>\n",
       "      <td>WASHINGTON (Reuters) - Transgender people will...</td>\n",
       "      <td>1</td>\n",
       "    </tr>\n",
       "    <tr>\n",
       "      <th>2</th>\n",
       "      <td>Senior U.S. Republican senator: 'Let Mr. Muell...</td>\n",
       "      <td>WASHINGTON (Reuters) - The special counsel inv...</td>\n",
       "      <td>1</td>\n",
       "    </tr>\n",
       "    <tr>\n",
       "      <th>3</th>\n",
       "      <td>FBI Russia probe helped by Australian diplomat...</td>\n",
       "      <td>WASHINGTON (Reuters) - Trump campaign adviser ...</td>\n",
       "      <td>1</td>\n",
       "    </tr>\n",
       "    <tr>\n",
       "      <th>4</th>\n",
       "      <td>Trump wants Postal Service to charge 'much mor...</td>\n",
       "      <td>SEATTLE/WASHINGTON (Reuters) - President Donal...</td>\n",
       "      <td>1</td>\n",
       "    </tr>\n",
       "  </tbody>\n",
       "</table>\n",
       "</div>"
      ],
      "text/plain": [
       "                                               title  \\\n",
       "0  As U.S. budget fight looms, Republicans flip t...   \n",
       "1  U.S. military to accept transgender recruits o...   \n",
       "2  Senior U.S. Republican senator: 'Let Mr. Muell...   \n",
       "3  FBI Russia probe helped by Australian diplomat...   \n",
       "4  Trump wants Postal Service to charge 'much mor...   \n",
       "\n",
       "                                                text  score  \n",
       "0  WASHINGTON (Reuters) - The head of a conservat...      1  \n",
       "1  WASHINGTON (Reuters) - Transgender people will...      1  \n",
       "2  WASHINGTON (Reuters) - The special counsel inv...      1  \n",
       "3  WASHINGTON (Reuters) - Trump campaign adviser ...      1  \n",
       "4  SEATTLE/WASHINGTON (Reuters) - President Donal...      1  "
      ]
     },
     "execution_count": 5,
     "metadata": {},
     "output_type": "execute_result"
    }
   ],
   "source": [
    "data = pd.concat([true,fake],ignore_index=True)\n",
    "data.head()"
   ]
  },
  {
   "cell_type": "markdown",
   "metadata": {},
   "source": [
    "# Cleaning"
   ]
  },
  {
   "cell_type": "code",
   "execution_count": 6,
   "metadata": {},
   "outputs": [],
   "source": [
    "def remove_punctuation(text):\n",
    "    for punctuation in string.punctuation:\n",
    "        text = text.replace(punctuation, '')\n",
    "    return text\n",
    "\n",
    "def remove_numbers(text):\n",
    "    text = ''.join(word for word in text if not word.isdigit())\n",
    "    return text\n",
    "\n",
    "data['text']=data['text'].apply(remove_punctuation)\n",
    "data['text']=data['text'].apply(remove_numbers)"
   ]
  },
  {
   "cell_type": "code",
   "execution_count": 7,
   "metadata": {},
   "outputs": [],
   "source": [
    "def tokenize_text(text):\n",
    "    return text.split()\n",
    "\n",
    "data['tokens']=data['text'].apply(tokenize_text)"
   ]
  },
  {
   "cell_type": "code",
   "execution_count": 8,
   "metadata": {},
   "outputs": [],
   "source": [
    "from nltk.corpus import stopwords\n",
    "stop_words = set(stopwords.words('english'))\n",
    "data['text'] = data['text'].apply(lambda x: ' '.join([word for word in x.split() if word.lower() not in (stop_words)]))\n",
    "data['tokens'] = data['tokens'].apply(lambda tokens: [token for token in tokens if token.lower() not in (stop_words)])"
   ]
  },
  {
   "cell_type": "code",
   "execution_count": 9,
   "metadata": {},
   "outputs": [
    {
     "data": {
      "text/plain": [
       "0        [WASHINGTON, Reuters, head, conservative, Repu...\n",
       "1        [WASHINGTON, Reuters, Transgender, people, all...\n",
       "2        [WASHINGTON, Reuters, special, counsel, invest...\n",
       "3        [WASHINGTON, Reuters, Trump, campaign, adviser...\n",
       "4        [SEATTLEWASHINGTON, Reuters, President, Donald...\n",
       "5        [WEST, PALM, BEACH, FlaWASHINGTON, Reuters, Wh...\n",
       "6        [WEST, PALM, BEACH, Fla, Reuters, President, D...\n",
       "7        [following, statements, posted, verified, Twit...\n",
       "8        [following, statements, posted, verified, Twit...\n",
       "9        [WASHINGTON, Reuters, Alabama, Secretary, Stat...\n",
       "10       [Reuters, Alabama, officials, Thursday, certif...\n",
       "11       [NEW, YORKWASHINGTON, Reuters, new, US, tax, c...\n",
       "12       [following, statements, posted, verified, Twit...\n",
       "13       [following, statements, posted, verified, Twit...\n",
       "14       [Dec, story, second, paragraph, corrects, name...\n",
       "15       [Reuters, lottery, drawing, settle, tied, Virg...\n",
       "16       [WASHINGTON, Reuters, GeorgianAmerican, busine...\n",
       "17       [following, statements, posted, verified, Twit...\n",
       "18       [Reuters, US, appeals, court, Washington, Tues...\n",
       "19       [Reuters, giftwrapped, package, addressed, US,...\n",
       "20       [WASHINGTON, Reuters, federal, judge, Seattle,...\n",
       "21       [NEW, YORK, Reuters, US, Justice, Department, ...\n",
       "22       [Reuters, US, appeals, court, Friday, said, Pr...\n",
       "23       [WASHINGTON, Reuters, federal, appeals, court,...\n",
       "24       [LIMA, Reuters, Peru’s, President, Pedro, Pabl...\n",
       "25       [WASHINGTON, Reuters, US, President, Donald, T...\n",
       "26       [WASHINGTON, Reuters, US, financial, regulator...\n",
       "27       [following, statements, posted, verified, Twit...\n",
       "28       [MEXICO, CITY, Reuters, Mexico’s, finance, min...\n",
       "29       [WASHINGTON, Reuters, US, Senate, Majority, Le...\n",
       "                               ...                        \n",
       "44868    [st, Century, Wire, says, Unless, living, rock...\n",
       "44869    [st, Century, Wire, says, Iowa, Democratic, Pa...\n",
       "44870    [st, Century, Wire, says, people, accept, cert...\n",
       "44871    [st, Century, Wire, says, Republican, Ted, Cru...\n",
       "44872    [Tune, Alternate, Current, Radio, Network, ACR...\n",
       "44873    [st, Century, Wire, says, CIA, trying, best, a...\n",
       "44874    [st, Century, Wire, says, following, events, o...\n",
       "44875    [Episode, SUNDAY, WIRE, SHOW, finally, resumes...\n",
       "44876    [st, Century, Wire, saysUPDATE, PM, ET, Due, p...\n",
       "44877    [Patrick, Henningsen, st, Century, WireThere, ...\n",
       "44878    [KILLED, Rancher, protest, spokesman, Robert, ...\n",
       "44879    [Tune, Alternate, Current, Radio, Network, ACR...\n",
       "44880    [Patrick, Henningsen, st, Century, Wire, UPDAT...\n",
       "44881    [Episode, SUNDAY, WIRE, SHOW, finally, resumes...\n",
       "44882    [st, Century, Wire, says, Various, parties, Wa...\n",
       "44883    [st, Century, Wire, says, still, refuse, enter...\n",
       "44884    [st, Century, Wire, says, far, nearly, days, p...\n",
       "44885    [st, Century, Wire, says, following, protest, ...\n",
       "44886    [Tune, Alternate, Current, Radio, Network, ACR...\n",
       "44887    [RTOne, visible, members, armed, militia, took...\n",
       "44888    [st, Century, Wire, says, week, historic, inte...\n",
       "44889    [Dady, Chery, Gilbert, MercierAll, writers, de...\n",
       "44890    [Vic, Bishop, Waking, TimesOur, reality, caref...\n",
       "44891    [Paul, Craig, RobertsIn, last, years, th, cent...\n",
       "44892    [Robert, Fantina, CounterpunchAlthough, United...\n",
       "44893    [st, Century, Wire, says, WIRE, reported, earl...\n",
       "44894    [st, Century, Wire, says, familiar, theme, Whe...\n",
       "44895    [Patrick, Henningsen, st, Century, WireRemembe...\n",
       "44896    [st, Century, Wire, says, Al, Jazeera, America...\n",
       "44897    [st, Century, Wire, says, WIRE, predicted, new...\n",
       "Name: tokens, Length: 44898, dtype: object"
      ]
     },
     "execution_count": 9,
     "metadata": {},
     "output_type": "execute_result"
    }
   ],
   "source": [
    "data['tokens'] "
   ]
  },
  {
   "cell_type": "code",
   "execution_count": 10,
   "metadata": {},
   "outputs": [],
   "source": [
    "english = enchant.DictWithPWL(\"en_US\", \"vocab.txt\")\n",
    "wrong_words={}\n",
    "correct_words=set()\n",
    "def get_typos_t(tokens):\n",
    "     wrong_count=0\n",
    "     for token in tokens:\n",
    "            if token in wrong_words:\n",
    "                wrong_words[token]+=1\n",
    "                wrong_count+=1\n",
    "            else:\n",
    "                if not token in correct_words:    \n",
    "                    if not english.check(token) and not english.check(token.capitalize()):\n",
    "                        wrong_words[token]=1\n",
    "                        wrong_count+=1\n",
    "                    else:\n",
    "                        correct_words.add(token)\n",
    "     return wrong_count       "
   ]
  },
  {
   "cell_type": "markdown",
   "metadata": {
    "heading_collapsed": true
   },
   "source": [
    "# Keep Cleaning"
   ]
  },
  {
   "cell_type": "code",
   "execution_count": 11,
   "metadata": {
    "hidden": true
   },
   "outputs": [],
   "source": [
    "data['token_count']=data['tokens'].apply(lambda tokens:len(tokens))"
   ]
  },
  {
   "cell_type": "code",
   "execution_count": 12,
   "metadata": {
    "hidden": true
   },
   "outputs": [],
   "source": [
    "data['wrong_tokens_count']=data['tokens'].apply(get_typos_t)"
   ]
  },
  {
   "cell_type": "code",
   "execution_count": 13,
   "metadata": {
    "hidden": true
   },
   "outputs": [],
   "source": [
    "data['typo_ratio']= data['wrong_tokens_count']/data['token_count']\n"
   ]
  },
  {
   "cell_type": "code",
   "execution_count": 14,
   "metadata": {
    "hidden": true
   },
   "outputs": [
    {
     "data": {
      "text/plain": [
       "<AxesSubplot:xlabel='score', ylabel='typo_ratio'>"
      ]
     },
     "execution_count": 14,
     "metadata": {},
     "output_type": "execute_result"
    },
    {
     "data": {
      "image/png": "[encoded data removed]",
      "text/plain": [
       "<Figure size 432x288 with 1 Axes>"
      ]
     },
     "metadata": {
      "needs_background": "light"
     },
     "output_type": "display_data"
    }
   ],
   "source": [
    "sns.scatterplot(data=data, x=\"score\", y=\"typo_ratio\", hue=\"score\", style=\"score\")"
   ]
  },
  {
   "cell_type": "code",
   "execution_count": 15,
   "metadata": {
    "hidden": true
   },
   "outputs": [
    {
     "data": {
      "text/plain": [
       "Index(['title', 'text', 'score', 'tokens', 'token_count', 'wrong_tokens_count',\n",
       "       'typo_ratio'],\n",
       "      dtype='object')"
      ]
     },
     "execution_count": 15,
     "metadata": {},
     "output_type": "execute_result"
    }
   ],
   "source": [
    "data.columns"
   ]
  },
  {
   "cell_type": "code",
   "execution_count": 16,
   "metadata": {
    "hidden": true
   },
   "outputs": [],
   "source": [
    "data_clean = data[['title', 'text', 'typo_ratio','score']].copy()"
   ]
  },
  {
   "cell_type": "code",
   "execution_count": 17,
   "metadata": {
    "hidden": true
   },
   "outputs": [
    {
     "data": {
      "text/plain": [
       "(44898, 4)"
      ]
     },
     "execution_count": 17,
     "metadata": {},
     "output_type": "execute_result"
    }
   ],
   "source": [
    "data_clean.shape"
   ]
  },
  {
   "cell_type": "markdown",
   "metadata": {},
   "source": [
    "# Log Regression"
   ]
  },
  {
   "cell_type": "code",
   "execution_count": 18,
   "metadata": {},
   "outputs": [
    {
     "data": {
      "text/html": [
       "<div>\n",
       "<style scoped>\n",
       "    .dataframe tbody tr th:only-of-type {\n",
       "        vertical-align: middle;\n",
       "    }\n",
       "\n",
       "    .dataframe tbody tr th {\n",
       "        vertical-align: top;\n",
       "    }\n",
       "\n",
       "    .dataframe thead th {\n",
       "        text-align: right;\n",
       "    }\n",
       "</style>\n",
       "<table border=\"1\" class=\"dataframe\">\n",
       "  <thead>\n",
       "    <tr style=\"text-align: right;\">\n",
       "      <th></th>\n",
       "      <th>title</th>\n",
       "      <th>text</th>\n",
       "      <th>typo_ratio</th>\n",
       "      <th>score</th>\n",
       "    </tr>\n",
       "  </thead>\n",
       "  <tbody>\n",
       "    <tr>\n",
       "      <th>0</th>\n",
       "      <td>As U.S. budget fight looms, Republicans flip t...</td>\n",
       "      <td>WASHINGTON Reuters  The head of a conservative...</td>\n",
       "      <td>0.062780</td>\n",
       "      <td>1</td>\n",
       "    </tr>\n",
       "    <tr>\n",
       "      <th>1</th>\n",
       "      <td>U.S. military to accept transgender recruits o...</td>\n",
       "      <td>WASHINGTON Reuters  Transgender people will be...</td>\n",
       "      <td>0.055556</td>\n",
       "      <td>1</td>\n",
       "    </tr>\n",
       "    <tr>\n",
       "      <th>2</th>\n",
       "      <td>Senior U.S. Republican senator: 'Let Mr. Muell...</td>\n",
       "      <td>WASHINGTON Reuters  The special counsel invest...</td>\n",
       "      <td>0.041045</td>\n",
       "      <td>1</td>\n",
       "    </tr>\n",
       "    <tr>\n",
       "      <th>3</th>\n",
       "      <td>FBI Russia probe helped by Australian diplomat...</td>\n",
       "      <td>WASHINGTON Reuters  Trump campaign adviser Geo...</td>\n",
       "      <td>0.069869</td>\n",
       "      <td>1</td>\n",
       "    </tr>\n",
       "    <tr>\n",
       "      <th>4</th>\n",
       "      <td>Trump wants Postal Service to charge 'much mor...</td>\n",
       "      <td>SEATTLEWASHINGTON Reuters  President Donald Tr...</td>\n",
       "      <td>0.061224</td>\n",
       "      <td>1</td>\n",
       "    </tr>\n",
       "  </tbody>\n",
       "</table>\n",
       "</div>"
      ],
      "text/plain": [
       "                                               title  \\\n",
       "0  As U.S. budget fight looms, Republicans flip t...   \n",
       "1  U.S. military to accept transgender recruits o...   \n",
       "2  Senior U.S. Republican senator: 'Let Mr. Muell...   \n",
       "3  FBI Russia probe helped by Australian diplomat...   \n",
       "4  Trump wants Postal Service to charge 'much mor...   \n",
       "\n",
       "                                                text  typo_ratio  score  \n",
       "0  WASHINGTON Reuters  The head of a conservative...    0.062780      1  \n",
       "1  WASHINGTON Reuters  Transgender people will be...    0.055556      1  \n",
       "2  WASHINGTON Reuters  The special counsel invest...    0.041045      1  \n",
       "3  WASHINGTON Reuters  Trump campaign adviser Geo...    0.069869      1  \n",
       "4  SEATTLEWASHINGTON Reuters  President Donald Tr...    0.061224      1  "
      ]
     },
     "execution_count": 18,
     "metadata": {},
     "output_type": "execute_result"
    }
   ],
   "source": [
    "data_clean.head()"
   ]
  },
  {
   "cell_type": "code",
   "execution_count": 19,
   "metadata": {},
   "outputs": [],
   "source": [
    "#feature_cols = ['text', 'typo_ratio']\n",
    "#x=data_clean[feature_cols]\n",
    "y=data['score']"
   ]
  },
  {
   "cell_type": "code",
   "execution_count": 20,
   "metadata": {},
   "outputs": [],
   "source": [
    "feature_cols = ['text','typo_ratio']\n",
    "\n",
    "#x=data_clean[feature_cols]\n",
    "x=data_clean[['text','typo_ratio']]"
   ]
  },
  {
   "cell_type": "code",
   "execution_count": 21,
   "metadata": {},
   "outputs": [
    {
     "data": {
      "text/plain": [
       "(44898, 2)"
      ]
     },
     "execution_count": 21,
     "metadata": {},
     "output_type": "execute_result"
    }
   ],
   "source": [
    "x.shape"
   ]
  },
  {
   "cell_type": "code",
   "execution_count": 22,
   "metadata": {},
   "outputs": [],
   "source": [
    "from sklearn.model_selection import train_test_split\n",
    "x_train,x_test,y_train,y_test=train_test_split(x,y,random_state=0,test_size=0.3)"
   ]
  },
  {
   "cell_type": "code",
   "execution_count": 23,
   "metadata": {},
   "outputs": [
    {
     "data": {
      "text/html": [
       "<div>\n",
       "<style scoped>\n",
       "    .dataframe tbody tr th:only-of-type {\n",
       "        vertical-align: middle;\n",
       "    }\n",
       "\n",
       "    .dataframe tbody tr th {\n",
       "        vertical-align: top;\n",
       "    }\n",
       "\n",
       "    .dataframe thead th {\n",
       "        text-align: right;\n",
       "    }\n",
       "</style>\n",
       "<table border=\"1\" class=\"dataframe\">\n",
       "  <thead>\n",
       "    <tr style=\"text-align: right;\">\n",
       "      <th></th>\n",
       "      <th>text</th>\n",
       "      <th>typo_ratio</th>\n",
       "    </tr>\n",
       "  </thead>\n",
       "  <tbody>\n",
       "    <tr>\n",
       "      <th>33958</th>\n",
       "      <td>This latest Wikileaks email is evidence of mor...</td>\n",
       "      <td>0.092391</td>\n",
       "    </tr>\n",
       "    <tr>\n",
       "      <th>19813</th>\n",
       "      <td>BERLIN Reuters  Germany s Free Democrats FDP w...</td>\n",
       "      <td>0.117302</td>\n",
       "    </tr>\n",
       "    <tr>\n",
       "      <th>25814</th>\n",
       "      <td>Trump has been having a very very bad week Fir...</td>\n",
       "      <td>0.049020</td>\n",
       "    </tr>\n",
       "    <tr>\n",
       "      <th>18689</th>\n",
       "      <td>TALLINN Reuters  French President Emmanuel Mac...</td>\n",
       "      <td>0.054670</td>\n",
       "    </tr>\n",
       "    <tr>\n",
       "      <th>44673</th>\n",
       "      <td>Do roses know their thorns can hurt    a quot...</td>\n",
       "      <td>0.075447</td>\n",
       "    </tr>\n",
       "    <tr>\n",
       "      <th>22749</th>\n",
       "      <td>Earlier this month a sinkhole opened up outsid...</td>\n",
       "      <td>0.232687</td>\n",
       "    </tr>\n",
       "    <tr>\n",
       "      <th>2628</th>\n",
       "      <td>WASHINGTON Reuters  The cofounder of the firm ...</td>\n",
       "      <td>0.090909</td>\n",
       "    </tr>\n",
       "    <tr>\n",
       "      <th>10117</th>\n",
       "      <td>WASHINGTON Reuters  US Vice President Joe Bide...</td>\n",
       "      <td>0.066667</td>\n",
       "    </tr>\n",
       "    <tr>\n",
       "      <th>4388</th>\n",
       "      <td>BRUSSELS Reuters  European Council President D...</td>\n",
       "      <td>0.050000</td>\n",
       "    </tr>\n",
       "    <tr>\n",
       "      <th>16056</th>\n",
       "      <td>TOKYO Reuters  A tunnel at North Korea s nucle...</td>\n",
       "      <td>0.035714</td>\n",
       "    </tr>\n",
       "    <tr>\n",
       "      <th>964</th>\n",
       "      <td>WASHINGTON Reuters  The attorney for former Tr...</td>\n",
       "      <td>0.160494</td>\n",
       "    </tr>\n",
       "    <tr>\n",
       "      <th>12370</th>\n",
       "      <td>DUBLIN Reuters  An Irish parliamentary committ...</td>\n",
       "      <td>0.030769</td>\n",
       "    </tr>\n",
       "    <tr>\n",
       "      <th>41275</th>\n",
       "      <td>Sean Hannity is taking a page from Trump s pla...</td>\n",
       "      <td>0.136054</td>\n",
       "    </tr>\n",
       "    <tr>\n",
       "      <th>2270</th>\n",
       "      <td>WASHINGTON Reuters  With the Trump administrat...</td>\n",
       "      <td>0.102210</td>\n",
       "    </tr>\n",
       "    <tr>\n",
       "      <th>32755</th>\n",
       "      <td>Mere months after being on the receiving end o...</td>\n",
       "      <td>0.095238</td>\n",
       "    </tr>\n",
       "    <tr>\n",
       "      <th>31518</th>\n",
       "      <td>HATE IS WHAT ANTIFA DOES SO WELL DOES THE LEFT...</td>\n",
       "      <td>0.253165</td>\n",
       "    </tr>\n",
       "    <tr>\n",
       "      <th>6615</th>\n",
       "      <td>Reuters  US Presidentelect Donald Trump on Wed...</td>\n",
       "      <td>0.065708</td>\n",
       "    </tr>\n",
       "    <tr>\n",
       "      <th>18256</th>\n",
       "      <td>LOS TEQUES Venezuela Reuters  Venezuelan sibli...</td>\n",
       "      <td>0.044487</td>\n",
       "    </tr>\n",
       "    <tr>\n",
       "      <th>28939</th>\n",
       "      <td>Donald Trump lost his temper on CNN when Jake ...</td>\n",
       "      <td>0.068592</td>\n",
       "    </tr>\n",
       "    <tr>\n",
       "      <th>11822</th>\n",
       "      <td>WARSAW Reuters  The European Commission s deci...</td>\n",
       "      <td>0.085106</td>\n",
       "    </tr>\n",
       "    <tr>\n",
       "      <th>42730</th>\n",
       "      <td>This isn t going to end well for Germany A hos...</td>\n",
       "      <td>0.085561</td>\n",
       "    </tr>\n",
       "    <tr>\n",
       "      <th>2147</th>\n",
       "      <td>WASHINGTON Reuters  Longtime Trump communicati...</td>\n",
       "      <td>0.059829</td>\n",
       "    </tr>\n",
       "    <tr>\n",
       "      <th>12574</th>\n",
       "      <td>LONDON Reuters  BAE Systems and Qatar have ent...</td>\n",
       "      <td>0.075000</td>\n",
       "    </tr>\n",
       "    <tr>\n",
       "      <th>6632</th>\n",
       "      <td>WASHINGTON Reuters  Lockheed Martin Corp’s F f...</td>\n",
       "      <td>0.101190</td>\n",
       "    </tr>\n",
       "    <tr>\n",
       "      <th>24058</th>\n",
       "      <td>According to GOP Congressman Sean Duffy we nee...</td>\n",
       "      <td>0.084656</td>\n",
       "    </tr>\n",
       "    <tr>\n",
       "      <th>42909</th>\n",
       "      <td>The Center For Medical Progress warned us thes...</td>\n",
       "      <td>0.062977</td>\n",
       "    </tr>\n",
       "    <tr>\n",
       "      <th>4103</th>\n",
       "      <td>WASHINGTON Reuters  The US House of Representa...</td>\n",
       "      <td>0.036496</td>\n",
       "    </tr>\n",
       "    <tr>\n",
       "      <th>38369</th>\n",
       "      <td>This is some pretty surreal stuff In the four ...</td>\n",
       "      <td>0.075949</td>\n",
       "    </tr>\n",
       "    <tr>\n",
       "      <th>40218</th>\n",
       "      <td>MI PA OH and NY residents were all warned he c...</td>\n",
       "      <td>0.077844</td>\n",
       "    </tr>\n",
       "    <tr>\n",
       "      <th>8639</th>\n",
       "      <td>CHICAGO Reuters  A prominent Illinois Republic...</td>\n",
       "      <td>0.083333</td>\n",
       "    </tr>\n",
       "    <tr>\n",
       "      <th>...</th>\n",
       "      <td>...</td>\n",
       "      <td>...</td>\n",
       "    </tr>\n",
       "    <tr>\n",
       "      <th>7599</th>\n",
       "      <td>JACKSON Ga Reuters  Down a Georgia country ro...</td>\n",
       "      <td>0.052953</td>\n",
       "    </tr>\n",
       "    <tr>\n",
       "      <th>1871</th>\n",
       "      <td>WASHINGTON Reuters  President Donald Trump’s n...</td>\n",
       "      <td>0.112211</td>\n",
       "    </tr>\n",
       "    <tr>\n",
       "      <th>18430</th>\n",
       "      <td>GAZA Reuters  Prime Minister Rami alHamdallah ...</td>\n",
       "      <td>0.094340</td>\n",
       "    </tr>\n",
       "    <tr>\n",
       "      <th>7877</th>\n",
       "      <td>NEW YORK Reuters  Even before Sunday nights v...</td>\n",
       "      <td>0.026144</td>\n",
       "    </tr>\n",
       "    <tr>\n",
       "      <th>37619</th>\n",
       "      <td>JUDGE NAPOLITANO was on FOX  Friends this morn...</td>\n",
       "      <td>0.094595</td>\n",
       "    </tr>\n",
       "    <tr>\n",
       "      <th>5072</th>\n",
       "      <td>SAN FRANCISCO Reuters  The state of Hawaii sai...</td>\n",
       "      <td>0.032727</td>\n",
       "    </tr>\n",
       "    <tr>\n",
       "      <th>2163</th>\n",
       "      <td>WASHINGTON Reuters  Mexico’s Economy Minister ...</td>\n",
       "      <td>0.105263</td>\n",
       "    </tr>\n",
       "    <tr>\n",
       "      <th>38804</th>\n",
       "      <td></td>\n",
       "      <td>NaN</td>\n",
       "    </tr>\n",
       "    <tr>\n",
       "      <th>6921</th>\n",
       "      <td>MOSCOW Reuters  US Presidentelect Donald Trump...</td>\n",
       "      <td>0.110465</td>\n",
       "    </tr>\n",
       "    <tr>\n",
       "      <th>38984</th>\n",
       "      <td>A supervisory special agent who is now under s...</td>\n",
       "      <td>0.066298</td>\n",
       "    </tr>\n",
       "    <tr>\n",
       "      <th>27469</th>\n",
       "      <td>The world reeled when beloved musical icon Pri...</td>\n",
       "      <td>0.079096</td>\n",
       "    </tr>\n",
       "    <tr>\n",
       "      <th>16921</th>\n",
       "      <td>BRUSSELS Reuters  European Council President D...</td>\n",
       "      <td>0.021978</td>\n",
       "    </tr>\n",
       "    <tr>\n",
       "      <th>35665</th>\n",
       "      <td>Judge Jeanine rips into the Republican Establi...</td>\n",
       "      <td>0.000000</td>\n",
       "    </tr>\n",
       "    <tr>\n",
       "      <th>24152</th>\n",
       "      <td>Ted Cruz accused Senator Al Franken of lying a...</td>\n",
       "      <td>0.129944</td>\n",
       "    </tr>\n",
       "    <tr>\n",
       "      <th>43095</th>\n",
       "      <td>But what about Hillary being a  formidable opp...</td>\n",
       "      <td>0.079812</td>\n",
       "    </tr>\n",
       "    <tr>\n",
       "      <th>18983</th>\n",
       "      <td>HARARE Reuters  A Zimbabwean court on Tuesday ...</td>\n",
       "      <td>0.050000</td>\n",
       "    </tr>\n",
       "    <tr>\n",
       "      <th>32230</th>\n",
       "      <td>It looks like Bill O Reilly is getting the las...</td>\n",
       "      <td>0.105263</td>\n",
       "    </tr>\n",
       "    <tr>\n",
       "      <th>17089</th>\n",
       "      <td>BRUSSELS Reuters  Catalonia s regional governm...</td>\n",
       "      <td>0.037037</td>\n",
       "    </tr>\n",
       "    <tr>\n",
       "      <th>14650</th>\n",
       "      <td>ISTANBUL Reuters  Turkey detained  people incl...</td>\n",
       "      <td>0.113475</td>\n",
       "    </tr>\n",
       "    <tr>\n",
       "      <th>39512</th>\n",
       "      <td>Robin Williams was a oneofakind comedian His b...</td>\n",
       "      <td>0.131579</td>\n",
       "    </tr>\n",
       "    <tr>\n",
       "      <th>15430</th>\n",
       "      <td>BRUSSELS Reuters  EU diplomats will start sket...</td>\n",
       "      <td>0.018277</td>\n",
       "    </tr>\n",
       "    <tr>\n",
       "      <th>14935</th>\n",
       "      <td>BERLIN Reuters  Environmental policy dominated...</td>\n",
       "      <td>0.057143</td>\n",
       "    </tr>\n",
       "    <tr>\n",
       "      <th>20757</th>\n",
       "      <td>MUMBAI Reuters  An Indian court on Thursday se...</td>\n",
       "      <td>0.116788</td>\n",
       "    </tr>\n",
       "    <tr>\n",
       "      <th>41993</th>\n",
       "      <td>This story is for anyone who thinks King Obama...</td>\n",
       "      <td>0.068027</td>\n",
       "    </tr>\n",
       "    <tr>\n",
       "      <th>32103</th>\n",
       "      <td>This is awesome London Mayor Sadiq Khan was dr...</td>\n",
       "      <td>0.107527</td>\n",
       "    </tr>\n",
       "    <tr>\n",
       "      <th>30403</th>\n",
       "      <td>Paul Krugman by his own admission has been dro...</td>\n",
       "      <td>0.052910</td>\n",
       "    </tr>\n",
       "    <tr>\n",
       "      <th>21243</th>\n",
       "      <td>GUATEMALA CITY Reuters  Guatemala s top court ...</td>\n",
       "      <td>0.043796</td>\n",
       "    </tr>\n",
       "    <tr>\n",
       "      <th>42613</th>\n",
       "      <td>UNDER MY PLAN   ELECTRICITY RATES WOULD NECES...</td>\n",
       "      <td>0.066390</td>\n",
       "    </tr>\n",
       "    <tr>\n",
       "      <th>43567</th>\n",
       "      <td>st Century Wire says Washington s Russian witc...</td>\n",
       "      <td>0.116608</td>\n",
       "    </tr>\n",
       "    <tr>\n",
       "      <th>2732</th>\n",
       "      <td>WINNIPEG Manitoba Reuters  Former US President...</td>\n",
       "      <td>0.048387</td>\n",
       "    </tr>\n",
       "  </tbody>\n",
       "</table>\n",
       "<p>31428 rows × 2 columns</p>\n",
       "</div>"
      ],
      "text/plain": [
       "                                                    text  typo_ratio\n",
       "33958  This latest Wikileaks email is evidence of mor...    0.092391\n",
       "19813  BERLIN Reuters  Germany s Free Democrats FDP w...    0.117302\n",
       "25814  Trump has been having a very very bad week Fir...    0.049020\n",
       "18689  TALLINN Reuters  French President Emmanuel Mac...    0.054670\n",
       "44673   Do roses know their thorns can hurt    a quot...    0.075447\n",
       "22749  Earlier this month a sinkhole opened up outsid...    0.232687\n",
       "2628   WASHINGTON Reuters  The cofounder of the firm ...    0.090909\n",
       "10117  WASHINGTON Reuters  US Vice President Joe Bide...    0.066667\n",
       "4388   BRUSSELS Reuters  European Council President D...    0.050000\n",
       "16056  TOKYO Reuters  A tunnel at North Korea s nucle...    0.035714\n",
       "964    WASHINGTON Reuters  The attorney for former Tr...    0.160494\n",
       "12370  DUBLIN Reuters  An Irish parliamentary committ...    0.030769\n",
       "41275  Sean Hannity is taking a page from Trump s pla...    0.136054\n",
       "2270   WASHINGTON Reuters  With the Trump administrat...    0.102210\n",
       "32755  Mere months after being on the receiving end o...    0.095238\n",
       "31518  HATE IS WHAT ANTIFA DOES SO WELL DOES THE LEFT...    0.253165\n",
       "6615   Reuters  US Presidentelect Donald Trump on Wed...    0.065708\n",
       "18256  LOS TEQUES Venezuela Reuters  Venezuelan sibli...    0.044487\n",
       "28939  Donald Trump lost his temper on CNN when Jake ...    0.068592\n",
       "11822  WARSAW Reuters  The European Commission s deci...    0.085106\n",
       "42730  This isn t going to end well for Germany A hos...    0.085561\n",
       "2147   WASHINGTON Reuters  Longtime Trump communicati...    0.059829\n",
       "12574  LONDON Reuters  BAE Systems and Qatar have ent...    0.075000\n",
       "6632   WASHINGTON Reuters  Lockheed Martin Corp’s F f...    0.101190\n",
       "24058  According to GOP Congressman Sean Duffy we nee...    0.084656\n",
       "42909  The Center For Medical Progress warned us thes...    0.062977\n",
       "4103   WASHINGTON Reuters  The US House of Representa...    0.036496\n",
       "38369  This is some pretty surreal stuff In the four ...    0.075949\n",
       "40218  MI PA OH and NY residents were all warned he c...    0.077844\n",
       "8639   CHICAGO Reuters  A prominent Illinois Republic...    0.083333\n",
       "...                                                  ...         ...\n",
       "7599    JACKSON Ga Reuters  Down a Georgia country ro...    0.052953\n",
       "1871   WASHINGTON Reuters  President Donald Trump’s n...    0.112211\n",
       "18430  GAZA Reuters  Prime Minister Rami alHamdallah ...    0.094340\n",
       "7877    NEW YORK Reuters  Even before Sunday nights v...    0.026144\n",
       "37619  JUDGE NAPOLITANO was on FOX  Friends this morn...    0.094595\n",
       "5072   SAN FRANCISCO Reuters  The state of Hawaii sai...    0.032727\n",
       "2163   WASHINGTON Reuters  Mexico’s Economy Minister ...    0.105263\n",
       "38804                                                            NaN\n",
       "6921   MOSCOW Reuters  US Presidentelect Donald Trump...    0.110465\n",
       "38984  A supervisory special agent who is now under s...    0.066298\n",
       "27469  The world reeled when beloved musical icon Pri...    0.079096\n",
       "16921  BRUSSELS Reuters  European Council President D...    0.021978\n",
       "35665  Judge Jeanine rips into the Republican Establi...    0.000000\n",
       "24152  Ted Cruz accused Senator Al Franken of lying a...    0.129944\n",
       "43095  But what about Hillary being a  formidable opp...    0.079812\n",
       "18983  HARARE Reuters  A Zimbabwean court on Tuesday ...    0.050000\n",
       "32230  It looks like Bill O Reilly is getting the las...    0.105263\n",
       "17089  BRUSSELS Reuters  Catalonia s regional governm...    0.037037\n",
       "14650  ISTANBUL Reuters  Turkey detained  people incl...    0.113475\n",
       "39512  Robin Williams was a oneofakind comedian His b...    0.131579\n",
       "15430  BRUSSELS Reuters  EU diplomats will start sket...    0.018277\n",
       "14935  BERLIN Reuters  Environmental policy dominated...    0.057143\n",
       "20757  MUMBAI Reuters  An Indian court on Thursday se...    0.116788\n",
       "41993  This story is for anyone who thinks King Obama...    0.068027\n",
       "32103  This is awesome London Mayor Sadiq Khan was dr...    0.107527\n",
       "30403  Paul Krugman by his own admission has been dro...    0.052910\n",
       "21243  GUATEMALA CITY Reuters  Guatemala s top court ...    0.043796\n",
       "42613   UNDER MY PLAN   ELECTRICITY RATES WOULD NECES...    0.066390\n",
       "43567  st Century Wire says Washington s Russian witc...    0.116608\n",
       "2732   WINNIPEG Manitoba Reuters  Former US President...    0.048387\n",
       "\n",
       "[31428 rows x 2 columns]"
      ]
     },
     "execution_count": 23,
     "metadata": {},
     "output_type": "execute_result"
    }
   ],
   "source": [
    "x_train"
   ]
  },
  {
   "cell_type": "code",
   "execution_count": 24,
   "metadata": {},
   "outputs": [],
   "source": [
    "from sklearn.pipeline import Pipeline\n",
    "from sklearn.preprocessing import MinMaxScaler\n",
    "from sklearn.compose import ColumnTransformer\n",
    "from sklearn.naive_bayes import MultinomialNB\n",
    "from sklearn.feature_extraction.text import CountVectorizer\n",
    "from sklearn.linear_model import LogisticRegression\n",
    "preprocessor = ColumnTransformer([\n",
    "    ('vectorizer_text', CountVectorizer(), 'text'),\n",
    "\n",
    "])\n",
    "final_pipe = Pipeline([\n",
    "    ('preprocessing', preprocessor),\n",
    "    ('Logistic', LogisticRegression())])"
   ]
  },
  {
   "cell_type": "code",
   "execution_count": 25,
   "metadata": {},
   "outputs": [],
   "source": [
    "\n",
    "# #from sklearn.feature_extraction.text import TfidfVectorizer\n",
    "\n",
    "# from sklearn.linear_model import LogisticRegression\n",
    "# from sklearn.metrics import accuracy_score\n",
    "\n",
    "# vectorizer = CountVectorizer()\n",
    "# #vectorizer_T = TfidfVectorizer()\n",
    "# #x_vec = vectorizer.fit_transform(x_train)\n",
    "# x_train_vec = vectorizer.fit_transform(x_train['text'])"
   ]
  },
  {
   "cell_type": "code",
   "execution_count": 26,
   "metadata": {},
   "outputs": [
    {
     "name": "stderr",
     "output_type": "stream",
     "text": [
      "/Users/andreamontagnoli/.pyenv/versions/3.7.7/envs/lewagon/lib/python3.7/site-packages/sklearn/linear_model/logistic.py:433: FutureWarning: Default solver will be changed to 'lbfgs' in 0.22. Specify a solver to silence this warning.\n",
      "  FutureWarning)\n"
     ]
    },
    {
     "data": {
      "text/plain": [
       "Pipeline(memory=None,\n",
       "     steps=[('preprocessing', ColumnTransformer(n_jobs=None, remainder='drop', sparse_threshold=0.3,\n",
       "         transformer_weights=None,\n",
       "         transformers=[('vectorizer_text', CountVectorizer(analyzer='word', binary=False, decode_error='strict',\n",
       "        dtype=<class 'numpy.int64'>, encoding='utf-8', i...penalty='l2', random_state=None, solver='warn',\n",
       "          tol=0.0001, verbose=0, warm_start=False))])"
      ]
     },
     "execution_count": 26,
     "metadata": {},
     "output_type": "execute_result"
    }
   ],
   "source": [
    "final_pipe.fit(x_train,y_train)"
   ]
  },
  {
   "cell_type": "code",
   "execution_count": 27,
   "metadata": {},
   "outputs": [
    {
     "data": {
      "text/plain": [
       "0.9966592427616926"
      ]
     },
     "execution_count": 27,
     "metadata": {},
     "output_type": "execute_result"
    }
   ],
   "source": [
    "final_pipe.score(x_test,y_test)"
   ]
  },
  {
   "cell_type": "code",
   "execution_count": 28,
   "metadata": {},
   "outputs": [
    {
     "data": {
      "text/plain": [
       "(13470,)"
      ]
     },
     "execution_count": 28,
     "metadata": {},
     "output_type": "execute_result"
    }
   ],
   "source": [
    "y_test.shape"
   ]
  },
  {
   "cell_type": "code",
   "execution_count": 29,
   "metadata": {},
   "outputs": [],
   "source": [
    "# x_train_vec=pd.DataFrame(x_train_vec)\n",
    "# #x_vec=x_train_vec+x_train['typo_ratio']"
   ]
  },
  {
   "cell_type": "code",
   "execution_count": 30,
   "metadata": {},
   "outputs": [],
   "source": [
    "# x_vec=x_train_vec+x_train['typo_ratio']"
   ]
  },
  {
   "cell_type": "code",
   "execution_count": 31,
   "metadata": {},
   "outputs": [],
   "source": [
    "# model=LogisticRegression()"
   ]
  },
  {
   "cell_type": "code",
   "execution_count": 32,
   "metadata": {},
   "outputs": [],
   "source": [
    "# x_vec.shape"
   ]
  },
  {
   "cell_type": "code",
   "execution_count": 33,
   "metadata": {},
   "outputs": [],
   "source": [
    "# print(x_vec)"
   ]
  },
  {
   "cell_type": "code",
   "execution_count": 34,
   "metadata": {},
   "outputs": [],
   "source": [
    "# y_train.shape"
   ]
  },
  {
   "cell_type": "code",
   "execution_count": 35,
   "metadata": {},
   "outputs": [],
   "source": [
    "# model.fit(x_vec,y_train)"
   ]
  },
  {
   "cell_type": "code",
   "execution_count": 36,
   "metadata": {},
   "outputs": [
    {
     "ename": "NameError",
     "evalue": "name 'model' is not defined",
     "output_type": "error",
     "traceback": [
      "\u001b[0;31m---------------------------------------------------------------------------\u001b[0m",
      "\u001b[0;31mNameError\u001b[0m                                 Traceback (most recent call last)",
      "\u001b[0;32m<ipython-input-36-362b1c5d028d>\u001b[0m in \u001b[0;36m<module>\u001b[0;34m\u001b[0m\n\u001b[0;32m----> 1\u001b[0;31m \u001b[0mpred\u001b[0m\u001b[0;34m=\u001b[0m\u001b[0mmodel\u001b[0m\u001b[0;34m.\u001b[0m\u001b[0mpredict\u001b[0m\u001b[0;34m(\u001b[0m\u001b[0mvectorizer\u001b[0m\u001b[0;34m.\u001b[0m\u001b[0mtransform\u001b[0m\u001b[0;34m(\u001b[0m\u001b[0mx_test\u001b[0m\u001b[0;34m)\u001b[0m\u001b[0;34m)\u001b[0m\u001b[0;34m\u001b[0m\u001b[0;34m\u001b[0m\u001b[0m\n\u001b[0m",
      "\u001b[0;31mNameError\u001b[0m: name 'model' is not defined"
     ]
    }
   ],
   "source": [
    "pred=model.predict(vectorizer.transform(x_test))"
   ]
  },
  {
   "cell_type": "code",
   "execution_count": null,
   "metadata": {},
   "outputs": [],
   "source": [
    "score=accuracy_score(y_test,pred)\n",
    "score"
   ]
  },
  {
   "cell_type": "markdown",
   "metadata": {},
   "source": [
    "# Word_tokenizer"
   ]
  },
  {
   "cell_type": "code",
   "execution_count": null,
   "metadata": {},
   "outputs": [],
   "source": [
    "#data['tokens_tweet']= data['text'].apply(tknzr)"
   ]
  },
  {
   "cell_type": "code",
   "execution_count": null,
   "metadata": {},
   "outputs": [],
   "source": [
    "from nltk.tokenize import word_tokenize\n",
    "data['tokens_tweet']=data['text'].apply(word_tokenize)"
   ]
  },
  {
   "cell_type": "code",
   "execution_count": null,
   "metadata": {},
   "outputs": [],
   "source": [
    "data.head()"
   ]
  },
  {
   "cell_type": "code",
   "execution_count": null,
   "metadata": {},
   "outputs": [],
   "source": []
  }
 ],
 "metadata": {
  "kernelspec": {
   "display_name": "Python 3",
   "language": "python",
   "name": "python3"
  },
  "language_info": {
   "codemirror_mode": {
    "name": "ipython",
    "version": 3
   },
   "file_extension": ".py",
   "mimetype": "text/x-python",
   "name": "python",
   "nbconvert_exporter": "python",
   "pygments_lexer": "ipython3",
   "version": "3.7.7"
  },
  "toc": {
   "base_numbering": 1,
   "nav_menu": {},
   "number_sections": true,
   "sideBar": true,
   "skip_h1_title": false,
   "title_cell": "Table of Contents",
   "title_sidebar": "Contents",
   "toc_cell": false,
   "toc_position": {},
   "toc_section_display": true,
   "toc_window_display": true
  }
 },
 "nbformat": 4,
 "nbformat_minor": 4
}

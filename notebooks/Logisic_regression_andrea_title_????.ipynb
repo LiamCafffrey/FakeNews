{
 "cells": [
  {
   "cell_type": "code",
   "execution_count": 1,
   "metadata": {},
   "outputs": [],
   "source": [
    "import pandas as pd\n",
    "import numpy as np\n",
    "import seaborn as sns\n",
    "import matplotlib.pyplot as plt\n",
    "import nltk\n",
    "from sklearn.preprocessing import LabelBinarizer\n",
    "from nltk.corpus import stopwords\n",
    "from nltk.stem.porter import PorterStemmer\n",
    "from nltk.stem import WordNetLemmatizer\n",
    "from nltk.tokenize import word_tokenize,sent_tokenize\n",
    "from bs4 import BeautifulSoup\n",
    "import re,string,unicodedata\n",
    "from sklearn.metrics import classification_report,confusion_matrix,accuracy_score\n",
    "from sklearn.model_selection import train_test_split\n",
    "from string import punctuation\n",
    "from nltk import pos_tag\n",
    "from nltk.corpus import wordnet\n",
    "import tensorflow as tf\n",
    "from nltk.corpus import stopwords\n",
    "from nltk.tokenize import word_tokenize\n",
    "import string\n",
    "import enchant\n",
    "from sklearn.feature_extraction.text import CountVectorizer"
   ]
  },
  {
   "cell_type": "markdown",
   "metadata": {},
   "source": [
    "# Dataset Preparation"
   ]
  },
  {
   "cell_type": "code",
   "execution_count": 2,
   "metadata": {},
   "outputs": [],
   "source": [
    "true = pd.read_csv('../raw_data/True.csv')\n",
    "fake = pd.read_csv('../raw_data/Fake.csv')"
   ]
  },
  {
   "cell_type": "code",
   "execution_count": 3,
   "metadata": {},
   "outputs": [],
   "source": [
    "true.drop(columns = ['subject','date'], inplace = True)\n",
    "fake.drop(columns = ['subject','date'], inplace = True)"
   ]
  },
  {
   "cell_type": "code",
   "execution_count": 4,
   "metadata": {},
   "outputs": [],
   "source": [
    "true['score'] = 1\n",
    "fake['score'] = 0"
   ]
  },
  {
   "cell_type": "code",
   "execution_count": 5,
   "metadata": {},
   "outputs": [
    {
     "data": {
      "text/html": [
       "<div>\n",
       "<style scoped>\n",
       "    .dataframe tbody tr th:only-of-type {\n",
       "        vertical-align: middle;\n",
       "    }\n",
       "\n",
       "    .dataframe tbody tr th {\n",
       "        vertical-align: top;\n",
       "    }\n",
       "\n",
       "    .dataframe thead th {\n",
       "        text-align: right;\n",
       "    }\n",
       "</style>\n",
       "<table border=\"1\" class=\"dataframe\">\n",
       "  <thead>\n",
       "    <tr style=\"text-align: right;\">\n",
       "      <th></th>\n",
       "      <th>title</th>\n",
       "      <th>text</th>\n",
       "      <th>score</th>\n",
       "    </tr>\n",
       "  </thead>\n",
       "  <tbody>\n",
       "    <tr>\n",
       "      <th>0</th>\n",
       "      <td>As U.S. budget fight looms, Republicans flip t...</td>\n",
       "      <td>WASHINGTON (Reuters) - The head of a conservat...</td>\n",
       "      <td>1</td>\n",
       "    </tr>\n",
       "    <tr>\n",
       "      <th>1</th>\n",
       "      <td>U.S. military to accept transgender recruits o...</td>\n",
       "      <td>WASHINGTON (Reuters) - Transgender people will...</td>\n",
       "      <td>1</td>\n",
       "    </tr>\n",
       "    <tr>\n",
       "      <th>2</th>\n",
       "      <td>Senior U.S. Republican senator: 'Let Mr. Muell...</td>\n",
       "      <td>WASHINGTON (Reuters) - The special counsel inv...</td>\n",
       "      <td>1</td>\n",
       "    </tr>\n",
       "    <tr>\n",
       "      <th>3</th>\n",
       "      <td>FBI Russia probe helped by Australian diplomat...</td>\n",
       "      <td>WASHINGTON (Reuters) - Trump campaign adviser ...</td>\n",
       "      <td>1</td>\n",
       "    </tr>\n",
       "    <tr>\n",
       "      <th>4</th>\n",
       "      <td>Trump wants Postal Service to charge 'much mor...</td>\n",
       "      <td>SEATTLE/WASHINGTON (Reuters) - President Donal...</td>\n",
       "      <td>1</td>\n",
       "    </tr>\n",
       "  </tbody>\n",
       "</table>\n",
       "</div>"
      ],
      "text/plain": [
       "                                               title  \\\n",
       "0  As U.S. budget fight looms, Republicans flip t...   \n",
       "1  U.S. military to accept transgender recruits o...   \n",
       "2  Senior U.S. Republican senator: 'Let Mr. Muell...   \n",
       "3  FBI Russia probe helped by Australian diplomat...   \n",
       "4  Trump wants Postal Service to charge 'much mor...   \n",
       "\n",
       "                                                text  score  \n",
       "0  WASHINGTON (Reuters) - The head of a conservat...      1  \n",
       "1  WASHINGTON (Reuters) - Transgender people will...      1  \n",
       "2  WASHINGTON (Reuters) - The special counsel inv...      1  \n",
       "3  WASHINGTON (Reuters) - Trump campaign adviser ...      1  \n",
       "4  SEATTLE/WASHINGTON (Reuters) - President Donal...      1  "
      ]
     },
     "execution_count": 5,
     "metadata": {},
     "output_type": "execute_result"
    }
   ],
   "source": [
    "data = pd.concat([true,fake],ignore_index=True)\n",
    "data.head()"
   ]
  },
  {
   "cell_type": "markdown",
   "metadata": {},
   "source": [
    "# Cleaning"
   ]
  },
  {
   "cell_type": "code",
   "execution_count": 6,
   "metadata": {},
   "outputs": [],
   "source": [
    "def remove_punctuation(text):\n",
    "    for punctuation in string.punctuation:\n",
    "        text = text.replace(punctuation, '')\n",
    "    return text\n",
    "\n",
    "def remove_numbers(text):\n",
    "    text = ''.join(word for word in text if not word.isdigit())\n",
    "    return text\n",
    "\n",
    "data['title']=data['title'].apply(remove_punctuation)\n",
    "data['title']=data['title'].apply(remove_numbers)\n",
    "\n",
    "data['text']=data['text'].apply(remove_punctuation)\n",
    "data['text']=data['text'].apply(remove_numbers)"
   ]
  },
  {
   "cell_type": "code",
   "execution_count": 7,
   "metadata": {},
   "outputs": [],
   "source": [
    "def tokenize_text(text):\n",
    "    return text.split()\n",
    "data['title_tokens']=data['title'].apply(tokenize_text)\n",
    "data['tokens']=data['text'].apply(tokenize_text)"
   ]
  },
  {
   "cell_type": "code",
   "execution_count": 8,
   "metadata": {},
   "outputs": [],
   "source": [
    "from nltk.corpus import stopwords\n",
    "stop_words = set(stopwords.words('english'))\n",
    "data['title_tokens'] = data['title_tokens'].apply(lambda tokens: [token for token in tokens if token not in (stop_words)])\n",
    "data['tokens'] = data['tokens'].apply(lambda tokens: [token for token in tokens if token not in (stop_words)])"
   ]
  },
  {
   "cell_type": "code",
   "execution_count": 9,
   "metadata": {},
   "outputs": [
    {
     "data": {
      "text/html": [
       "<div>\n",
       "<style scoped>\n",
       "    .dataframe tbody tr th:only-of-type {\n",
       "        vertical-align: middle;\n",
       "    }\n",
       "\n",
       "    .dataframe tbody tr th {\n",
       "        vertical-align: top;\n",
       "    }\n",
       "\n",
       "    .dataframe thead th {\n",
       "        text-align: right;\n",
       "    }\n",
       "</style>\n",
       "<table border=\"1\" class=\"dataframe\">\n",
       "  <thead>\n",
       "    <tr style=\"text-align: right;\">\n",
       "      <th></th>\n",
       "      <th>title</th>\n",
       "      <th>text</th>\n",
       "      <th>score</th>\n",
       "      <th>title_tokens</th>\n",
       "      <th>tokens</th>\n",
       "    </tr>\n",
       "  </thead>\n",
       "  <tbody>\n",
       "    <tr>\n",
       "      <th>0</th>\n",
       "      <td>As US budget fight looms Republicans flip thei...</td>\n",
       "      <td>WASHINGTON Reuters  The head of a conservative...</td>\n",
       "      <td>1</td>\n",
       "      <td>[As, US, budget, fight, looms, Republicans, fl...</td>\n",
       "      <td>[WASHINGTON, Reuters, The, head, conservative,...</td>\n",
       "    </tr>\n",
       "    <tr>\n",
       "      <th>1</th>\n",
       "      <td>US military to accept transgender recruits on ...</td>\n",
       "      <td>WASHINGTON Reuters  Transgender people will be...</td>\n",
       "      <td>1</td>\n",
       "      <td>[US, military, accept, transgender, recruits, ...</td>\n",
       "      <td>[WASHINGTON, Reuters, Transgender, people, all...</td>\n",
       "    </tr>\n",
       "    <tr>\n",
       "      <th>2</th>\n",
       "      <td>Senior US Republican senator Let Mr Mueller do...</td>\n",
       "      <td>WASHINGTON Reuters  The special counsel invest...</td>\n",
       "      <td>1</td>\n",
       "      <td>[Senior, US, Republican, senator, Let, Mr, Mue...</td>\n",
       "      <td>[WASHINGTON, Reuters, The, special, counsel, i...</td>\n",
       "    </tr>\n",
       "    <tr>\n",
       "      <th>3</th>\n",
       "      <td>FBI Russia probe helped by Australian diplomat...</td>\n",
       "      <td>WASHINGTON Reuters  Trump campaign adviser Geo...</td>\n",
       "      <td>1</td>\n",
       "      <td>[FBI, Russia, probe, helped, Australian, diplo...</td>\n",
       "      <td>[WASHINGTON, Reuters, Trump, campaign, adviser...</td>\n",
       "    </tr>\n",
       "    <tr>\n",
       "      <th>4</th>\n",
       "      <td>Trump wants Postal Service to charge much more...</td>\n",
       "      <td>SEATTLEWASHINGTON Reuters  President Donald Tr...</td>\n",
       "      <td>1</td>\n",
       "      <td>[Trump, wants, Postal, Service, charge, much, ...</td>\n",
       "      <td>[SEATTLEWASHINGTON, Reuters, President, Donald...</td>\n",
       "    </tr>\n",
       "  </tbody>\n",
       "</table>\n",
       "</div>"
      ],
      "text/plain": [
       "                                               title  \\\n",
       "0  As US budget fight looms Republicans flip thei...   \n",
       "1  US military to accept transgender recruits on ...   \n",
       "2  Senior US Republican senator Let Mr Mueller do...   \n",
       "3  FBI Russia probe helped by Australian diplomat...   \n",
       "4  Trump wants Postal Service to charge much more...   \n",
       "\n",
       "                                                text  score  \\\n",
       "0  WASHINGTON Reuters  The head of a conservative...      1   \n",
       "1  WASHINGTON Reuters  Transgender people will be...      1   \n",
       "2  WASHINGTON Reuters  The special counsel invest...      1   \n",
       "3  WASHINGTON Reuters  Trump campaign adviser Geo...      1   \n",
       "4  SEATTLEWASHINGTON Reuters  President Donald Tr...      1   \n",
       "\n",
       "                                        title_tokens  \\\n",
       "0  [As, US, budget, fight, looms, Republicans, fl...   \n",
       "1  [US, military, accept, transgender, recruits, ...   \n",
       "2  [Senior, US, Republican, senator, Let, Mr, Mue...   \n",
       "3  [FBI, Russia, probe, helped, Australian, diplo...   \n",
       "4  [Trump, wants, Postal, Service, charge, much, ...   \n",
       "\n",
       "                                              tokens  \n",
       "0  [WASHINGTON, Reuters, The, head, conservative,...  \n",
       "1  [WASHINGTON, Reuters, Transgender, people, all...  \n",
       "2  [WASHINGTON, Reuters, The, special, counsel, i...  \n",
       "3  [WASHINGTON, Reuters, Trump, campaign, adviser...  \n",
       "4  [SEATTLEWASHINGTON, Reuters, President, Donald...  "
      ]
     },
     "execution_count": 9,
     "metadata": {},
     "output_type": "execute_result"
    }
   ],
   "source": [
    "data.head()"
   ]
  },
  {
   "cell_type": "code",
   "execution_count": 10,
   "metadata": {},
   "outputs": [],
   "source": [
    "english = enchant.DictWithPWL(\"en_US\", \"vocab.txt\")\n",
    "wrong_words={}\n",
    "correct_words=set()\n",
    "def get_typos_t(tokens):\n",
    "     wrong_count=0\n",
    "     for token in tokens:\n",
    "            if token in wrong_words:\n",
    "                wrong_words[token]+=1\n",
    "                wrong_count+=1\n",
    "            else:\n",
    "                if not token in correct_words:    \n",
    "                    if not english.check(token) and not english.check(token.capitalize()):\n",
    "                        wrong_words[token]=1\n",
    "                        wrong_count+=1\n",
    "                    else:\n",
    "                        correct_words.add(token)\n",
    "     return wrong_count       "
   ]
  },
  {
   "cell_type": "markdown",
   "metadata": {},
   "source": [
    "# Keep Cleaning"
   ]
  },
  {
   "cell_type": "code",
   "execution_count": 11,
   "metadata": {},
   "outputs": [],
   "source": [
    "data['token_count']=data['tokens'].apply(lambda tokens:len(tokens))"
   ]
  },
  {
   "cell_type": "code",
   "execution_count": 12,
   "metadata": {},
   "outputs": [],
   "source": [
    "data['wrong_tokens_count']=data['tokens'].apply(get_typos_t)"
   ]
  },
  {
   "cell_type": "code",
   "execution_count": 13,
   "metadata": {},
   "outputs": [],
   "source": [
    "data['typo_ratio']= data['wrong_tokens_count']/data['token_count']\n"
   ]
  },
  {
   "cell_type": "code",
   "execution_count": 14,
   "metadata": {},
   "outputs": [
    {
     "data": {
      "text/plain": [
       "<AxesSubplot:xlabel='score', ylabel='typo_ratio'>"
      ]
     },
     "execution_count": 14,
     "metadata": {},
     "output_type": "execute_result"
    },
    {
     "data": {
      "image/png": "[encoded data removed]",
      "text/plain": [
       "<Figure size 432x288 with 1 Axes>"
      ]
     },
     "metadata": {
      "needs_background": "light"
     },
     "output_type": "display_data"
    }
   ],
   "source": [
    "sns.scatterplot(data=data, x=\"score\", y=\"typo_ratio\", hue=\"score\", style=\"score\")"
   ]
  },
  {
   "cell_type": "code",
   "execution_count": 15,
   "metadata": {},
   "outputs": [
    {
     "data": {
      "text/plain": [
       "Index(['title', 'text', 'score', 'tokens', 'token_count', 'wrong_tokens_count',\n",
       "       'typo_ratio'],\n",
       "      dtype='object')"
      ]
     },
     "execution_count": 15,
     "metadata": {},
     "output_type": "execute_result"
    }
   ],
   "source": [
    "data.columns"
   ]
  },
  {
   "cell_type": "code",
   "execution_count": 16,
   "metadata": {},
   "outputs": [],
   "source": [
    "data_clean = data[['title', 'text', 'typo_ratio','score']].copy()"
   ]
  },
  {
   "cell_type": "code",
   "execution_count": 17,
   "metadata": {},
   "outputs": [
    {
     "data": {
      "text/plain": [
       "(44898, 4)"
      ]
     },
     "execution_count": 17,
     "metadata": {},
     "output_type": "execute_result"
    }
   ],
   "source": [
    "data_clean.shape"
   ]
  },
  {
   "cell_type": "markdown",
   "metadata": {},
   "source": [
    "# Log Regression"
   ]
  },
  {
   "cell_type": "code",
   "execution_count": 18,
   "metadata": {},
   "outputs": [],
   "source": [
    "#feature_cols = ['text', 'typo_ratio']\n",
    "#x=data_clean[feature_cols]\n",
    "y=data['score']"
   ]
  },
  {
   "cell_type": "code",
   "execution_count": 19,
   "metadata": {},
   "outputs": [],
   "source": [
    "feature_cols = ['text','typo_ratio']\n",
    "\n",
    "#x=data_clean[feature_cols]\n",
    "x=data_clean[['text','typo_ratio']]"
   ]
  },
  {
   "cell_type": "code",
   "execution_count": 20,
   "metadata": {},
   "outputs": [
    {
     "data": {
      "text/plain": [
       "(44898, 2)"
      ]
     },
     "execution_count": 20,
     "metadata": {},
     "output_type": "execute_result"
    }
   ],
   "source": [
    "x.shape"
   ]
  },
  {
   "cell_type": "code",
   "execution_count": 21,
   "metadata": {},
   "outputs": [],
   "source": [
    "from sklearn.model_selection import train_test_split\n",
    "x_train,x_test,y_train,y_test=train_test_split(x,y,random_state=0,test_size=0.3)"
   ]
  },
  {
   "cell_type": "code",
   "execution_count": 22,
   "metadata": {},
   "outputs": [
    {
     "data": {
      "text/html": [
       "<div>\n",
       "<style scoped>\n",
       "    .dataframe tbody tr th:only-of-type {\n",
       "        vertical-align: middle;\n",
       "    }\n",
       "\n",
       "    .dataframe tbody tr th {\n",
       "        vertical-align: top;\n",
       "    }\n",
       "\n",
       "    .dataframe thead th {\n",
       "        text-align: right;\n",
       "    }\n",
       "</style>\n",
       "<table border=\"1\" class=\"dataframe\">\n",
       "  <thead>\n",
       "    <tr style=\"text-align: right;\">\n",
       "      <th></th>\n",
       "      <th>text</th>\n",
       "      <th>typo_ratio</th>\n",
       "    </tr>\n",
       "  </thead>\n",
       "  <tbody>\n",
       "    <tr>\n",
       "      <th>33958</th>\n",
       "      <td>This latest Wikileaks email evidence smoke Hil...</td>\n",
       "      <td>0.053492</td>\n",
       "    </tr>\n",
       "    <tr>\n",
       "      <th>19813</th>\n",
       "      <td>BERLIN Reuters Germany Free Democrats FDP woul...</td>\n",
       "      <td>0.068259</td>\n",
       "    </tr>\n",
       "    <tr>\n",
       "      <th>25814</th>\n",
       "      <td>Trump bad week First humiliated front millions...</td>\n",
       "      <td>0.029810</td>\n",
       "    </tr>\n",
       "    <tr>\n",
       "      <th>18689</th>\n",
       "      <td>TALLINN Reuters French President Emmanuel Macr...</td>\n",
       "      <td>0.032129</td>\n",
       "    </tr>\n",
       "    <tr>\n",
       "      <th>44673</th>\n",
       "      <td>Do roses know thorns hurt quote attributed Jon...</td>\n",
       "      <td>0.044799</td>\n",
       "    </tr>\n",
       "    <tr>\n",
       "      <th>22749</th>\n",
       "      <td>Earlier month sinkhole opened outside Donald T...</td>\n",
       "      <td>0.150442</td>\n",
       "    </tr>\n",
       "    <tr>\n",
       "      <th>2628</th>\n",
       "      <td>WASHINGTON Reuters The cofounder firm commissi...</td>\n",
       "      <td>0.050633</td>\n",
       "    </tr>\n",
       "    <tr>\n",
       "      <th>10117</th>\n",
       "      <td>WASHINGTON Reuters US Vice President Joe Biden...</td>\n",
       "      <td>0.042857</td>\n",
       "    </tr>\n",
       "    <tr>\n",
       "      <th>4388</th>\n",
       "      <td>BRUSSELS Reuters European Council President Do...</td>\n",
       "      <td>0.037037</td>\n",
       "    </tr>\n",
       "    <tr>\n",
       "      <th>16056</th>\n",
       "      <td>TOKYO Reuters A tunnel North Korea nuclear tes...</td>\n",
       "      <td>0.022556</td>\n",
       "    </tr>\n",
       "    <tr>\n",
       "      <th>964</th>\n",
       "      <td>WASHINGTON Reuters The attorney former Trump c...</td>\n",
       "      <td>0.097744</td>\n",
       "    </tr>\n",
       "    <tr>\n",
       "      <th>12370</th>\n",
       "      <td>DUBLIN Reuters An Irish parliamentary committe...</td>\n",
       "      <td>0.015584</td>\n",
       "    </tr>\n",
       "    <tr>\n",
       "      <th>41275</th>\n",
       "      <td>Sean Hannity taking page Trump playbook When m...</td>\n",
       "      <td>0.081181</td>\n",
       "    </tr>\n",
       "    <tr>\n",
       "      <th>2270</th>\n",
       "      <td>WASHINGTON Reuters With Trump administration’s...</td>\n",
       "      <td>0.062290</td>\n",
       "    </tr>\n",
       "    <tr>\n",
       "      <th>32755</th>\n",
       "      <td>Mere months receiving end one stunning losses ...</td>\n",
       "      <td>0.063694</td>\n",
       "    </tr>\n",
       "    <tr>\n",
       "      <th>31518</th>\n",
       "      <td>HATE IS WHAT ANTIFA DOES SO WELL DOES THE LEFT...</td>\n",
       "      <td>0.165289</td>\n",
       "    </tr>\n",
       "    <tr>\n",
       "      <th>6615</th>\n",
       "      <td>Reuters US Presidentelect Donald Trump Wednesd...</td>\n",
       "      <td>0.041612</td>\n",
       "    </tr>\n",
       "    <tr>\n",
       "      <th>18256</th>\n",
       "      <td>LOS TEQUES Venezuela Reuters Venezuelan siblin...</td>\n",
       "      <td>0.028729</td>\n",
       "    </tr>\n",
       "    <tr>\n",
       "      <th>28939</th>\n",
       "      <td>Donald Trump lost temper CNN Jake Tapper asked...</td>\n",
       "      <td>0.041353</td>\n",
       "    </tr>\n",
       "    <tr>\n",
       "      <th>11822</th>\n",
       "      <td>WARSAW Reuters The European Commission decisio...</td>\n",
       "      <td>0.046512</td>\n",
       "    </tr>\n",
       "    <tr>\n",
       "      <th>42730</th>\n",
       "      <td>This going end well Germany A hospital Sigmari...</td>\n",
       "      <td>0.052147</td>\n",
       "    </tr>\n",
       "    <tr>\n",
       "      <th>2147</th>\n",
       "      <td>WASHINGTON Reuters Longtime Trump communicatio...</td>\n",
       "      <td>0.036842</td>\n",
       "    </tr>\n",
       "    <tr>\n",
       "      <th>12574</th>\n",
       "      <td>LONDON Reuters BAE Systems Qatar entered contr...</td>\n",
       "      <td>0.044335</td>\n",
       "    </tr>\n",
       "    <tr>\n",
       "      <th>6632</th>\n",
       "      <td>WASHINGTON Reuters Lockheed Martin Corp’s F fi...</td>\n",
       "      <td>0.059028</td>\n",
       "    </tr>\n",
       "    <tr>\n",
       "      <th>24058</th>\n",
       "      <td>According GOP Congressman Sean Duffy need stop...</td>\n",
       "      <td>0.053254</td>\n",
       "    </tr>\n",
       "    <tr>\n",
       "      <th>42909</th>\n",
       "      <td>The Center For Medical Progress warned us vide...</td>\n",
       "      <td>0.041063</td>\n",
       "    </tr>\n",
       "    <tr>\n",
       "      <th>4103</th>\n",
       "      <td>WASHINGTON Reuters The US House Representative...</td>\n",
       "      <td>0.023202</td>\n",
       "    </tr>\n",
       "    <tr>\n",
       "      <th>38369</th>\n",
       "      <td>This pretty surreal stuff In four years since ...</td>\n",
       "      <td>0.043165</td>\n",
       "    </tr>\n",
       "    <tr>\n",
       "      <th>40218</th>\n",
       "      <td>MI PA OH NY residents warned could anywhere st...</td>\n",
       "      <td>0.046429</td>\n",
       "    </tr>\n",
       "    <tr>\n",
       "      <th>8639</th>\n",
       "      <td>CHICAGO Reuters A prominent Illinois Republica...</td>\n",
       "      <td>0.049342</td>\n",
       "    </tr>\n",
       "    <tr>\n",
       "      <th>...</th>\n",
       "      <td>...</td>\n",
       "      <td>...</td>\n",
       "    </tr>\n",
       "    <tr>\n",
       "      <th>7599</th>\n",
       "      <td>JACKSON Ga Reuters Down Georgia country road c...</td>\n",
       "      <td>0.032581</td>\n",
       "    </tr>\n",
       "    <tr>\n",
       "      <th>1871</th>\n",
       "      <td>WASHINGTON Reuters President Donald Trump’s no...</td>\n",
       "      <td>0.071882</td>\n",
       "    </tr>\n",
       "    <tr>\n",
       "      <th>18430</th>\n",
       "      <td>GAZA Reuters Prime Minister Rami alHamdallah c...</td>\n",
       "      <td>0.058431</td>\n",
       "    </tr>\n",
       "    <tr>\n",
       "      <th>7877</th>\n",
       "      <td>NEW YORK Reuters Even Sunday nights vicious pr...</td>\n",
       "      <td>0.015464</td>\n",
       "    </tr>\n",
       "    <tr>\n",
       "      <th>37619</th>\n",
       "      <td>JUDGE NAPOLITANO FOX Friends morning discussin...</td>\n",
       "      <td>0.088710</td>\n",
       "    </tr>\n",
       "    <tr>\n",
       "      <th>5072</th>\n",
       "      <td>SAN FRANCISCO Reuters The state Hawaii said as...</td>\n",
       "      <td>0.020501</td>\n",
       "    </tr>\n",
       "    <tr>\n",
       "      <th>2163</th>\n",
       "      <td>WASHINGTON Reuters Mexico’s Economy Minister I...</td>\n",
       "      <td>0.071429</td>\n",
       "    </tr>\n",
       "    <tr>\n",
       "      <th>38804</th>\n",
       "      <td></td>\n",
       "      <td>NaN</td>\n",
       "    </tr>\n",
       "    <tr>\n",
       "      <th>6921</th>\n",
       "      <td>MOSCOW Reuters US Presidentelect Donald Trump ...</td>\n",
       "      <td>0.064407</td>\n",
       "    </tr>\n",
       "    <tr>\n",
       "      <th>38984</th>\n",
       "      <td>A supervisory special agent scrutiny removed R...</td>\n",
       "      <td>0.039574</td>\n",
       "    </tr>\n",
       "    <tr>\n",
       "      <th>27469</th>\n",
       "      <td>The world reeled beloved musical icon Prince R...</td>\n",
       "      <td>0.041056</td>\n",
       "    </tr>\n",
       "    <tr>\n",
       "      <th>16921</th>\n",
       "      <td>BRUSSELS Reuters European Council President Do...</td>\n",
       "      <td>0.012987</td>\n",
       "    </tr>\n",
       "    <tr>\n",
       "      <th>35665</th>\n",
       "      <td>Judge Jeanine rips Republican Establishment Yes</td>\n",
       "      <td>0.000000</td>\n",
       "    </tr>\n",
       "    <tr>\n",
       "      <th>24152</th>\n",
       "      <td>Ted Cruz accused Senator Al Franken lying Jeff...</td>\n",
       "      <td>0.074850</td>\n",
       "    </tr>\n",
       "    <tr>\n",
       "      <th>43095</th>\n",
       "      <td>But Hillary formidable opponent comes women vo...</td>\n",
       "      <td>0.050000</td>\n",
       "    </tr>\n",
       "    <tr>\n",
       "      <th>18983</th>\n",
       "      <td>HARARE Reuters A Zimbabwean court Tuesday free...</td>\n",
       "      <td>0.029412</td>\n",
       "    </tr>\n",
       "    <tr>\n",
       "      <th>32230</th>\n",
       "      <td>It looks like Bill O Reilly getting last laugh...</td>\n",
       "      <td>0.066138</td>\n",
       "    </tr>\n",
       "    <tr>\n",
       "      <th>17089</th>\n",
       "      <td>BRUSSELS Reuters Catalonia regional government...</td>\n",
       "      <td>0.023256</td>\n",
       "    </tr>\n",
       "    <tr>\n",
       "      <th>14650</th>\n",
       "      <td>ISTANBUL Reuters Turkey detained people includ...</td>\n",
       "      <td>0.071429</td>\n",
       "    </tr>\n",
       "    <tr>\n",
       "      <th>39512</th>\n",
       "      <td>Robin Williams oneofakind comedian His brand h...</td>\n",
       "      <td>0.073529</td>\n",
       "    </tr>\n",
       "    <tr>\n",
       "      <th>15430</th>\n",
       "      <td>BRUSSELS Reuters EU diplomats start sketching ...</td>\n",
       "      <td>0.010072</td>\n",
       "    </tr>\n",
       "    <tr>\n",
       "      <th>14935</th>\n",
       "      <td>BERLIN Reuters Environmental policy dominated ...</td>\n",
       "      <td>0.037815</td>\n",
       "    </tr>\n",
       "    <tr>\n",
       "      <th>20757</th>\n",
       "      <td>MUMBAI Reuters An Indian court Thursday senten...</td>\n",
       "      <td>0.066116</td>\n",
       "    </tr>\n",
       "    <tr>\n",
       "      <th>41993</th>\n",
       "      <td>This story anyone thinks King Obama latest dec...</td>\n",
       "      <td>0.039286</td>\n",
       "    </tr>\n",
       "    <tr>\n",
       "      <th>32103</th>\n",
       "      <td>This awesome London Mayor Sadiq Khan drilled P...</td>\n",
       "      <td>0.061776</td>\n",
       "    </tr>\n",
       "    <tr>\n",
       "      <th>30403</th>\n",
       "      <td>Paul Krugman admission drooling release IRS ta...</td>\n",
       "      <td>0.031161</td>\n",
       "    </tr>\n",
       "    <tr>\n",
       "      <th>21243</th>\n",
       "      <td>GUATEMALA CITY Reuters Guatemala top court Tue...</td>\n",
       "      <td>0.024390</td>\n",
       "    </tr>\n",
       "    <tr>\n",
       "      <th>42613</th>\n",
       "      <td>UNDER MY PLAN ELECTRICITY RATES WOULD NECESSAR...</td>\n",
       "      <td>0.040302</td>\n",
       "    </tr>\n",
       "    <tr>\n",
       "      <th>43567</th>\n",
       "      <td>st Century Wire says Washington Russian witch ...</td>\n",
       "      <td>0.067097</td>\n",
       "    </tr>\n",
       "    <tr>\n",
       "      <th>2732</th>\n",
       "      <td>WINNIPEG Manitoba Reuters Former US President ...</td>\n",
       "      <td>0.028436</td>\n",
       "    </tr>\n",
       "  </tbody>\n",
       "</table>\n",
       "<p>31428 rows × 2 columns</p>\n",
       "</div>"
      ],
      "text/plain": [
       "                                                    text  typo_ratio\n",
       "33958  This latest Wikileaks email evidence smoke Hil...    0.053492\n",
       "19813  BERLIN Reuters Germany Free Democrats FDP woul...    0.068259\n",
       "25814  Trump bad week First humiliated front millions...    0.029810\n",
       "18689  TALLINN Reuters French President Emmanuel Macr...    0.032129\n",
       "44673  Do roses know thorns hurt quote attributed Jon...    0.044799\n",
       "22749  Earlier month sinkhole opened outside Donald T...    0.150442\n",
       "2628   WASHINGTON Reuters The cofounder firm commissi...    0.050633\n",
       "10117  WASHINGTON Reuters US Vice President Joe Biden...    0.042857\n",
       "4388   BRUSSELS Reuters European Council President Do...    0.037037\n",
       "16056  TOKYO Reuters A tunnel North Korea nuclear tes...    0.022556\n",
       "964    WASHINGTON Reuters The attorney former Trump c...    0.097744\n",
       "12370  DUBLIN Reuters An Irish parliamentary committe...    0.015584\n",
       "41275  Sean Hannity taking page Trump playbook When m...    0.081181\n",
       "2270   WASHINGTON Reuters With Trump administration’s...    0.062290\n",
       "32755  Mere months receiving end one stunning losses ...    0.063694\n",
       "31518  HATE IS WHAT ANTIFA DOES SO WELL DOES THE LEFT...    0.165289\n",
       "6615   Reuters US Presidentelect Donald Trump Wednesd...    0.041612\n",
       "18256  LOS TEQUES Venezuela Reuters Venezuelan siblin...    0.028729\n",
       "28939  Donald Trump lost temper CNN Jake Tapper asked...    0.041353\n",
       "11822  WARSAW Reuters The European Commission decisio...    0.046512\n",
       "42730  This going end well Germany A hospital Sigmari...    0.052147\n",
       "2147   WASHINGTON Reuters Longtime Trump communicatio...    0.036842\n",
       "12574  LONDON Reuters BAE Systems Qatar entered contr...    0.044335\n",
       "6632   WASHINGTON Reuters Lockheed Martin Corp’s F fi...    0.059028\n",
       "24058  According GOP Congressman Sean Duffy need stop...    0.053254\n",
       "42909  The Center For Medical Progress warned us vide...    0.041063\n",
       "4103   WASHINGTON Reuters The US House Representative...    0.023202\n",
       "38369  This pretty surreal stuff In four years since ...    0.043165\n",
       "40218  MI PA OH NY residents warned could anywhere st...    0.046429\n",
       "8639   CHICAGO Reuters A prominent Illinois Republica...    0.049342\n",
       "...                                                  ...         ...\n",
       "7599   JACKSON Ga Reuters Down Georgia country road c...    0.032581\n",
       "1871   WASHINGTON Reuters President Donald Trump’s no...    0.071882\n",
       "18430  GAZA Reuters Prime Minister Rami alHamdallah c...    0.058431\n",
       "7877   NEW YORK Reuters Even Sunday nights vicious pr...    0.015464\n",
       "37619  JUDGE NAPOLITANO FOX Friends morning discussin...    0.088710\n",
       "5072   SAN FRANCISCO Reuters The state Hawaii said as...    0.020501\n",
       "2163   WASHINGTON Reuters Mexico’s Economy Minister I...    0.071429\n",
       "38804                                                            NaN\n",
       "6921   MOSCOW Reuters US Presidentelect Donald Trump ...    0.064407\n",
       "38984  A supervisory special agent scrutiny removed R...    0.039574\n",
       "27469  The world reeled beloved musical icon Prince R...    0.041056\n",
       "16921  BRUSSELS Reuters European Council President Do...    0.012987\n",
       "35665    Judge Jeanine rips Republican Establishment Yes    0.000000\n",
       "24152  Ted Cruz accused Senator Al Franken lying Jeff...    0.074850\n",
       "43095  But Hillary formidable opponent comes women vo...    0.050000\n",
       "18983  HARARE Reuters A Zimbabwean court Tuesday free...    0.029412\n",
       "32230  It looks like Bill O Reilly getting last laugh...    0.066138\n",
       "17089  BRUSSELS Reuters Catalonia regional government...    0.023256\n",
       "14650  ISTANBUL Reuters Turkey detained people includ...    0.071429\n",
       "39512  Robin Williams oneofakind comedian His brand h...    0.073529\n",
       "15430  BRUSSELS Reuters EU diplomats start sketching ...    0.010072\n",
       "14935  BERLIN Reuters Environmental policy dominated ...    0.037815\n",
       "20757  MUMBAI Reuters An Indian court Thursday senten...    0.066116\n",
       "41993  This story anyone thinks King Obama latest dec...    0.039286\n",
       "32103  This awesome London Mayor Sadiq Khan drilled P...    0.061776\n",
       "30403  Paul Krugman admission drooling release IRS ta...    0.031161\n",
       "21243  GUATEMALA CITY Reuters Guatemala top court Tue...    0.024390\n",
       "42613  UNDER MY PLAN ELECTRICITY RATES WOULD NECESSAR...    0.040302\n",
       "43567  st Century Wire says Washington Russian witch ...    0.067097\n",
       "2732   WINNIPEG Manitoba Reuters Former US President ...    0.028436\n",
       "\n",
       "[31428 rows x 2 columns]"
      ]
     },
     "execution_count": 22,
     "metadata": {},
     "output_type": "execute_result"
    }
   ],
   "source": [
    "x_train"
   ]
  },
  {
   "cell_type": "code",
   "execution_count": 23,
   "metadata": {},
   "outputs": [],
   "source": [
    "from sklearn.pipeline import Pipeline\n",
    "from sklearn.preprocessing import MinMaxScaler\n",
    "from sklearn.compose import ColumnTransformer\n",
    "from sklearn.naive_bayes import MultinomialNB\n",
    "from sklearn.feature_extraction.text import CountVectorizer\n",
    "from sklearn.linear_model import LogisticRegression\n",
    "preprocessor = ColumnTransformer([\n",
    "    ('vectorizer_text', CountVectorizer(), 'text'),\n",
    "\n",
    "])\n",
    "final_pipe = Pipeline([\n",
    "    ('preprocessing', preprocessor),\n",
    "    ('Logistic', LogisticRegression())])"
   ]
  },
  {
   "cell_type": "code",
   "execution_count": 24,
   "metadata": {},
   "outputs": [],
   "source": [
    "\n",
    "# #from sklearn.feature_extraction.text import TfidfVectorizer\n",
    "\n",
    "# from sklearn.linear_model import LogisticRegression\n",
    "# from sklearn.metrics import accuracy_score\n",
    "\n",
    "# vectorizer = CountVectorizer()\n",
    "# #vectorizer_T = TfidfVectorizer()\n",
    "# #x_vec = vectorizer.fit_transform(x_train)\n",
    "# x_train_vec = vectorizer.fit_transform(x_train['text'])"
   ]
  },
  {
   "cell_type": "code",
   "execution_count": 25,
   "metadata": {},
   "outputs": [
    {
     "name": "stderr",
     "output_type": "stream",
     "text": [
      "/Users/andreamontagnoli/.pyenv/versions/3.7.7/envs/lewagon/lib/python3.7/site-packages/sklearn/linear_model/logistic.py:433: FutureWarning: Default solver will be changed to 'lbfgs' in 0.22. Specify a solver to silence this warning.\n",
      "  FutureWarning)\n"
     ]
    },
    {
     "data": {
      "text/plain": [
       "Pipeline(memory=None,\n",
       "     steps=[('preprocessing', ColumnTransformer(n_jobs=None, remainder='drop', sparse_threshold=0.3,\n",
       "         transformer_weights=None,\n",
       "         transformers=[('vectorizer_text', CountVectorizer(analyzer='word', binary=False, decode_error='strict',\n",
       "        dtype=<class 'numpy.int64'>, encoding='utf-8', i...penalty='l2', random_state=None, solver='warn',\n",
       "          tol=0.0001, verbose=0, warm_start=False))])"
      ]
     },
     "execution_count": 25,
     "metadata": {},
     "output_type": "execute_result"
    }
   ],
   "source": [
    "final_pipe.fit(x_train,y_train)"
   ]
  },
  {
   "cell_type": "code",
   "execution_count": 26,
   "metadata": {},
   "outputs": [
    {
     "data": {
      "text/plain": [
       "0.9968819599109131"
      ]
     },
     "execution_count": 26,
     "metadata": {},
     "output_type": "execute_result"
    }
   ],
   "source": [
    "final_pipe.score(x_test,y_test)"
   ]
  },
  {
   "cell_type": "code",
   "execution_count": 27,
   "metadata": {},
   "outputs": [
    {
     "data": {
      "text/plain": [
       "(13470,)"
      ]
     },
     "execution_count": 27,
     "metadata": {},
     "output_type": "execute_result"
    }
   ],
   "source": [
    "y_test.shape"
   ]
  },
  {
   "cell_type": "code",
   "execution_count": 28,
   "metadata": {},
   "outputs": [],
   "source": [
    "# x_train_vec=pd.DataFrame(x_train_vec)\n",
    "# #x_vec=x_train_vec+x_train['typo_ratio']"
   ]
  },
  {
   "cell_type": "code",
   "execution_count": 29,
   "metadata": {},
   "outputs": [],
   "source": [
    "# x_vec=x_train_vec+x_train['typo_ratio']"
   ]
  },
  {
   "cell_type": "code",
   "execution_count": 30,
   "metadata": {},
   "outputs": [],
   "source": [
    "# model=LogisticRegression()"
   ]
  },
  {
   "cell_type": "code",
   "execution_count": 31,
   "metadata": {},
   "outputs": [],
   "source": [
    "# x_vec.shape"
   ]
  },
  {
   "cell_type": "code",
   "execution_count": 32,
   "metadata": {},
   "outputs": [],
   "source": [
    "# print(x_vec)"
   ]
  },
  {
   "cell_type": "code",
   "execution_count": 33,
   "metadata": {},
   "outputs": [],
   "source": [
    "# y_train.shape"
   ]
  },
  {
   "cell_type": "code",
   "execution_count": 34,
   "metadata": {},
   "outputs": [],
   "source": [
    "# model.fit(x_vec,y_train)"
   ]
  },
  {
   "cell_type": "code",
   "execution_count": 35,
   "metadata": {},
   "outputs": [
    {
     "ename": "NameError",
     "evalue": "name 'model' is not defined",
     "output_type": "error",
     "traceback": [
      "\u001b[0;31m---------------------------------------------------------------------------\u001b[0m",
      "\u001b[0;31mNameError\u001b[0m                                 Traceback (most recent call last)",
      "\u001b[0;32m<ipython-input-35-362b1c5d028d>\u001b[0m in \u001b[0;36m<module>\u001b[0;34m\u001b[0m\n\u001b[0;32m----> 1\u001b[0;31m \u001b[0mpred\u001b[0m\u001b[0;34m=\u001b[0m\u001b[0mmodel\u001b[0m\u001b[0;34m.\u001b[0m\u001b[0mpredict\u001b[0m\u001b[0;34m(\u001b[0m\u001b[0mvectorizer\u001b[0m\u001b[0;34m.\u001b[0m\u001b[0mtransform\u001b[0m\u001b[0;34m(\u001b[0m\u001b[0mx_test\u001b[0m\u001b[0;34m)\u001b[0m\u001b[0;34m)\u001b[0m\u001b[0;34m\u001b[0m\u001b[0;34m\u001b[0m\u001b[0m\n\u001b[0m",
      "\u001b[0;31mNameError\u001b[0m: name 'model' is not defined"
     ]
    }
   ],
   "source": [
    "pred=model.predict(vectorizer.transform(x_test))"
   ]
  },
  {
   "cell_type": "code",
   "execution_count": null,
   "metadata": {},
   "outputs": [],
   "source": [
    "score=accuracy_score(y_test,pred)\n",
    "score"
   ]
  },
  {
   "cell_type": "markdown",
   "metadata": {},
   "source": [
    "# Word_tokenizer"
   ]
  },
  {
   "cell_type": "code",
   "execution_count": null,
   "metadata": {},
   "outputs": [],
   "source": [
    "#data['tokens_tweet']= data['text'].apply(tknzr)"
   ]
  },
  {
   "cell_type": "code",
   "execution_count": null,
   "metadata": {},
   "outputs": [],
   "source": [
    "from nltk.tokenize import word_tokenize\n",
    "data['tokens_tweet']=data['text'].apply(word_tokenize)"
   ]
  },
  {
   "cell_type": "code",
   "execution_count": null,
   "metadata": {},
   "outputs": [],
   "source": [
    "data.head()"
   ]
  },
  {
   "cell_type": "code",
   "execution_count": null,
   "metadata": {},
   "outputs": [],
   "source": []
  }
 ],
 "metadata": {
  "kernelspec": {
   "display_name": "Python 3",
   "language": "python",
   "name": "python3"
  },
  "language_info": {
   "codemirror_mode": {
    "name": "ipython",
    "version": 3
   },
   "file_extension": ".py",
   "mimetype": "text/x-python",
   "name": "python",
   "nbconvert_exporter": "python",
   "pygments_lexer": "ipython3",
   "version": "3.7.7"
  },
  "toc": {
   "base_numbering": 1,
   "nav_menu": {},
   "number_sections": true,
   "sideBar": true,
   "skip_h1_title": false,
   "title_cell": "Table of Contents",
   "title_sidebar": "Contents",
   "toc_cell": false,
   "toc_position": {},
   "toc_section_display": true,
   "toc_window_display": true
  }
 },
 "nbformat": 4,
 "nbformat_minor": 4
}

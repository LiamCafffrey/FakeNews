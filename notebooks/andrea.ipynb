{
 "cells": [
  {
   "cell_type": "markdown",
   "metadata": {},
   "source": [
    "# Import data"
   ]
  },
  {
   "cell_type": "code",
   "execution_count": 1,
   "metadata": {},
   "outputs": [],
   "source": [
    "import pandas as pd\n",
    "import numpy as np\n",
    "import seaborn as sns\n",
    "import matplotlib.pyplot as plt\n",
    "import nltk\n",
    "from sklearn.preprocessing import LabelBinarizer\n",
    "from nltk.corpus import stopwords\n",
    "from nltk.stem.porter import PorterStemmer\n",
    "from nltk.stem import WordNetLemmatizer\n",
    "from nltk.tokenize import word_tokenize,sent_tokenize\n",
    "from bs4 import BeautifulSoup\n",
    "import re,string,unicodedata\n",
    "from sklearn.metrics import classification_report,confusion_matrix,accuracy_score\n",
    "from sklearn.model_selection import train_test_split\n",
    "from string import punctuation\n",
    "from nltk import pos_tag\n",
    "from nltk.corpus import wordnet\n",
    "import tensorflow as tf\n",
    "from nltk.corpus import stopwords\n",
    "from nltk.tokenize import word_tokenize\n",
    "import string"
   ]
  },
  {
   "cell_type": "code",
   "execution_count": 2,
   "metadata": {},
   "outputs": [],
   "source": [
    "true = pd.read_csv('../raw_data/True.csv')\n",
    "\n",
    "fake = pd.read_csv('../raw_data/Fake.csv')"
   ]
  },
  {
   "cell_type": "code",
   "execution_count": 3,
   "metadata": {},
   "outputs": [
    {
     "data": {
      "text/html": [
       "<div>\n",
       "<style scoped>\n",
       "    .dataframe tbody tr th:only-of-type {\n",
       "        vertical-align: middle;\n",
       "    }\n",
       "\n",
       "    .dataframe tbody tr th {\n",
       "        vertical-align: top;\n",
       "    }\n",
       "\n",
       "    .dataframe thead th {\n",
       "        text-align: right;\n",
       "    }\n",
       "</style>\n",
       "<table border=\"1\" class=\"dataframe\">\n",
       "  <thead>\n",
       "    <tr style=\"text-align: right;\">\n",
       "      <th></th>\n",
       "      <th>title</th>\n",
       "      <th>text</th>\n",
       "      <th>subject</th>\n",
       "      <th>date</th>\n",
       "    </tr>\n",
       "  </thead>\n",
       "  <tbody>\n",
       "    <tr>\n",
       "      <th>0</th>\n",
       "      <td>As U.S. budget fight looms, Republicans flip t...</td>\n",
       "      <td>WASHINGTON (Reuters) - The head of a conservat...</td>\n",
       "      <td>politicsNews</td>\n",
       "      <td>December 31, 2017</td>\n",
       "    </tr>\n",
       "    <tr>\n",
       "      <th>1</th>\n",
       "      <td>U.S. military to accept transgender recruits o...</td>\n",
       "      <td>WASHINGTON (Reuters) - Transgender people will...</td>\n",
       "      <td>politicsNews</td>\n",
       "      <td>December 29, 2017</td>\n",
       "    </tr>\n",
       "    <tr>\n",
       "      <th>2</th>\n",
       "      <td>Senior U.S. Republican senator: 'Let Mr. Muell...</td>\n",
       "      <td>WASHINGTON (Reuters) - The special counsel inv...</td>\n",
       "      <td>politicsNews</td>\n",
       "      <td>December 31, 2017</td>\n",
       "    </tr>\n",
       "    <tr>\n",
       "      <th>3</th>\n",
       "      <td>FBI Russia probe helped by Australian diplomat...</td>\n",
       "      <td>WASHINGTON (Reuters) - Trump campaign adviser ...</td>\n",
       "      <td>politicsNews</td>\n",
       "      <td>December 30, 2017</td>\n",
       "    </tr>\n",
       "    <tr>\n",
       "      <th>4</th>\n",
       "      <td>Trump wants Postal Service to charge 'much mor...</td>\n",
       "      <td>SEATTLE/WASHINGTON (Reuters) - President Donal...</td>\n",
       "      <td>politicsNews</td>\n",
       "      <td>December 29, 2017</td>\n",
       "    </tr>\n",
       "  </tbody>\n",
       "</table>\n",
       "</div>"
      ],
      "text/plain": [
       "                                               title  \\\n",
       "0  As U.S. budget fight looms, Republicans flip t...   \n",
       "1  U.S. military to accept transgender recruits o...   \n",
       "2  Senior U.S. Republican senator: 'Let Mr. Muell...   \n",
       "3  FBI Russia probe helped by Australian diplomat...   \n",
       "4  Trump wants Postal Service to charge 'much mor...   \n",
       "\n",
       "                                                text       subject  \\\n",
       "0  WASHINGTON (Reuters) - The head of a conservat...  politicsNews   \n",
       "1  WASHINGTON (Reuters) - Transgender people will...  politicsNews   \n",
       "2  WASHINGTON (Reuters) - The special counsel inv...  politicsNews   \n",
       "3  WASHINGTON (Reuters) - Trump campaign adviser ...  politicsNews   \n",
       "4  SEATTLE/WASHINGTON (Reuters) - President Donal...  politicsNews   \n",
       "\n",
       "                 date  \n",
       "0  December 31, 2017   \n",
       "1  December 29, 2017   \n",
       "2  December 31, 2017   \n",
       "3  December 30, 2017   \n",
       "4  December 29, 2017   "
      ]
     },
     "execution_count": 3,
     "metadata": {},
     "output_type": "execute_result"
    }
   ],
   "source": [
    "true.head()\n",
    "#fake['text'][0]\n",
    "#fake.isna().sum()"
   ]
  },
  {
   "cell_type": "markdown",
   "metadata": {},
   "source": [
    "# Analisys of data"
   ]
  },
  {
   "cell_type": "markdown",
   "metadata": {
    "heading_collapsed": true
   },
   "source": [
    "## Count of Twitter references"
   ]
  },
  {
   "cell_type": "code",
   "execution_count": 4,
   "metadata": {
    "hidden": true
   },
   "outputs": [],
   "source": [
    "#from nltk.tokenize import word_tokenize\n",
    "#test = fake['text'][0]\n",
    "#print(word_tokenize(test))"
   ]
  },
  {
   "cell_type": "code",
   "execution_count": 5,
   "metadata": {
    "hidden": true
   },
   "outputs": [],
   "source": [
    "#test.count('@')"
   ]
  },
  {
   "cell_type": "code",
   "execution_count": 6,
   "metadata": {
    "hidden": true
   },
   "outputs": [],
   "source": [
    "#fake['tokenized_text'] = fake.apply(lambda row: nltk.word_tokenize(row['text']), axis=1)\n",
    "#fake.head(2)"
   ]
  },
  {
   "cell_type": "code",
   "execution_count": 7,
   "metadata": {
    "hidden": true
   },
   "outputs": [
    {
     "data": {
      "text/plain": [
       "27886"
      ]
     },
     "execution_count": 7,
     "metadata": {},
     "output_type": "execute_result"
    }
   ],
   "source": [
    "import re\n",
    "# count twitter references in fake['text']\n",
    "twitter_at = re.compile(r'@([A-Za-z0-9_]+)')\n",
    "count = 0\n",
    "for text in fake['text']:\n",
    "     count += len(re.findall(twitter_at, text))\n",
    "count"
   ]
  },
  {
   "cell_type": "code",
   "execution_count": 8,
   "metadata": {
    "hidden": true
   },
   "outputs": [],
   "source": [
    "# all_texts_tokenized = []\n",
    "# for text in fake['text']:\n",
    "#     all_texts_tokenized.append(word_tokenize(text))\n",
    "# twit = 0\n",
    "# for i in range(len(all_texts_tokenized)):\n",
    "#     for token in all_texts_tokenized[i]:\n",
    "#         if token == '@':\n",
    "#             twit += 1\n",
    "# twit"
   ]
  },
  {
   "cell_type": "code",
   "execution_count": 9,
   "metadata": {
    "hidden": true
   },
   "outputs": [
    {
     "data": {
      "text/plain": [
       "803"
      ]
     },
     "execution_count": 9,
     "metadata": {},
     "output_type": "execute_result"
    }
   ],
   "source": [
    "# count twitter references in true['text']\n",
    "twitter_at = re.compile(r'@([A-Za-z0-9_]+)')\n",
    "count = 0\n",
    "for text in true['text']:\n",
    "     count += len(re.findall(twitter_at, text))\n",
    "count"
   ]
  },
  {
   "cell_type": "markdown",
   "metadata": {
    "heading_collapsed": true
   },
   "source": [
    "## Ploting subject true vs fake"
   ]
  },
  {
   "cell_type": "code",
   "execution_count": 10,
   "metadata": {
    "hidden": true
   },
   "outputs": [
    {
     "data": {
      "text/plain": [
       "<AxesSubplot:>"
      ]
     },
     "execution_count": 10,
     "metadata": {},
     "output_type": "execute_result"
    },
    {
     "data": {
      "image/png": "[encoded data removed]",
      "text/plain": [
       "<Figure size 1080x720 with 1 Axes>"
      ]
     },
     "metadata": {
      "needs_background": "light"
     },
     "output_type": "display_data"
    }
   ],
   "source": [
    "from matplotlib import rcParams\n",
    "\n",
    "rcParams['figure.figsize'] = 15,10\n",
    "true.subject.value_counts().plot(kind=\"bar\")"
   ]
  },
  {
   "cell_type": "code",
   "execution_count": 11,
   "metadata": {
    "hidden": true
   },
   "outputs": [
    {
     "data": {
      "text/plain": [
       "<AxesSubplot:>"
      ]
     },
     "execution_count": 11,
     "metadata": {},
     "output_type": "execute_result"
    },
    {
     "data": {
      "image/png": "[encoded data removed]",
      "text/plain": [
       "<Figure size 1080x720 with 1 Axes>"
      ]
     },
     "metadata": {
      "needs_background": "light"
     },
     "output_type": "display_data"
    }
   ],
   "source": [
    "rcParams['figure.figsize'] = 15,10\n",
    "fake.subject.value_counts().plot(kind=\"bar\")"
   ]
  },
  {
   "cell_type": "markdown",
   "metadata": {},
   "source": [
    "## Merge datasets"
   ]
  },
  {
   "cell_type": "code",
   "execution_count": 12,
   "metadata": {},
   "outputs": [],
   "source": [
    "true.drop(columns = ['subject','date'], inplace = True)"
   ]
  },
  {
   "cell_type": "code",
   "execution_count": 13,
   "metadata": {},
   "outputs": [],
   "source": [
    "fake.drop(columns = ['subject','date'], inplace = True)"
   ]
  },
  {
   "cell_type": "code",
   "execution_count": 14,
   "metadata": {},
   "outputs": [],
   "source": [
    "true['score'] = 1\n",
    "fake['score'] = 0"
   ]
  },
  {
   "cell_type": "code",
   "execution_count": 15,
   "metadata": {},
   "outputs": [],
   "source": [
    "data = pd.concat([true,fake],ignore_index=True)"
   ]
  },
  {
   "cell_type": "code",
   "execution_count": 16,
   "metadata": {},
   "outputs": [],
   "source": [
    "data_title_text = data.copy()"
   ]
  },
  {
   "cell_type": "code",
   "execution_count": 17,
   "metadata": {},
   "outputs": [],
   "source": [
    "data_title_text['title_text'] = data_title_text['title'] + data_title_text['text']"
   ]
  },
  {
   "cell_type": "code",
   "execution_count": 18,
   "metadata": {},
   "outputs": [],
   "source": [
    "data_title_text = data_title_text[['title_text', 'score']]"
   ]
  },
  {
   "cell_type": "code",
   "execution_count": null,
   "metadata": {},
   "outputs": [],
   "source": []
  },
  {
   "cell_type": "markdown",
   "metadata": {
    "heading_collapsed": true
   },
   "source": [
    "## cleaning"
   ]
  },
  {
   "cell_type": "code",
   "execution_count": 19,
   "metadata": {
    "hidden": true
   },
   "outputs": [],
   "source": [
    "#lower case\n",
    "data['text'] = data['text'].str.lower()\n",
    "\n",
    "data['title'] = data['title'].str.lower()"
   ]
  },
  {
   "cell_type": "code",
   "execution_count": 20,
   "metadata": {
    "hidden": true
   },
   "outputs": [],
   "source": [
    "#get rid of numbers\n",
    "def no_num(text):\n",
    "    text= ''.join(word for word in text if not word.isdigit())\n",
    "    return text\n",
    "\n",
    "data['text']=data['text'].apply(no_num)"
   ]
  },
  {
   "cell_type": "code",
   "execution_count": 21,
   "metadata": {
    "hidden": true
   },
   "outputs": [],
   "source": [
    "#data['text']=data['text'].apply(clean)"
   ]
  },
  {
   "cell_type": "code",
   "execution_count": 22,
   "metadata": {
    "hidden": true
   },
   "outputs": [],
   "source": [
    "#data['text']"
   ]
  },
  {
   "cell_type": "code",
   "execution_count": 23,
   "metadata": {
    "hidden": true
   },
   "outputs": [],
   "source": [
    "#import string \n",
    "#def remove_punctuations(text):\n",
    "      #return text.translate(None,string.punctuation)\n",
    "\n",
    "data['text'] = data['text'].str.replace('[^\\w\\s]','')\n"
   ]
  },
  {
   "cell_type": "code",
   "execution_count": 24,
   "metadata": {
    "hidden": true
   },
   "outputs": [],
   "source": [
    "from nltk.corpus import stopwords\n",
    "stop_words = set(stopwords.words('english'))\n",
    "data['title'] = data['title'].apply(lambda x: ' '.join([word for word in x.split() if word not in (stop_words)]))"
   ]
  },
  {
   "cell_type": "code",
   "execution_count": 25,
   "metadata": {
    "hidden": true
   },
   "outputs": [],
   "source": [
    "data['text'] = data['text'].apply(lambda x: ' '.join([word for word in x.split() if word not in (stop_words)]))"
   ]
  },
  {
   "cell_type": "code",
   "execution_count": 26,
   "metadata": {
    "hidden": true
   },
   "outputs": [],
   "source": [
    "data_common_true=true.copy()\n",
    "data_common_true.drop(columns = ['score'], inplace = True)\n",
    "data_common_true['title_text'] = data_common_true['title'] + data_common_true['text']\n",
    "data_common_true.drop(columns = ['title','text'], inplace = True)\n",
    "\n",
    "data_common_fake=fake.copy()\n",
    "data_common_fake.drop(columns = ['score'], inplace = True)\n",
    "data_common_fake['title_text'] = data_common_fake['title'] + data_common_fake['text']\n",
    "data_common_fake.drop(columns = ['title','text'], inplace = True)\n",
    "\n",
    "# lower case\n",
    "data_common_true['title_text'] = data_common_true['title_text'].str.lower()\n",
    "data_common_fake['title_text'] = data_common_fake['title_text'].str.lower()\n",
    "# get rid of numbers\n",
    "data_common_true['title_text'].apply(no_num)\n",
    "data_common_fake['title_text'].apply(no_num)\n",
    "# no punctuation\n",
    "data_common_true['title_text'] = data_common_true['title_text'].str.replace('[^\\w\\s]','')\n",
    "data_common_fake['title_text'] = data_common_fake['title_text'].str.replace('[^\\w\\s]','')\n",
    "#stop words\n",
    "data_common_true['title_text'] = data_common_true['title_text'].apply(lambda x: ' '.join([word for word in x.split() if word not in (stop_words)]))\n",
    "data_common_fake['title_text'] = data_common_fake['title_text'].apply(lambda x: ' '.join([word for word in x.split() if word not in (stop_words)]))"
   ]
  },
  {
   "cell_type": "code",
   "execution_count": 36,
   "metadata": {
    "hidden": true
   },
   "outputs": [],
   "source": [
    "# from nltk.tokenize import word_tokenize\n",
    "\n",
    "# tokens = []\n",
    "# for text in data['text']:\n",
    "#     tokens.append(word_tokenize(text))\n"
   ]
  },
  {
   "cell_type": "code",
   "execution_count": 39,
   "metadata": {
    "hidden": true
   },
   "outputs": [],
   "source": [
    "# remove 'reuters'\n",
    "stop_words =['reuters']\n",
    "pat = '|'.join(r\"\\b{}\\b\".format(x) for x in stop_words)\n",
    "data['text'] = data['text'].str.replace(pat, '')"
   ]
  },
  {
   "cell_type": "code",
   "execution_count": null,
   "metadata": {
    "hidden": true
   },
   "outputs": [],
   "source": []
  },
  {
   "cell_type": "markdown",
   "metadata": {
    "heading_collapsed": true
   },
   "source": [
    "## some code I won't use"
   ]
  },
  {
   "cell_type": "code",
   "execution_count": null,
   "metadata": {
    "hidden": true
   },
   "outputs": [],
   "source": [
    "# #tokenize each row\n",
    "# data_common_true['title_text_token'] = data_title_text.apply(lambda row: nltk.word_tokenize(row['title_text']), axis=1)\n",
    "# data_common_fake['title_text_token'] = data_title_text.apply(lambda row: nltk.word_tokenize(row['title_text']), axis=1)\n"
   ]
  },
  {
   "cell_type": "code",
   "execution_count": null,
   "metadata": {
    "hidden": true
   },
   "outputs": [],
   "source": [
    "# textify_true = data_common_true['title_text_token'].astype(str).values.tolist()\n",
    "# textify_fake = data_common_fake['title_text_token'].astype(str).values.tolist()"
   ]
  },
  {
   "cell_type": "code",
   "execution_count": null,
   "metadata": {
    "hidden": true
   },
   "outputs": [],
   "source": [
    "# wordcount_true = {}\n",
    "# for word in textify_true:\n",
    "\n",
    "#     if word not in wordcount_true:\n",
    "#         wordcount_true[word] = 1\n",
    "#     else:\n",
    "#         wordcount_true[word] += 1\n"
   ]
  },
  {
   "cell_type": "code",
   "execution_count": null,
   "metadata": {
    "hidden": true
   },
   "outputs": [],
   "source": [
    "# # Print most common word\n",
    "# n_print = int(input(\"How many most common words to print: \"))\n",
    "# print(\"\\nOK. The {} most common words are as follows\\n\".format(n_print))\n",
    "# word_counter = collections.Counter(wordcount_true)\n",
    "# for word, count in word_counter.most_common(n_print):\n",
    "#     print(word, \": \", count)\n"
   ]
  },
  {
   "cell_type": "code",
   "execution_count": null,
   "metadata": {
    "hidden": true
   },
   "outputs": [],
   "source": [
    "# lst_true = word_counter.most_common(n_print)\n",
    "# df_true = pd.DataFrame(lst_true, columns = ['Word', 'Count'])\n",
    "# df_true.plot.bar(x='Word',y='Count')"
   ]
  },
  {
   "cell_type": "code",
   "execution_count": null,
   "metadata": {
    "hidden": true
   },
   "outputs": [],
   "source": [
    "# wordcount_fake = {}\n",
    "# for word in textify_fake:\n",
    "\n",
    "#     if word not in wordcount_fake:\n",
    "#         wordcount_fake[word] = 1\n",
    "#     else:\n",
    "#         wordcount_fake[word] += 1\n",
    "\n"
   ]
  },
  {
   "cell_type": "code",
   "execution_count": null,
   "metadata": {
    "hidden": true
   },
   "outputs": [],
   "source": [
    "# # Print most common word\n",
    "# n_print = int(input(\"How many most common words to print: \"))\n",
    "# print(\"\\nOK. The {} most common words are as follows\\n\".format(n_print))\n",
    "# word_counter = collections.Counter(wordcount_fake)\n",
    "# for word, count in word_counter.most_common(n_print):\n",
    "#     print(word, \": \", count)"
   ]
  },
  {
   "cell_type": "code",
   "execution_count": null,
   "metadata": {
    "hidden": true
   },
   "outputs": [],
   "source": [
    "# lst_fake = word_counter.most_common(n_print)\n",
    "# df_fake = pd.DataFrame(lst_fake, columns = ['Word', 'Count'])\n",
    "# df_fake.plot.bar(x='Word',y='Count')"
   ]
  },
  {
   "cell_type": "markdown",
   "metadata": {
    "heading_collapsed": true
   },
   "source": [
    "## Plotting of common words"
   ]
  },
  {
   "cell_type": "markdown",
   "metadata": {
    "hidden": true
   },
   "source": []
  },
  {
   "cell_type": "code",
   "execution_count": null,
   "metadata": {
    "hidden": true
   },
   "outputs": [],
   "source": [
    "from sklearn.feature_extraction.text import CountVectorizer\n",
    "def get_top_words(text, n=None):\n",
    "    vec = CountVectorizer().fit(text)\n",
    "    bag_of_words = vec.transform(text)\n",
    "    sum_words = bag_of_words.sum(axis=0) \n",
    "    words_freq = [(word, sum_words[0, idx]) for word, idx in vec.vocabulary_.items()]\n",
    "    words_freq =sorted(words_freq, key = lambda x: x[1], reverse=True)\n",
    "    return words_freq[:n]\n",
    "\n",
    "list_fake = get_top_words(data_common_fake['title_text'], 25)\n",
    "list_true = get_top_words(data_common_true['title_text'], 25)\n"
   ]
  },
  {
   "cell_type": "code",
   "execution_count": null,
   "metadata": {
    "hidden": true
   },
   "outputs": [],
   "source": [
    "import plotly.graph_objects as go\n",
    "new_list_words = [ seq[0] for seq in list_fake ]\n",
    "new_list_values = [ seq[1] for seq in list_fake ]\n",
    "\n",
    "fig = go.Figure()\n",
    "fig.add_trace(go.Bar(y=new_list_values, \n",
    "                         x=new_list_words,\n",
    "))\n",
    "\n",
    "fig.show()"
   ]
  },
  {
   "cell_type": "code",
   "execution_count": null,
   "metadata": {
    "hidden": true
   },
   "outputs": [],
   "source": [
    "new_list_words = [ seq[0] for seq in list_true ]\n",
    "new_list_values = [ seq[1] for seq in list_true ]\n",
    "\n",
    "fig = go.Figure()\n",
    "fig.add_trace(go.Bar(y=new_list_values, \n",
    "                         x=new_list_words,\n",
    "))\n",
    "\n",
    "fig.show()"
   ]
  },
  {
   "cell_type": "markdown",
   "metadata": {
    "heading_collapsed": true
   },
   "source": [
    "## Mispelling"
   ]
  },
  {
   "cell_type": "code",
   "execution_count": null,
   "metadata": {
    "hidden": true
   },
   "outputs": [],
   "source": [
    "# from nltk.tokenize import word_tokenize\n",
    "# test = data['text'][0]\n",
    "# tokens = word_tokenize(test)\n",
    "# tokens"
   ]
  },
  {
   "cell_type": "code",
   "execution_count": null,
   "metadata": {
    "hidden": true
   },
   "outputs": [],
   "source": [
    "# from tqdm import tqdm\n",
    "# import enchant\n",
    "\n",
    "\n",
    "# def wrong_words(text):\n",
    "#     d = enchant.DictWithPWL(\"en_US\", \"vocab.txt\")\n",
    "#     tokens = set()\n",
    "#     for token in tqdm(text):\n",
    "#         if not d.check(token) and not d.check(token.capitalize()):\n",
    "#             tokens.add(token)\n",
    "#     return tokens\n",
    "\n",
    "# def get_top_n_words(text, n=None, vocabulary=None):\n",
    "#     vec = CountVectorizer(vocabulary=vocabulary).fit(text)\n",
    "#     bag_of_words = vec.transform(text)\n",
    "#     sum_words = bag_of_words.sum(axis=0) \n",
    "#     words_freq = [(word, sum_words[0, idx]) for word, idx in vec.vocabulary_.items()]\n",
    "#     words_freq =sorted(words_freq, key = lambda x: x[1], reverse=True)\n",
    "#     return words_freq[:n]\n",
    "\n",
    "\n",
    "# wrong = wrong_words(unique_tokens_true)\n",
    "# wrong_true = get_top_n_words(unique_tokens_true, n=100, vocabulary=wrong)\n",
    "# wrong = wrong_words(unique_tokens_fake)\n",
    "# wrong_fake = get_top_n_words(unique_tokens_fake, n=100, vocabulary=wrong)\n",
    "\n",
    "# new_list_words = [ seq[0] for seq in wrong_true ]\n",
    "# new_list_values = [ seq[1] for seq in wrong_true ]\n",
    "\n",
    "# fig = go.Figure()\n",
    "# fig.add_trace(go.Bar(y=new_list_values, \n",
    "#                      x=new_list_words, \n",
    "# ))\n",
    "\n",
    "# fig.show()"
   ]
  },
  {
   "cell_type": "markdown",
   "metadata": {},
   "source": [
    "## Tokenization"
   ]
  },
  {
   "cell_type": "code",
   "execution_count": 40,
   "metadata": {},
   "outputs": [],
   "source": [
    "# def tokenizeandstopwords(text):\n",
    "#     tokens = nltk.word_tokenize(text)\n",
    "#     return tokens"
   ]
  },
  {
   "cell_type": "code",
   "execution_count": 45,
   "metadata": {},
   "outputs": [],
   "source": [
    "# data['text_tokenized'] = data.apply(lambda row: nltk.word_tokenize(row['text']), axis=1)\n"
   ]
  },
  {
   "cell_type": "code",
   "execution_count": 49,
   "metadata": {},
   "outputs": [],
   "source": [
    "# from gensim.models import Word2Vec\n",
    "# word2vec = Word2Vec(sentences=sentences_train)"
   ]
  },
  {
   "cell_type": "code",
   "execution_count": 51,
   "metadata": {},
   "outputs": [
    {
     "data": {
      "text/html": [
       "<div>\n",
       "<style scoped>\n",
       "    .dataframe tbody tr th:only-of-type {\n",
       "        vertical-align: middle;\n",
       "    }\n",
       "\n",
       "    .dataframe tbody tr th {\n",
       "        vertical-align: top;\n",
       "    }\n",
       "\n",
       "    .dataframe thead th {\n",
       "        text-align: right;\n",
       "    }\n",
       "</style>\n",
       "<table border=\"1\" class=\"dataframe\">\n",
       "  <thead>\n",
       "    <tr style=\"text-align: right;\">\n",
       "      <th></th>\n",
       "      <th>title_text</th>\n",
       "      <th>score</th>\n",
       "    </tr>\n",
       "  </thead>\n",
       "  <tbody>\n",
       "    <tr>\n",
       "      <th>44893</th>\n",
       "      <td>mcpain: john mccain furious iran treated us sa...</td>\n",
       "      <td>0</td>\n",
       "    </tr>\n",
       "    <tr>\n",
       "      <th>44894</th>\n",
       "      <td>justice? yahoo settles e-mail privacy class-ac...</td>\n",
       "      <td>0</td>\n",
       "    </tr>\n",
       "    <tr>\n",
       "      <th>44895</th>\n",
       "      <td>sunnistan: us allied ‘safe zone’ plan take ter...</td>\n",
       "      <td>0</td>\n",
       "    </tr>\n",
       "    <tr>\n",
       "      <th>44896</th>\n",
       "      <td>blow $700 million: al jazeera america finally ...</td>\n",
       "      <td>0</td>\n",
       "    </tr>\n",
       "    <tr>\n",
       "      <th>44897</th>\n",
       "      <td>10 u.s. navy sailors held iranian military – s...</td>\n",
       "      <td>0</td>\n",
       "    </tr>\n",
       "  </tbody>\n",
       "</table>\n",
       "</div>"
      ],
      "text/plain": [
       "                                              title_text  score\n",
       "44893  mcpain: john mccain furious iran treated us sa...      0\n",
       "44894  justice? yahoo settles e-mail privacy class-ac...      0\n",
       "44895  sunnistan: us allied ‘safe zone’ plan take ter...      0\n",
       "44896  blow $700 million: al jazeera america finally ...      0\n",
       "44897  10 u.s. navy sailors held iranian military – s...      0"
      ]
     },
     "execution_count": 51,
     "metadata": {},
     "output_type": "execute_result"
    }
   ],
   "source": [
    "data_concat = data.copy()\n",
    "data_concat['title_text'] = data['title'] + data['text']\n",
    "data_concat.drop(columns = ['title', 'text'], inplace = True)\n",
    "data_concat = data_concat[['title_text', 'score']]\n",
    "data_concat.tail()"
   ]
  },
  {
   "cell_type": "code",
   "execution_count": 68,
   "metadata": {},
   "outputs": [],
   "source": [
    "import gensim\n",
    "from gensim.models import Word2Vec\n",
    "\n",
    "Word2Vec = gensim.models.Word2Vec(data_concat, size=100, window=5, min_count=1)"
   ]
  },
  {
   "cell_type": "code",
   "execution_count": null,
   "metadata": {},
   "outputs": [],
   "source": []
  },
  {
   "cell_type": "code",
   "execution_count": 71,
   "metadata": {},
   "outputs": [],
   "source": [
    "def embed_sentence(Word2Vec, sentence):\n",
    "    sentence_vec = []\n",
    "    for word in sentence:\n",
    "        if word in Word2Vec.wv.vocab.keys():\n",
    "            sentence_vec.append(Word2Vec.wv[word])\n",
    "    return np.array(sentence_vec)\n",
    "embedded_sentence = embed_sentence(Word2Vec, data_concat['title_text'])"
   ]
  },
  {
   "cell_type": "code",
   "execution_count": 72,
   "metadata": {},
   "outputs": [
    {
     "data": {
      "text/plain": [
       "array([], dtype=float64)"
      ]
     },
     "execution_count": 72,
     "metadata": {},
     "output_type": "execute_result"
    }
   ],
   "source": [
    "embedded_sentence"
   ]
  },
  {
   "cell_type": "markdown",
   "metadata": {},
   "source": []
  }
 ],
 "metadata": {
  "kernelspec": {
   "display_name": "Python 3",
   "language": "python",
   "name": "python3"
  },
  "language_info": {
   "codemirror_mode": {
    "name": "ipython",
    "version": 3
   },
   "file_extension": ".py",
   "mimetype": "text/x-python",
   "name": "python",
   "nbconvert_exporter": "python",
   "pygments_lexer": "ipython3",
   "version": "3.7.7"
  },
  "toc": {
   "base_numbering": 1,
   "nav_menu": {},
   "number_sections": true,
   "sideBar": true,
   "skip_h1_title": false,
   "title_cell": "Table of Contents",
   "title_sidebar": "Contents",
   "toc_cell": false,
   "toc_position": {},
   "toc_section_display": true,
   "toc_window_display": true
  }
 },
 "nbformat": 4,
 "nbformat_minor": 4
}

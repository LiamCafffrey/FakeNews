{
 "cells": [
  {
   "cell_type": "markdown",
   "metadata": {},
   "source": [
    "# Import stuff"
   ]
  },
  {
   "cell_type": "code",
   "execution_count": null,
   "metadata": {},
   "outputs": [],
   "source": []
  },
  {
   "cell_type": "code",
   "execution_count": 1,
   "metadata": {},
   "outputs": [],
   "source": [
    "import pandas as pd\n",
    "import numpy as np\n",
    "import seaborn as sns\n",
    "import matplotlib.pyplot as plt\n",
    "import re,string\n",
    "import tensorflow as tf\n",
    "from string import punctuation\n",
    "from nltk.corpus import stopwords\n",
    "import enchant\n",
    "\n",
    "from nltk.tokenize import word_tokenize\n",
    "from sklearn.metrics import classification_report,confusion_matrix,accuracy_score\n",
    "from nltk.corpus import stopwords"
   ]
  },
  {
   "cell_type": "markdown",
   "metadata": {},
   "source": [
    "# Importing Data"
   ]
  },
  {
   "cell_type": "code",
   "execution_count": 2,
   "metadata": {},
   "outputs": [],
   "source": [
    "true = pd.read_csv('../raw_data/True.csv')\n",
    "fake = pd.read_csv('../raw_data/Fake.csv')"
   ]
  },
  {
   "cell_type": "markdown",
   "metadata": {},
   "source": [
    "## Deleting non necessary columns"
   ]
  },
  {
   "cell_type": "code",
   "execution_count": 3,
   "metadata": {},
   "outputs": [],
   "source": [
    "true.drop(columns = ['subject','date'], inplace = True)\n",
    "fake.drop(columns = ['subject','date'], inplace = True)"
   ]
  },
  {
   "cell_type": "markdown",
   "metadata": {},
   "source": [
    "## Creating Target"
   ]
  },
  {
   "cell_type": "code",
   "execution_count": 4,
   "metadata": {},
   "outputs": [],
   "source": [
    "true['score'] = 1\n",
    "fake['score'] = 0"
   ]
  },
  {
   "cell_type": "markdown",
   "metadata": {},
   "source": [
    "## Concatenate everything to one dataset"
   ]
  },
  {
   "cell_type": "code",
   "execution_count": 5,
   "metadata": {},
   "outputs": [],
   "source": [
    "data = pd.concat([true,fake],ignore_index=True)"
   ]
  },
  {
   "cell_type": "markdown",
   "metadata": {},
   "source": [
    "# Cleaning some data"
   ]
  },
  {
   "cell_type": "markdown",
   "metadata": {},
   "source": [
    "## Removing punctuation "
   ]
  },
  {
   "cell_type": "code",
   "execution_count": 6,
   "metadata": {},
   "outputs": [],
   "source": [
    "import string\n",
    "\n",
    "punc = string.punctuation + '“' + '”' + '’' + '‘'\n",
    "def remove_punctuation(text):\n",
    "    for punctuation in punc:\n",
    "        text = text.replace(punctuation, '')\n",
    "    return text"
   ]
  },
  {
   "cell_type": "code",
   "execution_count": 7,
   "metadata": {},
   "outputs": [],
   "source": [
    "data['title_clean']=data['title'].apply(remove_punctuation)\n",
    "data['text_clean']=data['text'].apply(remove_punctuation)"
   ]
  },
  {
   "cell_type": "markdown",
   "metadata": {},
   "source": [
    "## Removing Numbers"
   ]
  },
  {
   "cell_type": "code",
   "execution_count": 8,
   "metadata": {},
   "outputs": [],
   "source": [
    "def remove_numbers(text):\n",
    "    text = ''.join(word for word in text if not word.isdigit())\n",
    "    return text"
   ]
  },
  {
   "cell_type": "code",
   "execution_count": 9,
   "metadata": {},
   "outputs": [],
   "source": [
    "data['title_clean']=data['title_clean'].apply(remove_numbers)\n",
    "\n",
    "data['text_clean']=data['text_clean'].apply(remove_numbers)"
   ]
  },
  {
   "cell_type": "markdown",
   "metadata": {},
   "source": [
    "## Making everything lower case"
   ]
  },
  {
   "cell_type": "code",
   "execution_count": 10,
   "metadata": {},
   "outputs": [],
   "source": [
    "def lower_case(text):\n",
    "    text = text.lower()\n",
    "    return text"
   ]
  },
  {
   "cell_type": "code",
   "execution_count": 11,
   "metadata": {},
   "outputs": [],
   "source": [
    "data['title_clean']=data['title_clean'].apply(lower_case)\n",
    "data['text_clean']=data['text_clean'].apply(lower_case)"
   ]
  },
  {
   "cell_type": "markdown",
   "metadata": {},
   "source": [
    "## Removing Stop Words"
   ]
  },
  {
   "cell_type": "code",
   "execution_count": 12,
   "metadata": {},
   "outputs": [],
   "source": [
    "from nltk.corpus import stopwords\n",
    "stop_words = set(stopwords.words('english'))\n",
    "\n",
    "data['title_clean'] = data['title_clean'].apply(lambda x: ' '.join([word for word in x.split() if word.lower() not in (stop_words)]))\n",
    "data['text_clean'] = data['text_clean'].apply(lambda x: ' '.join([word for word in x.split() if word.lower() not in (stop_words)]))"
   ]
  },
  {
   "cell_type": "markdown",
   "metadata": {},
   "source": [
    "## tokenizing text in order to count how many words we have to calculate ratio"
   ]
  },
  {
   "cell_type": "code",
   "execution_count": 13,
   "metadata": {},
   "outputs": [],
   "source": [
    "def tokenize_text(text):\n",
    "    return text.split()\n",
    "\n",
    "data['title_tokens']=data['title_clean'].apply(tokenize_text)\n",
    "data['text_tokens']=data['text_clean'].apply(tokenize_text)"
   ]
  },
  {
   "cell_type": "markdown",
   "metadata": {},
   "source": [
    "## Function to count typos in text"
   ]
  },
  {
   "cell_type": "code",
   "execution_count": 240,
   "metadata": {},
   "outputs": [],
   "source": [
    "english = enchant.DictWithPWL(\"en_US\", \"vocab.txt\")\n",
    "wrong_words={}\n",
    "correct_words=set()\n",
    "def get_typos_t(tokens):\n",
    "     wrong_count=0\n",
    "     for token in tokens:\n",
    "            if token in wrong_words:\n",
    "                wrong_words[token]+=1\n",
    "                wrong_count+=1\n",
    "            else:\n",
    "                if not token in correct_words:    \n",
    "                    if not english.check(token) and not english.check(token.capitalize()):\n",
    "                        wrong_words[token]=1\n",
    "                        wrong_count+=1\n",
    "                    else:\n",
    "                        correct_words.add(token)\n",
    "     return wrong_count       "
   ]
  },
  {
   "cell_type": "markdown",
   "metadata": {},
   "source": [
    "# Create typo ratio"
   ]
  },
  {
   "cell_type": "code",
   "execution_count": 15,
   "metadata": {},
   "outputs": [],
   "source": [
    "data['typos_title_count']=data['title_tokens'].apply(get_typos_t)\n",
    "data['typos_text_count']=data['text_tokens'].apply(get_typos_t)"
   ]
  },
  {
   "cell_type": "code",
   "execution_count": 16,
   "metadata": {},
   "outputs": [],
   "source": [
    "data['title_typo_ratio']= data['typos_title_count']/len(data['title_tokens'])\n",
    "data['text_typo_ratio']= data['typos_text_count']/len(data['text_tokens'])"
   ]
  },
  {
   "cell_type": "code",
   "execution_count": 17,
   "metadata": {},
   "outputs": [],
   "source": [
    "data = data[['title', 'text', 'title_clean', 'text_clean', 'title_tokens',\n",
    "       'text_tokens', 'typos_title_count', 'typos_text_count',\n",
    "       'title_typo_ratio', 'text_typo_ratio','score']]"
   ]
  },
  {
   "cell_type": "markdown",
   "metadata": {},
   "source": [
    "# Define Generic Function"
   ]
  },
  {
   "cell_type": "markdown",
   "metadata": {},
   "source": [
    "def preparation(data):\n",
    "    data['title_clean']=data['title'].apply(remove_numbers)\n",
    "    data['text_clean']=data['text'].apply(remove_numbers)\n",
    "    \n",
    "    data['title_clean']=data['title_clean'].apply(remove_punctuation)\n",
    "    data['text_clean']=data['text_clean'].apply(remove_punctuation)\n",
    "    \n",
    "    data['title_clean'] = data['title_clean'].apply(lambda x: ' '.join([word for word in x.split() if word.lower() not in (stop_words)]))\n",
    "    data['text_clean'] = data['text_clean'].apply(lambda x: ' '.join([word for word in x.split() if word.lower() not in (stop_words)]))\n",
    "    \n",
    "    data['title_tokens']=data['title_clean'].apply(tokenize_text)\n",
    "    data['text_tokens']=data['text_clean'].apply(tokenize_text)\n",
    "    \n",
    "    data['title_token_count']=data['title_tokens'].apply(lambda tokens:len(tokens))\n",
    "    data['text_token_count']=data['text_tokens'].apply(lambda tokens:len(tokens))\n",
    "    \n",
    "    data['wrong_title_token_count']=data['title_tokens'].apply(get_typos_t)\n",
    "    data['wrong_text_token_count']=data['text_tokens'].apply(get_typos_t)\n",
    "    \n",
    "    data['title_typo_ratio']= data['wrong_title_token_count']/data['title_token_count']\n",
    "    data['text_typo_ratio']= data['wrong_text_token_count']/data['text_token_count']\n",
    "    \n",
    "    return data[['title_clean', 'text_clean','text_typo_ratio']]\n",
    "    "
   ]
  },
  {
   "cell_type": "markdown",
   "metadata": {},
   "source": [
    "# Time to run a cross_val and find the best params for the model"
   ]
  },
  {
   "cell_type": "markdown",
   "metadata": {},
   "source": [
    "## separating the data"
   ]
  },
  {
   "cell_type": "code",
   "execution_count": 18,
   "metadata": {},
   "outputs": [],
   "source": [
    "x = data[['title_clean', 'text_clean','text_typo_ratio']]\n",
    "y=data['score']"
   ]
  },
  {
   "cell_type": "markdown",
   "metadata": {},
   "source": [
    "## Splitting the data in two : Train/Test"
   ]
  },
  {
   "cell_type": "code",
   "execution_count": 19,
   "metadata": {},
   "outputs": [],
   "source": [
    "from sklearn.model_selection import train_test_split\n",
    "x_train,x_test,y_train,y_test=train_test_split(x,y,random_state=0,test_size=0.3)"
   ]
  },
  {
   "cell_type": "code",
   "execution_count": 20,
   "metadata": {},
   "outputs": [
    {
     "data": {
      "text/html": [
       "<div>\n",
       "<style scoped>\n",
       "    .dataframe tbody tr th:only-of-type {\n",
       "        vertical-align: middle;\n",
       "    }\n",
       "\n",
       "    .dataframe tbody tr th {\n",
       "        vertical-align: top;\n",
       "    }\n",
       "\n",
       "    .dataframe thead th {\n",
       "        text-align: right;\n",
       "    }\n",
       "</style>\n",
       "<table border=\"1\" class=\"dataframe\">\n",
       "  <thead>\n",
       "    <tr style=\"text-align: right;\">\n",
       "      <th></th>\n",
       "      <th>title_clean</th>\n",
       "      <th>text_clean</th>\n",
       "      <th>text_typo_ratio</th>\n",
       "    </tr>\n",
       "  </thead>\n",
       "  <tbody>\n",
       "    <tr>\n",
       "      <th>35305</th>\n",
       "      <td>rubio sides democrats giving whopping billion ...</td>\n",
       "      <td>democrats want spend whopping billion zika vir...</td>\n",
       "      <td>0.000290</td>\n",
       "    </tr>\n",
       "    <tr>\n",
       "      <th>29180</th>\n",
       "      <td>ted cruz says endorsing trump grave mistake pr...</td>\n",
       "      <td>republican presidential candidate texas senato...</td>\n",
       "      <td>0.000423</td>\n",
       "    </tr>\n",
       "    <tr>\n",
       "      <th>29805</th>\n",
       "      <td>responsible gun owner road rages threatens sho...</td>\n",
       "      <td>national rifle association tells us need ensur...</td>\n",
       "      <td>0.000290</td>\n",
       "    </tr>\n",
       "    <tr>\n",
       "      <th>38237</th>\n",
       "      <td>teachers union protest gets ugly protesters co...</td>\n",
       "      <td>case live midwest might noticed fight continue...</td>\n",
       "      <td>0.000379</td>\n",
       "    </tr>\n",
       "    <tr>\n",
       "      <th>5099</th>\n",
       "      <td>etihad advises checks us missions new trump order</td>\n",
       "      <td>dubai reuters etihad airways advising passenge...</td>\n",
       "      <td>0.000111</td>\n",
       "    </tr>\n",
       "    <tr>\n",
       "      <th>5812</th>\n",
       "      <td>factbox trump us supreme court pick could affe...</td>\n",
       "      <td>reuters president donald trumps nominee us sup...</td>\n",
       "      <td>0.000200</td>\n",
       "    </tr>\n",
       "    <tr>\n",
       "      <th>2747</th>\n",
       "      <td>trump asks supreme court block travel ban ruling</td>\n",
       "      <td>washington reuters us justice department frida...</td>\n",
       "      <td>0.000178</td>\n",
       "    </tr>\n",
       "    <tr>\n",
       "      <th>34681</th>\n",
       "      <td>breaking bombshell dem congressmen phone numbe...</td>\n",
       "      <td>wow keeps getting better better happened bette...</td>\n",
       "      <td>0.000512</td>\n",
       "    </tr>\n",
       "    <tr>\n",
       "      <th>12157</th>\n",
       "      <td>security tight germany marks anniversary chris...</td>\n",
       "      <td>berlin reuters germany tightened security chri...</td>\n",
       "      <td>0.000245</td>\n",
       "    </tr>\n",
       "    <tr>\n",
       "      <th>31537</th>\n",
       "      <td>altleft fake news media refuses tell video</td>\n",
       "      <td>media trying best control see see comes altlef...</td>\n",
       "      <td>0.000334</td>\n",
       "    </tr>\n",
       "    <tr>\n",
       "      <th>15962</th>\n",
       "      <td>russia wont hand suspect montenegro coup attem...</td>\n",
       "      <td>moscow reuters russia hand montenegro person w...</td>\n",
       "      <td>0.000134</td>\n",
       "    </tr>\n",
       "    <tr>\n",
       "      <th>8222</th>\n",
       "      <td>us house speaker ryan pacific trade deal faces...</td>\n",
       "      <td>washington reuters us house speaker paul ryan ...</td>\n",
       "      <td>0.000045</td>\n",
       "    </tr>\n",
       "    <tr>\n",
       "      <th>40059</th>\n",
       "      <td>totally fake tucker loses temper russia conspi...</td>\n",
       "      <td>tucker carlson debates russia conspiracy musta...</td>\n",
       "      <td>0.000134</td>\n",
       "    </tr>\n",
       "    <tr>\n",
       "      <th>3151</th>\n",
       "      <td>trump likely nominate former senate aide peirc...</td>\n",
       "      <td>washington reuters us president donald trump l...</td>\n",
       "      <td>0.000423</td>\n",
       "    </tr>\n",
       "    <tr>\n",
       "      <th>43537</th>\n",
       "      <td>mass integration race capitalize virtual future</td>\n",
       "      <td>randy johnson st century wiredigital technolog...</td>\n",
       "      <td>0.003475</td>\n",
       "    </tr>\n",
       "    <tr>\n",
       "      <th>11046</th>\n",
       "      <td>obama host colombian president santos next wee...</td>\n",
       "      <td>washington reuters president barack obama host...</td>\n",
       "      <td>0.000000</td>\n",
       "    </tr>\n",
       "    <tr>\n",
       "      <th>44511</th>\n",
       "      <td>flashback syrian war youre told chemical weapons</td>\n",
       "      <td>st century wire says back august united nation...</td>\n",
       "      <td>0.000312</td>\n",
       "    </tr>\n",
       "    <tr>\n",
       "      <th>16719</th>\n",
       "      <td>syrias assad meets dissident footballers damascus</td>\n",
       "      <td>beirut reuters syrian president bashar alassad...</td>\n",
       "      <td>0.000111</td>\n",
       "    </tr>\n",
       "    <tr>\n",
       "      <th>38669</th>\n",
       "      <td>find senator voted help obama fundamental tran...</td>\n",
       "      <td>remember joni ernst conservatives excited see ...</td>\n",
       "      <td>0.002094</td>\n",
       "    </tr>\n",
       "    <tr>\n",
       "      <th>23063</th>\n",
       "      <td>obama crushed trumps lies winning presidency b...</td>\n",
       "      <td>one person donald trump stand criticizing pred...</td>\n",
       "      <td>0.000200</td>\n",
       "    </tr>\n",
       "    <tr>\n",
       "      <th>7503</th>\n",
       "      <td>democrats civil rights groups disagree levels ...</td>\n",
       "      <td>washington reuters democratic party officials ...</td>\n",
       "      <td>0.000022</td>\n",
       "    </tr>\n",
       "    <tr>\n",
       "      <th>12940</th>\n",
       "      <td>italys former pm renzi loses allies election n...</td>\n",
       "      <td>rome reuters former italian prime minister mat...</td>\n",
       "      <td>0.000935</td>\n",
       "    </tr>\n",
       "    <tr>\n",
       "      <th>33991</th>\n",
       "      <td>illegal immigrant voting legal possibility cit...</td>\n",
       "      <td>bloomberg takes look cities thatthe latest san...</td>\n",
       "      <td>0.000557</td>\n",
       "    </tr>\n",
       "    <tr>\n",
       "      <th>9575</th>\n",
       "      <td>republican cornyn predicts party unify around ...</td>\n",
       "      <td>washington reuters republican us senate said t...</td>\n",
       "      <td>0.000045</td>\n",
       "    </tr>\n",
       "    <tr>\n",
       "      <th>14986</th>\n",
       "      <td>exclusive days work child exploitation rife ro...</td>\n",
       "      <td>cox bazarkutupalong bangladesh reuters rohingy...</td>\n",
       "      <td>0.001002</td>\n",
       "    </tr>\n",
       "    <tr>\n",
       "      <th>5739</th>\n",
       "      <td>senate budget committee approves mulvaney budg...</td>\n",
       "      <td>washington reuters us senate budget committee ...</td>\n",
       "      <td>0.000178</td>\n",
       "    </tr>\n",
       "    <tr>\n",
       "      <th>20831</th>\n",
       "      <td>macron expects casualties hurricane irma hits ...</td>\n",
       "      <td>paris reuters president emmanuel macron said w...</td>\n",
       "      <td>0.000022</td>\n",
       "    </tr>\n",
       "    <tr>\n",
       "      <th>43169</th>\n",
       "      <td>cries racism nyc museum kicks rowdy high schoo...</td>\n",
       "      <td>getting right everyone needs let high schooler...</td>\n",
       "      <td>0.000290</td>\n",
       "    </tr>\n",
       "    <tr>\n",
       "      <th>9778</th>\n",
       "      <td>white house urges congressional action amid fl...</td>\n",
       "      <td>washington reuters obamas trip flint michigan ...</td>\n",
       "      <td>0.000045</td>\n",
       "    </tr>\n",
       "    <tr>\n",
       "      <th>15400</th>\n",
       "      <td>kremlin warns mutual damage ukraine cuts diplo...</td>\n",
       "      <td>moscow reuters kremlin said wednesday reported...</td>\n",
       "      <td>0.000089</td>\n",
       "    </tr>\n",
       "    <tr>\n",
       "      <th>...</th>\n",
       "      <td>...</td>\n",
       "      <td>...</td>\n",
       "      <td>...</td>\n",
       "    </tr>\n",
       "    <tr>\n",
       "      <th>42143</th>\n",
       "      <td>takes village thugs nashville cop sees black m...</td>\n",
       "      <td>warningthis video make blood boil watch high b...</td>\n",
       "      <td>0.000156</td>\n",
       "    </tr>\n",
       "    <tr>\n",
       "      <th>37663</th>\n",
       "      <td>wow hungarian prime minister cracks refugee in...</td>\n",
       "      <td>hungary populist prime minister friday lashed ...</td>\n",
       "      <td>0.000690</td>\n",
       "    </tr>\n",
       "    <tr>\n",
       "      <th>6055</th>\n",
       "      <td>trump administration seeks muzzle us agency em...</td>\n",
       "      <td>washingtonchicago reuters us president donald ...</td>\n",
       "      <td>0.000557</td>\n",
       "    </tr>\n",
       "    <tr>\n",
       "      <th>40754</th>\n",
       "      <td>u chicago admissions blames trump chicagos vio...</td>\n",
       "      <td>university chicago admissions office offering ...</td>\n",
       "      <td>0.000134</td>\n",
       "    </tr>\n",
       "    <tr>\n",
       "      <th>44411</th>\n",
       "      <td>cointel pro antifascist media personalities pl...</td>\n",
       "      <td>st century wire says age hyperpoliticized mass...</td>\n",
       "      <td>0.001025</td>\n",
       "    </tr>\n",
       "    <tr>\n",
       "      <th>21351</th>\n",
       "      <td>russian nuclear bombers fly near north korea r...</td>\n",
       "      <td>moscow reuters russian nuclearcapable strategi...</td>\n",
       "      <td>0.000356</td>\n",
       "    </tr>\n",
       "    <tr>\n",
       "      <th>927</th>\n",
       "      <td>release house tax bill delayed thursday</td>\n",
       "      <td>washington reuters republicans us house repres...</td>\n",
       "      <td>0.000290</td>\n",
       "    </tr>\n",
       "    <tr>\n",
       "      <th>37300</th>\n",
       "      <td>isis danger wiped flesh eating virus</td>\n",
       "      <td>try fix dull knife boys selfdeclared islamic s...</td>\n",
       "      <td>0.000334</td>\n",
       "    </tr>\n",
       "    <tr>\n",
       "      <th>5198</th>\n",
       "      <td>change mortgage interest deduction trump tax p...</td>\n",
       "      <td>washington reuters us treasury secretary steve...</td>\n",
       "      <td>0.000134</td>\n",
       "    </tr>\n",
       "    <tr>\n",
       "      <th>4234</th>\n",
       "      <td>japan pm urges north korea refrain provocative...</td>\n",
       "      <td>tokyo reuters japanese prime minister shinzo a...</td>\n",
       "      <td>0.000111</td>\n",
       "    </tr>\n",
       "    <tr>\n",
       "      <th>1252</th>\n",
       "      <td>russia says trumps aggressive stance iran doom...</td>\n",
       "      <td>moscow reuters russia said friday us president...</td>\n",
       "      <td>0.000067</td>\n",
       "    </tr>\n",
       "    <tr>\n",
       "      <th>5039</th>\n",
       "      <td>factbox republican obamacare plan would repeal...</td>\n",
       "      <td>reuters republicans us house representatives u...</td>\n",
       "      <td>0.000312</td>\n",
       "    </tr>\n",
       "    <tr>\n",
       "      <th>702</th>\n",
       "      <td>us senator flake concerned tax plan impact debt</td>\n",
       "      <td>washington reuters us republican senator jeff ...</td>\n",
       "      <td>0.000045</td>\n",
       "    </tr>\n",
       "    <tr>\n",
       "      <th>22112</th>\n",
       "      <td>gop congress delivered trump biggest insult po...</td>\n",
       "      <td>one thing donald trump fears even negative pre...</td>\n",
       "      <td>0.000913</td>\n",
       "    </tr>\n",
       "    <tr>\n",
       "      <th>3546</th>\n",
       "      <td>white house kennedy highschool prankster</td>\n",
       "      <td>boston reuters years captained torpedo boat pt...</td>\n",
       "      <td>0.000290</td>\n",
       "    </tr>\n",
       "    <tr>\n",
       "      <th>6146</th>\n",
       "      <td>uk pm may promises frank talk trump women protest</td>\n",
       "      <td>london reuters prime minister theresa may prom...</td>\n",
       "      <td>0.000334</td>\n",
       "    </tr>\n",
       "    <tr>\n",
       "      <th>19369</th>\n",
       "      <td>south african minister calls anc discipline zu...</td>\n",
       "      <td>johannesburg reuters south africa ruling afric...</td>\n",
       "      <td>0.000780</td>\n",
       "    </tr>\n",
       "    <tr>\n",
       "      <th>5012</th>\n",
       "      <td>trumps revised travel ban dealt first court se...</td>\n",
       "      <td>reuters federal judge wisconsin dealt first le...</td>\n",
       "      <td>0.000089</td>\n",
       "    </tr>\n",
       "    <tr>\n",
       "      <th>36821</th>\n",
       "      <td>obamas army black lives matter terrorist shout...</td>\n",
       "      <td>person domestic terrorism charges imagine whit...</td>\n",
       "      <td>0.001626</td>\n",
       "    </tr>\n",
       "    <tr>\n",
       "      <th>37347</th>\n",
       "      <td>unreal right massacre…lasvegas concert crowd s...</td>\n",
       "      <td>gunman began shooting las vegas concert crowd ...</td>\n",
       "      <td>0.000891</td>\n",
       "    </tr>\n",
       "    <tr>\n",
       "      <th>32835</th>\n",
       "      <td>viral video univ wi students busted agreeing d...</td>\n",
       "      <td>watch hypocrisy action</td>\n",
       "      <td>0.000000</td>\n",
       "    </tr>\n",
       "    <tr>\n",
       "      <th>26899</th>\n",
       "      <td>trump mocked retarded reporter calling shady b...</td>\n",
       "      <td>trump received massive amount backlash earlier...</td>\n",
       "      <td>0.000312</td>\n",
       "    </tr>\n",
       "    <tr>\n",
       "      <th>43320</th>\n",
       "      <td>video un climate change freaks make every effo...</td>\n",
       "      <td>evil bunch freaks agenda important see forest ...</td>\n",
       "      <td>0.000401</td>\n",
       "    </tr>\n",
       "    <tr>\n",
       "      <th>44087</th>\n",
       "      <td>plastic persona behind scenes ted cruz media m...</td>\n",
       "      <td>st century wire says people accept certain amo...</td>\n",
       "      <td>0.000245</td>\n",
       "    </tr>\n",
       "    <tr>\n",
       "      <th>34242</th>\n",
       "      <td>funny msnbc anchor asks millennial women feel ...</td>\n",
       "      <td></td>\n",
       "      <td>0.000000</td>\n",
       "    </tr>\n",
       "    <tr>\n",
       "      <th>14185</th>\n",
       "      <td>turkey says serious danger syrias afrin must r...</td>\n",
       "      <td>ankara reuters serious danger syrian region af...</td>\n",
       "      <td>0.000134</td>\n",
       "    </tr>\n",
       "    <tr>\n",
       "      <th>40424</th>\n",
       "      <td>college students wanted pay education make stu...</td>\n",
       "      <td>consider stunning ways students wasting studen...</td>\n",
       "      <td>0.000290</td>\n",
       "    </tr>\n",
       "    <tr>\n",
       "      <th>22374</th>\n",
       "      <td>trump gets humiliated whining states refusing ...</td>\n",
       "      <td>donald trump threw temper tantrum saturday mor...</td>\n",
       "      <td>0.000646</td>\n",
       "    </tr>\n",
       "    <tr>\n",
       "      <th>18638</th>\n",
       "      <td>saudi authorities pursue twitter user womens d...</td>\n",
       "      <td>riyadh reuters saudi arabia public prosecutor ...</td>\n",
       "      <td>0.000089</td>\n",
       "    </tr>\n",
       "    <tr>\n",
       "      <th>18157</th>\n",
       "      <td>hungarian villagers backlash holiday migrants</td>\n",
       "      <td>ocseny hungary reuters zoltan fenyvesi offer h...</td>\n",
       "      <td>0.001515</td>\n",
       "    </tr>\n",
       "  </tbody>\n",
       "</table>\n",
       "<p>13470 rows × 3 columns</p>\n",
       "</div>"
      ],
      "text/plain": [
       "                                             title_clean  \\\n",
       "35305  rubio sides democrats giving whopping billion ...   \n",
       "29180  ted cruz says endorsing trump grave mistake pr...   \n",
       "29805  responsible gun owner road rages threatens sho...   \n",
       "38237  teachers union protest gets ugly protesters co...   \n",
       "5099   etihad advises checks us missions new trump order   \n",
       "5812   factbox trump us supreme court pick could affe...   \n",
       "2747    trump asks supreme court block travel ban ruling   \n",
       "34681  breaking bombshell dem congressmen phone numbe...   \n",
       "12157  security tight germany marks anniversary chris...   \n",
       "31537         altleft fake news media refuses tell video   \n",
       "15962  russia wont hand suspect montenegro coup attem...   \n",
       "8222   us house speaker ryan pacific trade deal faces...   \n",
       "40059  totally fake tucker loses temper russia conspi...   \n",
       "3151   trump likely nominate former senate aide peirc...   \n",
       "43537    mass integration race capitalize virtual future   \n",
       "11046  obama host colombian president santos next wee...   \n",
       "44511   flashback syrian war youre told chemical weapons   \n",
       "16719  syrias assad meets dissident footballers damascus   \n",
       "38669  find senator voted help obama fundamental tran...   \n",
       "23063  obama crushed trumps lies winning presidency b...   \n",
       "7503   democrats civil rights groups disagree levels ...   \n",
       "12940  italys former pm renzi loses allies election n...   \n",
       "33991  illegal immigrant voting legal possibility cit...   \n",
       "9575   republican cornyn predicts party unify around ...   \n",
       "14986  exclusive days work child exploitation rife ro...   \n",
       "5739   senate budget committee approves mulvaney budg...   \n",
       "20831  macron expects casualties hurricane irma hits ...   \n",
       "43169  cries racism nyc museum kicks rowdy high schoo...   \n",
       "9778   white house urges congressional action amid fl...   \n",
       "15400  kremlin warns mutual damage ukraine cuts diplo...   \n",
       "...                                                  ...   \n",
       "42143  takes village thugs nashville cop sees black m...   \n",
       "37663  wow hungarian prime minister cracks refugee in...   \n",
       "6055   trump administration seeks muzzle us agency em...   \n",
       "40754  u chicago admissions blames trump chicagos vio...   \n",
       "44411  cointel pro antifascist media personalities pl...   \n",
       "21351  russian nuclear bombers fly near north korea r...   \n",
       "927              release house tax bill delayed thursday   \n",
       "37300               isis danger wiped flesh eating virus   \n",
       "5198   change mortgage interest deduction trump tax p...   \n",
       "4234   japan pm urges north korea refrain provocative...   \n",
       "1252   russia says trumps aggressive stance iran doom...   \n",
       "5039   factbox republican obamacare plan would repeal...   \n",
       "702      us senator flake concerned tax plan impact debt   \n",
       "22112  gop congress delivered trump biggest insult po...   \n",
       "3546            white house kennedy highschool prankster   \n",
       "6146   uk pm may promises frank talk trump women protest   \n",
       "19369  south african minister calls anc discipline zu...   \n",
       "5012   trumps revised travel ban dealt first court se...   \n",
       "36821  obamas army black lives matter terrorist shout...   \n",
       "37347  unreal right massacre…lasvegas concert crowd s...   \n",
       "32835  viral video univ wi students busted agreeing d...   \n",
       "26899  trump mocked retarded reporter calling shady b...   \n",
       "43320  video un climate change freaks make every effo...   \n",
       "44087  plastic persona behind scenes ted cruz media m...   \n",
       "34242  funny msnbc anchor asks millennial women feel ...   \n",
       "14185  turkey says serious danger syrias afrin must r...   \n",
       "40424  college students wanted pay education make stu...   \n",
       "22374  trump gets humiliated whining states refusing ...   \n",
       "18638  saudi authorities pursue twitter user womens d...   \n",
       "18157      hungarian villagers backlash holiday migrants   \n",
       "\n",
       "                                              text_clean  text_typo_ratio  \n",
       "35305  democrats want spend whopping billion zika vir...         0.000290  \n",
       "29180  republican presidential candidate texas senato...         0.000423  \n",
       "29805  national rifle association tells us need ensur...         0.000290  \n",
       "38237  case live midwest might noticed fight continue...         0.000379  \n",
       "5099   dubai reuters etihad airways advising passenge...         0.000111  \n",
       "5812   reuters president donald trumps nominee us sup...         0.000200  \n",
       "2747   washington reuters us justice department frida...         0.000178  \n",
       "34681  wow keeps getting better better happened bette...         0.000512  \n",
       "12157  berlin reuters germany tightened security chri...         0.000245  \n",
       "31537  media trying best control see see comes altlef...         0.000334  \n",
       "15962  moscow reuters russia hand montenegro person w...         0.000134  \n",
       "8222   washington reuters us house speaker paul ryan ...         0.000045  \n",
       "40059  tucker carlson debates russia conspiracy musta...         0.000134  \n",
       "3151   washington reuters us president donald trump l...         0.000423  \n",
       "43537  randy johnson st century wiredigital technolog...         0.003475  \n",
       "11046  washington reuters president barack obama host...         0.000000  \n",
       "44511  st century wire says back august united nation...         0.000312  \n",
       "16719  beirut reuters syrian president bashar alassad...         0.000111  \n",
       "38669  remember joni ernst conservatives excited see ...         0.002094  \n",
       "23063  one person donald trump stand criticizing pred...         0.000200  \n",
       "7503   washington reuters democratic party officials ...         0.000022  \n",
       "12940  rome reuters former italian prime minister mat...         0.000935  \n",
       "33991  bloomberg takes look cities thatthe latest san...         0.000557  \n",
       "9575   washington reuters republican us senate said t...         0.000045  \n",
       "14986  cox bazarkutupalong bangladesh reuters rohingy...         0.001002  \n",
       "5739   washington reuters us senate budget committee ...         0.000178  \n",
       "20831  paris reuters president emmanuel macron said w...         0.000022  \n",
       "43169  getting right everyone needs let high schooler...         0.000290  \n",
       "9778   washington reuters obamas trip flint michigan ...         0.000045  \n",
       "15400  moscow reuters kremlin said wednesday reported...         0.000089  \n",
       "...                                                  ...              ...  \n",
       "42143  warningthis video make blood boil watch high b...         0.000156  \n",
       "37663  hungary populist prime minister friday lashed ...         0.000690  \n",
       "6055   washingtonchicago reuters us president donald ...         0.000557  \n",
       "40754  university chicago admissions office offering ...         0.000134  \n",
       "44411  st century wire says age hyperpoliticized mass...         0.001025  \n",
       "21351  moscow reuters russian nuclearcapable strategi...         0.000356  \n",
       "927    washington reuters republicans us house repres...         0.000290  \n",
       "37300  try fix dull knife boys selfdeclared islamic s...         0.000334  \n",
       "5198   washington reuters us treasury secretary steve...         0.000134  \n",
       "4234   tokyo reuters japanese prime minister shinzo a...         0.000111  \n",
       "1252   moscow reuters russia said friday us president...         0.000067  \n",
       "5039   reuters republicans us house representatives u...         0.000312  \n",
       "702    washington reuters us republican senator jeff ...         0.000045  \n",
       "22112  one thing donald trump fears even negative pre...         0.000913  \n",
       "3546   boston reuters years captained torpedo boat pt...         0.000290  \n",
       "6146   london reuters prime minister theresa may prom...         0.000334  \n",
       "19369  johannesburg reuters south africa ruling afric...         0.000780  \n",
       "5012   reuters federal judge wisconsin dealt first le...         0.000089  \n",
       "36821  person domestic terrorism charges imagine whit...         0.001626  \n",
       "37347  gunman began shooting las vegas concert crowd ...         0.000891  \n",
       "32835                             watch hypocrisy action         0.000000  \n",
       "26899  trump received massive amount backlash earlier...         0.000312  \n",
       "43320  evil bunch freaks agenda important see forest ...         0.000401  \n",
       "44087  st century wire says people accept certain amo...         0.000245  \n",
       "34242                                                            0.000000  \n",
       "14185  ankara reuters serious danger syrian region af...         0.000134  \n",
       "40424  consider stunning ways students wasting studen...         0.000290  \n",
       "22374  donald trump threw temper tantrum saturday mor...         0.000646  \n",
       "18638  riyadh reuters saudi arabia public prosecutor ...         0.000089  \n",
       "18157  ocseny hungary reuters zoltan fenyvesi offer h...         0.001515  \n",
       "\n",
       "[13470 rows x 3 columns]"
      ]
     },
     "execution_count": 20,
     "metadata": {},
     "output_type": "execute_result"
    }
   ],
   "source": [
    "x_test"
   ]
  },
  {
   "cell_type": "markdown",
   "metadata": {},
   "source": [
    "## Creating a pipeline to vectorize the text/title"
   ]
  },
  {
   "cell_type": "code",
   "execution_count": 25,
   "metadata": {},
   "outputs": [],
   "source": [
    "from sklearn.pipeline import Pipeline\n",
    "from sklearn.preprocessing import MinMaxScaler\n",
    "from sklearn.compose import ColumnTransformer\n",
    "from sklearn.naive_bayes import MultinomialNB\n",
    "from sklearn.feature_extraction.text import CountVectorizer\n",
    "from sklearn.linear_model import LogisticRegression\n",
    "preprocessor = ColumnTransformer([\n",
    "    ('vectorizer_title', CountVectorizer(), 'title_clean'),\n",
    "    ('vectorizer_text', CountVectorizer(), 'text_clean'),\n",
    "\n",
    "    #insert function here\n",
    "    \n",
    "    \n",
    "])\n",
    "final_pipe = Pipeline([\n",
    "    ('preprocessing', preprocessor),\n",
    "    ('nb', MultinomialNB())])"
   ]
  },
  {
   "cell_type": "markdown",
   "metadata": {},
   "source": [
    "# Grid searching for best params "
   ]
  },
  {
   "cell_type": "code",
   "execution_count": null,
   "metadata": {},
   "outputs": [],
   "source": [
    "#from sklearn.pipeline import Pipeline\n",
    "#from sklearn.preprocessing import MinMaxScaler\n",
    "#from sklearn.compose import ColumnTransformer\n",
    "#from sklearn.naive_bayes import MultinomialNB\n",
    "#from sklearn.feature_extraction.text import CountVectorizer\n",
    "#preprocessor = ColumnTransformer([\n",
    "    #('vectorizer_title', CountVectorizer(), 'title'),\n",
    "    #('vectorizer_text', CountVectorizer(), 'text')])\n",
    "#final_pipe = Pipeline([\n",
    "    #('preprocessing', preprocessor),\n",
    "    #('nb', MultinomialNB())])"
   ]
  },
  {
   "cell_type": "code",
   "execution_count": 30,
   "metadata": {},
   "outputs": [],
   "source": [
    "from sklearn.model_selection import GridSearchCV\n",
    "parameters = {\n",
    "    'nb__alpha': (1,2,5,10)}\n",
    "grid_search = GridSearchCV(final_pipe,\n",
    "                           parameters,\n",
    "                           scoring = [\"f1\", \"accuracy\", \"recall\"],\n",
    "                           refit= \"accuracy\",\n",
    "                           cv=3,\n",
    "                           verbose = 1)"
   ]
  },
  {
   "cell_type": "code",
   "execution_count": 31,
   "metadata": {},
   "outputs": [
    {
     "name": "stdout",
     "output_type": "stream",
     "text": [
      "Fitting 3 folds for each of 4 candidates, totalling 12 fits\n"
     ]
    },
    {
     "name": "stderr",
     "output_type": "stream",
     "text": [
      "[Parallel(n_jobs=1)]: Using backend SequentialBackend with 1 concurrent workers.\n",
      "[Parallel(n_jobs=1)]: Done  12 out of  12 | elapsed:  5.0min finished\n"
     ]
    }
   ],
   "source": [
    "import time\n",
    "start = time.time()\n",
    "grid_search.fit(x_train,y_train)\n",
    "stop = time.time()"
   ]
  },
  {
   "cell_type": "code",
   "execution_count": 32,
   "metadata": {},
   "outputs": [
    {
     "data": {
      "text/plain": [
       "{'nb__alpha': 1}"
      ]
     },
     "execution_count": 32,
     "metadata": {},
     "output_type": "execute_result"
    }
   ],
   "source": [
    "grid_search.best_params_"
   ]
  },
  {
   "cell_type": "markdown",
   "metadata": {},
   "source": [
    "# Training model on best params found in grid_search"
   ]
  },
  {
   "cell_type": "code",
   "execution_count": 34,
   "metadata": {},
   "outputs": [],
   "source": [
    "from sklearn.pipeline import Pipeline\n",
    "from sklearn.preprocessing import MinMaxScaler\n",
    "from sklearn.compose import ColumnTransformer\n",
    "from sklearn.naive_bayes import MultinomialNB\n",
    "from sklearn.feature_extraction.text import CountVectorizer\n",
    "from sklearn.linear_model import LogisticRegression\n",
    "preprocessor = ColumnTransformer([\n",
    "    ('vectorizer_title', CountVectorizer(), 'title_clean'),\n",
    "    ('vectorizer_text', CountVectorizer(), 'text_clean'),\n",
    "\n",
    "    #insert function here\n",
    "    \n",
    "    \n",
    "])\n",
    "final_pipe = Pipeline([\n",
    "    ('preprocessing', preprocessor),\n",
    "    ('nb', MultinomialNB())])"
   ]
  },
  {
   "cell_type": "code",
   "execution_count": 35,
   "metadata": {
    "scrolled": true
   },
   "outputs": [
    {
     "data": {
      "text/plain": [
       "Pipeline(memory=None,\n",
       "     steps=[('preprocessing', ColumnTransformer(n_jobs=None, remainder='drop', sparse_threshold=0.3,\n",
       "         transformer_weights=None,\n",
       "         transformers=[('vectorizer_title', CountVectorizer(analyzer='word', binary=False, decode_error='strict',\n",
       "        dtype=<class 'numpy.int64'>, encoding='utf-8', ...abulary=None), 'text_clean')])), ('nb', MultinomialNB(alpha=1.0, class_prior=None, fit_prior=True))])"
      ]
     },
     "execution_count": 35,
     "metadata": {},
     "output_type": "execute_result"
    }
   ],
   "source": [
    "final_pipe.fit(x_train,y_train)"
   ]
  },
  {
   "cell_type": "code",
   "execution_count": 36,
   "metadata": {},
   "outputs": [
    {
     "data": {
      "text/plain": [
       "0.9656273199703044"
      ]
     },
     "execution_count": 36,
     "metadata": {},
     "output_type": "execute_result"
    }
   ],
   "source": [
    "final_pipe.score(x_test,y_test)"
   ]
  },
  {
   "cell_type": "markdown",
   "metadata": {},
   "source": [
    "# Testing our model on some new data"
   ]
  },
  {
   "cell_type": "code",
   "execution_count": 220,
   "metadata": {
    "scrolled": true
   },
   "outputs": [],
   "source": [
    "import trafilatura\n",
    "downloaded = trafilatura.fetch_url('https://enduringvision.com/news/us_071310.php')\n",
    "text_test = trafilatura.extract(downloaded)"
   ]
  },
  {
   "cell_type": "code",
   "execution_count": 221,
   "metadata": {
    "scrolled": true
   },
   "outputs": [],
   "source": [
    "#text_test"
   ]
  },
  {
   "cell_type": "code",
   "execution_count": 222,
   "metadata": {},
   "outputs": [],
   "source": [
    "title_test=\"CONSERVATIONISTS FEAR DWINDLING PARK SPACE REDUCES PLACES KIDS CAN SAFELY GET HIGH\""
   ]
  },
  {
   "cell_type": "code",
   "execution_count": 223,
   "metadata": {},
   "outputs": [],
   "source": [
    "#text_test_2 = "
   ]
  },
  {
   "cell_type": "code",
   "execution_count": 224,
   "metadata": {},
   "outputs": [],
   "source": [
    "#title_text_2 = "
   ]
  },
  {
   "cell_type": "markdown",
   "metadata": {},
   "source": [
    "## Creating a function that cleans the test text"
   ]
  },
  {
   "cell_type": "code",
   "execution_count": 225,
   "metadata": {},
   "outputs": [],
   "source": [
    "import string\n",
    "\n",
    "punc = string.punctuation + '“' + '”' + '’' + '‘' +'—' +'€' + '❤'\n",
    "\n",
    "from nltk.corpus import stopwords\n",
    "stop_words = set(stopwords.words('english'))\n",
    "\n",
    "def clean_text(text):\n",
    "    for punctuation in punc:\n",
    "        text = text.replace(punctuation, '')\n",
    "    text = ''.join(word for word in text if not word.isdigit())\n",
    "    text = text.lower()\n",
    "    text_split = text.split()\n",
    "    for word in text_split:\n",
    "        if word in stop_words:\n",
    "            text_split.remove(word)\n",
    "    text_string = ''\n",
    "    for word in text_split:\n",
    "        text_string = text_string + ' ' + word\n",
    "    return text_string"
   ]
  },
  {
   "cell_type": "code",
   "execution_count": 226,
   "metadata": {},
   "outputs": [],
   "source": [
    "text_clean = clean_text(text_test)\n",
    "title_clean = clean_text(title_test)"
   ]
  },
  {
   "cell_type": "code",
   "execution_count": 227,
   "metadata": {
    "scrolled": true
   },
   "outputs": [
    {
     "data": {
      "text/plain": [
       "' conservationists fear dwindling park space reduces places kids safely get high letter obama administration published today naturalists conservationists expressed growing concern chronic reduction nations parks open spaces limiting safe areas americas children go get stoned decade nations youth could count darkened baseball diamond an abandoned picnic shelter they wanted smoke bowl safely without worrying crashing moving car getting caught dad walking basement read letter published latest issue high times foxnewscom havens disappearing thanks budget crises pushing children dark dangerous forests even innercity neighborhoods few tokes authors letter including michael brune executive director the sierra club argue local state governments mortgaging childrens futures save few bucks wall street elitists got us this financial mess theyre still rich kids continue have the means get high peace said brune theyre taking advantage wealthy parents lengthy vacations away home their kickass backyards with lots places hide the weed smell wont drift back the kitchen the children hardworking normal americans forced their drugs more more dangerous situations crime said shaking head sadly without safe secluded place yearolds get high american society could soon begin suffer say experts a typical suburban teen trips acid a park begins scream look those savage monkeys trying kill hes no real danger explained dr thad norton professor sociology boston university if does the same thing an urban environment could wind a whole mess trouble parents share the concerns experts conservationists are their best think ways protect their children while theyre drugs time youd just head to the river a little cush maybe on top some hilltop overlooking a nice lush valley reminisced clayton sawtooth a parent in philadelphia pa a recent pta meeting kind stuff disappearing almost enough to make just let kid smoke at home hes safe sawtooth hastily added he would never do that his son needs to believe that doing drugs terrible wrong requires sneaking around into dangerous places'"
      ]
     },
     "execution_count": 227,
     "metadata": {},
     "output_type": "execute_result"
    }
   ],
   "source": [
    "text_clean"
   ]
  },
  {
   "cell_type": "code",
   "execution_count": 228,
   "metadata": {},
   "outputs": [
    {
     "data": {
      "text/plain": [
       "' conservationists fear dwindling park space reduces places kids safely get high'"
      ]
     },
     "execution_count": 228,
     "metadata": {},
     "output_type": "execute_result"
    }
   ],
   "source": [
    "title_clean"
   ]
  },
  {
   "cell_type": "markdown",
   "metadata": {},
   "source": [
    "## Creating a general function to calculate typo ratio"
   ]
  },
  {
   "cell_type": "code",
   "execution_count": 229,
   "metadata": {},
   "outputs": [],
   "source": [
    "def typo_ratio(text):\n",
    "    text_split = text.split()\n",
    "    lenght = len(text_split)\n",
    "    typos = get_typos_t(text)\n",
    "    print()"
   ]
  },
  {
   "cell_type": "code",
   "execution_count": 230,
   "metadata": {},
   "outputs": [
    {
     "name": "stdout",
     "output_type": "stream",
     "text": [
      "\n"
     ]
    }
   ],
   "source": [
    "typo_ratio(text_clean)"
   ]
  },
  {
   "cell_type": "markdown",
   "metadata": {},
   "source": [
    "## Transforming the data as an input that the model accepts"
   ]
  },
  {
   "cell_type": "code",
   "execution_count": 231,
   "metadata": {
    "scrolled": true
   },
   "outputs": [],
   "source": [
    "test_series=pd.Series(text_clean)\n",
    "title_series=pd.Series(title_clean)"
   ]
  },
  {
   "cell_type": "code",
   "execution_count": 232,
   "metadata": {},
   "outputs": [],
   "source": [
    "test_df=pd.DataFrame({'title_clean':title_series,'text_clean':test_series, 'text_typo_ratio': get_typos_t(text_clean)})"
   ]
  },
  {
   "cell_type": "code",
   "execution_count": 233,
   "metadata": {},
   "outputs": [
    {
     "data": {
      "text/plain": [
       "array([0])"
      ]
     },
     "execution_count": 233,
     "metadata": {},
     "output_type": "execute_result"
    }
   ],
   "source": [
    "final_pipe.predict(test_df)"
   ]
  },
  {
   "cell_type": "markdown",
   "metadata": {},
   "source": [
    "# Testing the model on a new dataset made up only of fake news"
   ]
  },
  {
   "cell_type": "code",
   "execution_count": null,
   "metadata": {},
   "outputs": [],
   "source": [
    "fake_test = pd.read_csv('../raw_data/fake_extra.csv')"
   ]
  },
  {
   "cell_type": "code",
   "execution_count": null,
   "metadata": {},
   "outputs": [],
   "source": [
    "fake_test = fake_test.replace(np.nan, '', regex=True)"
   ]
  },
  {
   "cell_type": "code",
   "execution_count": null,
   "metadata": {},
   "outputs": [],
   "source": [
    "result=final_pipe.predict(preparation(fake_test))"
   ]
  },
  {
   "cell_type": "code",
   "execution_count": null,
   "metadata": {},
   "outputs": [],
   "source": [
    "unique, counts = np.unique(result, return_counts=True)\n",
    "dict(zip(unique, counts))"
   ]
  },
  {
   "cell_type": "markdown",
   "metadata": {},
   "source": [
    "# Trying a logistic regression with uncleaned data"
   ]
  },
  {
   "cell_type": "code",
   "execution_count": null,
   "metadata": {},
   "outputs": [],
   "source": []
  },
  {
   "cell_type": "markdown",
   "metadata": {},
   "source": [
    "# Trying a logistic regression with more features"
   ]
  },
  {
   "cell_type": "code",
   "execution_count": 234,
   "metadata": {},
   "outputs": [
    {
     "data": {
      "text/plain": [
       "'Conservationists Fear Dwindling Park Space Reduces Places Kids Can Safely Get High\\nIn a letter to the Obama administration published today, naturalists and conservationists expressed a growing concern that chronic reduction of the nation\\'s parks and open spaces is limiting the safe areas that America\\'s children have to go and get stoned.\\n\"For decade, our nation\\'s youth could count on a darkened baseball diamond or an abandoned picnic shelter when they wanted to smoke a bowl safely, without worrying about crashing a moving car or getting caught by Dad walking into the basement,\" read the letter, published in the latest issue of High Times and on FoxNews.com.\\n\"Now, with these havens disappearing thanks to budget crises, we\\'re pushing our children further into dark, dangerous forests -- or even inner-city neighborhoods -- for just a few tokes.\"\\nThe authors of the letter, including Michael Brune, executive director of the Sierra Club, argue that local and state governments are \"mortgaging our children\\'s futures just to save a few bucks.\"\\n\"Wall Street elitists got us into this financial mess, but they\\'re still rich, so their kids continue to have the means to get high in peace,\" said Brune. \"But while they\\'re taking advantage of their wealthy parents\\' lengthy vacations away from home, or their kickass backyards with lots of places to hide so the weed smell won\\'t drift back into the kitchen, the children of hard-working, normal Americans are forced to do their drugs in more and more dangerous situations.\"\\n\"It\\'s a crime,\" he said, shaking his head sadly.\\nWithout a safe, secluded place for 14-18 year-olds to get high, American society could soon begin to suffer, say experts.\\n\"When a typical suburban teen trips acid at a park and begins to scream \\'LOOK AT THOSE SAVAGE MONKEYS TRYING TO KILL ME,\\' he\\'s in no real danger,\" explained Dr. Thad Norton, professor of sociology at Boston University. \"But if he does the same thing in an urban environment, he could wind up in a whole mess of trouble.\"\\nParents share the concerns of experts and conservationists, and are doing their best to think of ways to protect their children while they\\'re doing drugs.\\n\"Time was, you\\'d just head up to the river for a little cush, or maybe on top of some hilltop overlooking a nice lush valley,\" reminisced Clayton Sawtooth, a parent in Philadelphia, PA, at a recent PTA meeting. \"Now, that kind of stuff is disappearing. It\\'s almost enough to make me just let my kid smoke up at home, where he\\'s safe.\"\\nSawtooth hastily added that he would never do that, because his son needs to believe that doing drugs is terrible and wrong, and requires sneaking around into dangerous places.'"
      ]
     },
     "execution_count": 234,
     "metadata": {},
     "output_type": "execute_result"
    }
   ],
   "source": [
    "text_test"
   ]
  },
  {
   "cell_type": "code",
   "execution_count": 241,
   "metadata": {},
   "outputs": [
    {
     "data": {
      "text/plain": [
       "0"
      ]
     },
     "execution_count": 241,
     "metadata": {},
     "output_type": "execute_result"
    }
   ],
   "source": [
    "get_typos_t('I my teh is curreelty living in Italy')"
   ]
  },
  {
   "cell_type": "code",
   "execution_count": 245,
   "metadata": {},
   "outputs": [],
   "source": [
    "text_2 = 'I my teh is curreelty living in Italy'"
   ]
  },
  {
   "cell_type": "code",
   "execution_count": 246,
   "metadata": {},
   "outputs": [],
   "source": [
    "def tokenize_text(text_2):\n",
    "    return text.split()"
   ]
  },
  {
   "cell_type": "code",
   "execution_count": 247,
   "metadata": {},
   "outputs": [
    {
     "data": {
      "text/plain": [
       "'I my teh is curreelty living in Italy'"
      ]
     },
     "execution_count": 247,
     "metadata": {},
     "output_type": "execute_result"
    }
   ],
   "source": [
    "text_2"
   ]
  },
  {
   "cell_type": "code",
   "execution_count": 248,
   "metadata": {},
   "outputs": [
    {
     "data": {
      "text/plain": [
       "0"
      ]
     },
     "execution_count": 248,
     "metadata": {},
     "output_type": "execute_result"
    }
   ],
   "source": [
    "get_typos_t(text_2)"
   ]
  },
  {
   "cell_type": "code",
   "execution_count": 250,
   "metadata": {},
   "outputs": [
    {
     "data": {
      "text/plain": [
       "2"
      ]
     },
     "execution_count": 250,
     "metadata": {},
     "output_type": "execute_result"
    }
   ],
   "source": [
    "get_typos_t('I my teh is cuffrreelty living in Italy'.split())"
   ]
  },
  {
   "cell_type": "code",
   "execution_count": null,
   "metadata": {},
   "outputs": [],
   "source": []
  }
 ],
 "metadata": {
  "kernelspec": {
   "display_name": "Python 3",
   "language": "python",
   "name": "python3"
  },
  "language_info": {
   "codemirror_mode": {
    "name": "ipython",
    "version": 3
   },
   "file_extension": ".py",
   "mimetype": "text/x-python",
   "name": "python",
   "nbconvert_exporter": "python",
   "pygments_lexer": "ipython3",
   "version": "3.7.7"
  },
  "toc": {
   "base_numbering": 1,
   "nav_menu": {},
   "number_sections": true,
   "sideBar": true,
   "skip_h1_title": false,
   "title_cell": "Table of Contents",
   "title_sidebar": "Contents",
   "toc_cell": false,
   "toc_position": {},
   "toc_section_display": true,
   "toc_window_display": true
  },
  "varInspector": {
   "cols": {
    "lenName": 16,
    "lenType": 16,
    "lenVar": 40
   },
   "kernels_config": {
    "python": {
     "delete_cmd_postfix": "",
     "delete_cmd_prefix": "del ",
     "library": "var_list.py",
     "varRefreshCmd": "print(var_dic_list())"
    },
    "r": {
     "delete_cmd_postfix": ") ",
     "delete_cmd_prefix": "rm(",
     "library": "var_list.r",
     "varRefreshCmd": "cat(var_dic_list()) "
    }
   },
   "types_to_exclude": [
    "module",
    "function",
    "builtin_function_or_method",
    "instance",
    "_Feature"
   ],
   "window_display": false
  }
 },
 "nbformat": 4,
 "nbformat_minor": 4
}
